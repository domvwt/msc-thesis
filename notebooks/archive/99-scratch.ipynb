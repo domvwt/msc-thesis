{
 "cells": [
  {
   "cell_type": "code",
   "execution_count": 1,
   "id": "02e6e8b5",
   "metadata": {
    "lines_to_next_cell": 2
   },
   "outputs": [],
   "source": [
    "import os\n",
    "from pathlib import Path\n",
    "\n",
    "import numpy as np\n",
    "import pandas as pd\n",
    "import networkx as nx\n",
    "import scipy.sparse as sp\n",
    "import torch\n",
    "import yaml\n",
    "\n",
    "while not Path(\"data\") in Path(\".\").iterdir():\n",
    "    os.chdir(\"..\")\n",
    "\n",
    "import mscproject.dataprep as dp\n",
    "import mscproject.features as feat\n",
    "import mscproject.simulate as sim"
   ]
  },
  {
   "cell_type": "code",
   "execution_count": 2,
   "id": "5f0b99f0",
   "metadata": {},
   "outputs": [],
   "source": [
    "%load_ext autoreload\n",
    "%autoreload 2"
   ]
  },
  {
   "cell_type": "code",
   "execution_count": 12,
   "id": "50b7d78c",
   "metadata": {},
   "outputs": [],
   "source": [
    "companies_path = \"data/graph-features/companies.parquet\"\n",
    "persons_path = \"data/graph-features/persons.parquet\"\n",
    "edges_path = \"data/graph-features/edges.parquet\""
   ]
  },
  {
   "cell_type": "code",
   "execution_count": 13,
   "id": "54d56e4e",
   "metadata": {},
   "outputs": [],
   "source": [
    "companies_df = pd.read_parquet(companies_path)\n",
    "persons_df = pd.read_parquet(persons_path)\n",
    "edges_df = pd.read_parquet(edges_path)"
   ]
  },
  {
   "cell_type": "code",
   "execution_count": 15,
   "id": "e5b53542",
   "metadata": {},
   "outputs": [
    {
     "name": "stdout",
     "output_type": "stream",
     "text": [
      "Index(['id', 'component', 'isCompany', 'name', 'foundingDate',\n",
      "       'dissolutionDate', 'countryCode', 'companiesHouseID',\n",
      "       'openCorporatesID', 'openOwnershipRegisterID', 'CompanyCategory',\n",
      "       'CompanyStatus', 'Accounts_AccountCategory', 'SICCode_SicText_1',\n",
      "       'is_anomalous', 'indegree', 'outdegree', 'closeness', 'clustering',\n",
      "       'pagerank', 'neighbour_count', 'neighbourhood_indegree',\n",
      "       'neighbourhood_outdegree', 'neighbourhood_closeness',\n",
      "       'neighbourhood_clustering', 'neighbourhood_pagerank',\n",
      "       'neighbourhood_neighbour_count'],\n",
      "      dtype='object')\n",
      "Index(['id', 'component', 'isCompany', 'birthDate', 'name', 'nationality',\n",
      "       'is_anomalous', 'indegree', 'outdegree', 'closeness', 'clustering',\n",
      "       'pagerank', 'neighbour_count', 'neighbourhood_indegree',\n",
      "       'neighbourhood_outdegree', 'neighbourhood_closeness',\n",
      "       'neighbourhood_clustering', 'neighbourhood_pagerank',\n",
      "       'neighbourhood_neighbour_count'],\n",
      "      dtype='object')\n",
      "Index(['component', 'src', 'dst', 'interestedPartyIsPerson', 'minimumShare',\n",
      "       'is_anomalous'],\n",
      "      dtype='object')\n"
     ]
    }
   ],
   "source": [
    "print(companies_df.columns)\n",
    "print(persons_df.columns)\n",
    "print(edges_df.columns)"
   ]
  },
  {
   "cell_type": "code",
   "execution_count": 17,
   "id": "ba4ca631",
   "metadata": {},
   "outputs": [],
   "source": [
    "companies_out = companies_df.loc[:, :\"is_anomalous\"]\n",
    "persons_out = persons_df.loc[:, :\"is_anomalous\"]\n",
    "edges_out = edges_df.loc[:, :\"is_anomalous\"]"
   ]
  },
  {
   "cell_type": "code",
   "execution_count": 18,
   "id": "627f8b9c",
   "metadata": {},
   "outputs": [
    {
     "name": "stdout",
     "output_type": "stream",
     "text": [
      "Index(['id', 'component', 'isCompany', 'name', 'foundingDate',\n",
      "       'dissolutionDate', 'countryCode', 'companiesHouseID',\n",
      "       'openCorporatesID', 'openOwnershipRegisterID', 'CompanyCategory',\n",
      "       'CompanyStatus', 'Accounts_AccountCategory', 'SICCode_SicText_1',\n",
      "       'is_anomalous'],\n",
      "      dtype='object')\n",
      "Index(['id', 'component', 'isCompany', 'birthDate', 'name', 'nationality',\n",
      "       'is_anomalous'],\n",
      "      dtype='object')\n",
      "Index(['component', 'src', 'dst', 'interestedPartyIsPerson', 'minimumShare',\n",
      "       'is_anomalous'],\n",
      "      dtype='object')\n"
     ]
    }
   ],
   "source": [
    "print(companies_out.columns)\n",
    "print(persons_out.columns)\n",
    "print(edges_out.columns)"
   ]
  },
  {
   "cell_type": "code",
   "execution_count": 19,
   "id": "2c2b8546",
   "metadata": {},
   "outputs": [],
   "source": [
    "companies_output_path = \"data/graph-anomalies/companies.parquet\"\n",
    "persons_output_path = \"data/graph-anomalies/persons.parquet\"\n",
    "edges_output_path = \"data/graph-anomalies/edges.parquet\""
   ]
  },
  {
   "cell_type": "code",
   "execution_count": 20,
   "id": "ce2c5aff",
   "metadata": {},
   "outputs": [],
   "source": [
    "companies_out.to_parquet(companies_output_path)\n",
    "persons_out.to_parquet(persons_output_path)\n",
    "edges_out.to_parquet(edges_output_path)"
   ]
  }
 ],
 "metadata": {
  "jupytext": {
   "formats": "ipynb,py:percent"
  },
  "kernelspec": {
   "display_name": "Python 3 (ipykernel)",
   "language": "python",
   "name": "python3"
  },
  "language_info": {
   "codemirror_mode": {
    "name": "ipython",
    "version": 3
   },
   "file_extension": ".py",
   "mimetype": "text/x-python",
   "name": "python",
   "nbconvert_exporter": "python",
   "pygments_lexer": "ipython3",
   "version": "3.9.12"
  },
  "vscode": {
   "interpreter": {
    "hash": "c9b131bfea46adc0e6841e7be18b140852cf163d67d3b9948cbb78fda58292a9"
   }
  }
 },
 "nbformat": 4,
 "nbformat_minor": 5
}
