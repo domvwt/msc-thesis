{
 "cells": [
  {
   "cell_type": "code",
   "execution_count": 135,
   "metadata": {
    "lines_to_next_cell": 2
   },
   "outputs": [],
   "source": [
    "import os\n",
    "from pathlib import Path\n",
    "\n",
    "import numpy as np\n",
    "import pandas as pd\n",
    "import matplotlib.pyplot as plt\n",
    "import yaml\n",
    "\n",
    "import pdcast as pdc\n",
    "\n",
    "while not Path(\"data\") in Path(\".\").iterdir():\n",
    "    os.chdir(\"..\")\n",
    "\n",
    "import sklearn.preprocessing as pre"
   ]
  },
  {
   "cell_type": "code",
   "execution_count": 136,
   "metadata": {},
   "outputs": [],
   "source": [
    "# Read config.\n",
    "conf_dict = yaml.safe_load(Path(\"config/conf.yaml\").read_text())\n",
    "\n",
    "persons_df = pd.read_parquet(conf_dict[\"persons_nodes\"])\n",
    "companies_df = pd.read_parquet(conf_dict[\"companies_nodes\"])\n",
    "edges_df = pd.read_parquet(conf_dict[\"edges\"])"
   ]
  },
  {
   "cell_type": "code",
   "execution_count": 137,
   "metadata": {},
   "outputs": [],
   "source": [
    "# function to convert pandas columns to datetime\n",
    "def convert_to_datetime(df, cols):\n",
    "    for col in cols:\n",
    "        df[col] = pd.to_datetime(df[col])\n",
    "    return df\n",
    "\n"
   ]
  },
  {
   "cell_type": "code",
   "execution_count": 138,
   "metadata": {},
   "outputs": [],
   "source": [
    "persons_df = convert_to_datetime(persons_df, [\"birthDate\"])"
   ]
  },
  {
   "cell_type": "code",
   "execution_count": 139,
   "metadata": {},
   "outputs": [],
   "source": [
    "companies_df = convert_to_datetime(companies_df, [\"foundingDate\", \"dissolutionDate\"])"
   ]
  },
  {
   "cell_type": "code",
   "execution_count": 140,
   "metadata": {},
   "outputs": [],
   "source": [
    "company_drop_cols = [\n",
    "    \"dissolutionDate\", # practically invariant\n",
    "    \"CompanyCategory\", # practically invariant\n",
    "]"
   ]
  },
  {
   "cell_type": "code",
   "execution_count": 141,
   "metadata": {
    "lines_to_next_cell": 2
   },
   "outputs": [],
   "source": [
    "persons_one_hot_encoder_kwargs = dict(\n",
    "    drop=\"first\",\n",
    "    sparse=False,\n",
    "    dtype=np.uint8,\n",
    "    handle_unknown=\"infrequent_if_exist\",\n",
    "    min_frequency=50,\n",
    ")\n",
    "\n",
    "companies_one_hot_encoder_kwargs = dict(\n",
    "    drop=\"first\",\n",
    "    sparse=False,\n",
    "    dtype=np.uint8,\n",
    "    handle_unknown=\"infrequent_if_exist\",\n",
    "    min_frequency=1000,\n",
    ")"
   ]
  },
  {
   "cell_type": "code",
   "execution_count": 142,
   "metadata": {},
   "outputs": [
    {
     "name": "stdout",
     "output_type": "stream",
     "text": [
      "<class 'pandas.core.frame.DataFrame'>\n",
      "RangeIndex: 32609 entries, 0 to 32608\n",
      "Data columns (total 6 columns):\n",
      " #   Column       Non-Null Count  Dtype         \n",
      "---  ------       --------------  -----         \n",
      " 0   id           32609 non-null  object        \n",
      " 1   component    32609 non-null  int64         \n",
      " 2   isCompany    32609 non-null  bool          \n",
      " 3   birthDate    32608 non-null  datetime64[ns]\n",
      " 4   name         32609 non-null  object        \n",
      " 5   nationality  30695 non-null  object        \n",
      "dtypes: bool(1), datetime64[ns](1), int64(1), object(3)\n",
      "memory usage: 1.3+ MB\n"
     ]
    }
   ],
   "source": [
    "persons_df.info()"
   ]
  },
  {
   "cell_type": "code",
   "execution_count": 143,
   "metadata": {},
   "outputs": [],
   "source": [
    "from sklearn.pipeline import Pipeline, make_pipeline\n",
    "from sklearn.compose import ColumnTransformer"
   ]
  },
  {
   "cell_type": "code",
   "execution_count": 144,
   "metadata": {},
   "outputs": [],
   "source": [
    "def identity(x):\n",
    "    return x\n",
    "\n",
    "passthough_kwargs = dict(\n",
    "    func=identity,\n",
    "    feature_names_out=\"one-to-one\"\n",
    ")"
   ]
  },
  {
   "cell_type": "code",
   "execution_count": 145,
   "metadata": {
    "lines_to_next_cell": 2
   },
   "outputs": [],
   "source": [
    "companies_ct = ColumnTransformer(\n",
    "    [\n",
    "        (\n",
    "            \"one_hot_encoder\",\n",
    "            pre.OneHotEncoder(**companies_one_hot_encoder_kwargs),\n",
    "            [\n",
    "                \"countryCode\",\n",
    "                \"CompanyStatus\",\n",
    "                \"Accounts_AccountCategory\",\n",
    "                \"SICCode_SicText_1\",\n",
    "            ],\n",
    "        ),\n",
    "        (\"standard_scaler\", pre.StandardScaler(), [\"foundingDate\"]),\n",
    "        # pass through the id and component\n",
    "        # (\"passthrough\", pre.FunctionTransformer(**passthough_kwargs), [\"id\", \"component\"]),\n",
    "    ],\n",
    "    remainder=\"drop\",\n",
    ")"
   ]
  },
  {
   "cell_type": "code",
   "execution_count": 146,
   "metadata": {},
   "outputs": [],
   "source": [
    "persons_ct = ColumnTransformer(\n",
    "    [\n",
    "        (\"one_hot_encoder\", pre.OneHotEncoder(**persons_one_hot_encoder_kwargs), [\"nationality\"]),\n",
    "        (\"standard_scaler\", pre.StandardScaler(), [\"birthDate\"]),\n",
    "        # pass through the id and component\n",
    "        # (\"passthrough\", pre.FunctionTransformer(**passthough_kwargs), [\"id\", \"component\"]),\n",
    "    ],\n",
    "    remainder=\"drop\",\n",
    ")"
   ]
  },
  {
   "cell_type": "code",
   "execution_count": 147,
   "metadata": {},
   "outputs": [],
   "source": [
    "def remove_from_col_names(df, s):\n",
    "    df.columns = [col.replace(s, \"\") for col in df.columns]\n",
    "    return df"
   ]
  },
  {
   "cell_type": "code",
   "execution_count": 148,
   "metadata": {},
   "outputs": [
    {
     "name": "stdout",
     "output_type": "stream",
     "text": [
      "<class 'pandas.core.frame.DataFrame'>\n",
      "RangeIndex: 32609 entries, 0 to 32608\n",
      "Data columns (total 15 columns):\n",
      " #   Column                                           Non-Null Count  Dtype  \n",
      "---  ------                                           --------------  -----  \n",
      " 0   id                                               32609 non-null  object \n",
      " 1   component                                        32609 non-null  int64  \n",
      " 2   one_hot_encoder__nationality_BE                  32609 non-null  bool   \n",
      " 3   one_hot_encoder__nationality_CA                  32609 non-null  bool   \n",
      " 4   one_hot_encoder__nationality_CH                  32609 non-null  bool   \n",
      " 5   one_hot_encoder__nationality_DE                  32609 non-null  bool   \n",
      " 6   one_hot_encoder__nationality_ES                  32609 non-null  bool   \n",
      " 7   one_hot_encoder__nationality_GB                  32609 non-null  bool   \n",
      " 8   one_hot_encoder__nationality_IE                  32609 non-null  bool   \n",
      " 9   one_hot_encoder__nationality_PH                  32609 non-null  bool   \n",
      " 10  one_hot_encoder__nationality_PL                  32609 non-null  bool   \n",
      " 11  one_hot_encoder__nationality_ZA                  32609 non-null  bool   \n",
      " 12  one_hot_encoder__nationality_None                32609 non-null  bool   \n",
      " 13  one_hot_encoder__nationality_infrequent_sklearn  32609 non-null  bool   \n",
      " 14  standard_scaler__birthDate                       32609 non-null  float32\n",
      "dtypes: bool(12), float32(1), int64(1), object(1)\n",
      "memory usage: 1019.2+ KB\n"
     ]
    }
   ],
   "source": [
    "persons_processed_df = persons_ct.fit_transform(persons_df)\n",
    "persons_processed_df = pd.DataFrame(persons_processed_df, columns=persons_ct.get_feature_names_out())\n",
    "persons_processed_df = pdc.downcast(persons_processed_df, numpy_dtypes_only=True)\n",
    "persons_processed_df = persons_df[[\"id\", \"component\"]].join(persons_processed_df)\n",
    "persons_processed_df.info()"
   ]
  },
  {
   "cell_type": "code",
   "execution_count": 150,
   "metadata": {},
   "outputs": [
    {
     "name": "stdout",
     "output_type": "stream",
     "text": [
      "<class 'pandas.core.frame.DataFrame'>\n",
      "RangeIndex: 96530 entries, 0 to 96529\n",
      "Data columns (total 29 columns):\n",
      " #   Column                                                                                                        Non-Null Count  Dtype  \n",
      "---  ------                                                                                                        --------------  -----  \n",
      " 0   id                                                                                                            96530 non-null  object \n",
      " 1   component                                                                                                     96530 non-null  int64  \n",
      " 2   one_hot_encoder__CompanyStatus_Active - Proposal to Strike off                                                96530 non-null  bool   \n",
      " 3   one_hot_encoder__CompanyStatus_None                                                                           96530 non-null  bool   \n",
      " 4   one_hot_encoder__CompanyStatus_infrequent_sklearn                                                             96530 non-null  bool   \n",
      " 5   one_hot_encoder__Accounts_AccountCategory_DORMANT                                                             96530 non-null  bool   \n",
      " 6   one_hot_encoder__Accounts_AccountCategory_FULL                                                                96530 non-null  bool   \n",
      " 7   one_hot_encoder__Accounts_AccountCategory_GROUP                                                               96530 non-null  bool   \n",
      " 8   one_hot_encoder__Accounts_AccountCategory_MICRO ENTITY                                                        96530 non-null  bool   \n",
      " 9   one_hot_encoder__Accounts_AccountCategory_NO ACCOUNTS FILED                                                   96530 non-null  bool   \n",
      " 10  one_hot_encoder__Accounts_AccountCategory_SMALL                                                               96530 non-null  bool   \n",
      " 11  one_hot_encoder__Accounts_AccountCategory_TOTAL EXEMPTION FULL                                                96530 non-null  bool   \n",
      " 12  one_hot_encoder__Accounts_AccountCategory_UNAUDITED ABRIDGED                                                  96530 non-null  bool   \n",
      " 13  one_hot_encoder__Accounts_AccountCategory_None                                                                96530 non-null  bool   \n",
      " 14  one_hot_encoder__Accounts_AccountCategory_infrequent_sklearn                                                  96530 non-null  bool   \n",
      " 15  one_hot_encoder__SICCode_SicText_1_41202 - Construction of domestic buildings                                 96530 non-null  bool   \n",
      " 16  one_hot_encoder__SICCode_SicText_1_64209 - Activities of other holding companies n.e.c.                       96530 non-null  bool   \n",
      " 17  one_hot_encoder__SICCode_SicText_1_68100 - Buying and selling of own real estate                              96530 non-null  bool   \n",
      " 18  one_hot_encoder__SICCode_SicText_1_68209 - Other letting and operating of own or leased real estate           96530 non-null  bool   \n",
      " 19  one_hot_encoder__SICCode_SicText_1_68320 - Management of real estate on a fee or contract basis               96530 non-null  bool   \n",
      " 20  one_hot_encoder__SICCode_SicText_1_70100 - Activities of head offices                                         96530 non-null  bool   \n",
      " 21  one_hot_encoder__SICCode_SicText_1_70229 - Management consultancy activities other than financial management  96530 non-null  bool   \n",
      " 22  one_hot_encoder__SICCode_SicText_1_74990 - Non-trading company                                                96530 non-null  bool   \n",
      " 23  one_hot_encoder__SICCode_SicText_1_82990 - Other business support service activities n.e.c.                   96530 non-null  bool   \n",
      " 24  one_hot_encoder__SICCode_SicText_1_96090 - Other service activities n.e.c.                                    96530 non-null  bool   \n",
      " 25  one_hot_encoder__SICCode_SicText_1_99999 - Dormant Company                                                    96530 non-null  bool   \n",
      " 26  one_hot_encoder__SICCode_SicText_1_None                                                                       96530 non-null  bool   \n",
      " 27  one_hot_encoder__SICCode_SicText_1_infrequent_sklearn                                                         96530 non-null  bool   \n",
      " 28  standard_scaler__foundingDate                                                                                 96530 non-null  float32\n",
      "dtypes: bool(26), float32(1), int64(1), object(1)\n",
      "memory usage: 4.2+ MB\n"
     ]
    }
   ],
   "source": [
    "companies_processed_df = companies_ct.fit_transform(companies_df)\n",
    "companies_processed_df = pd.DataFrame(companies_processed_df, columns=companies_ct.get_feature_names_out())\n",
    "companies_processed_df = remove_from_col_names(companies_processed_df, \"passthrough__\")\n",
    "companies_processed_df = pdc.downcast(companies_processed_df, numpy_dtypes_only=True)\n",
    "companies_processed_df = companies_df[[\"id\", \"component\"]].join(companies_processed_df)\n",
    "companies_processed_df.info()"
   ]
  },
  {
   "cell_type": "code",
   "execution_count": 153,
   "metadata": {},
   "outputs": [],
   "source": [
    "edges_processed_df = edges_df.drop(columns=[\"interestedPartyIsPerson\"])\n",
    "edges_processed_df[\"minimumShare\"] = pre.StandardScaler().fit_transform(edges_processed_df[\"minimumShare\"].values.reshape(-1, 1))"
   ]
  },
  {
   "cell_type": "code",
   "execution_count": 154,
   "metadata": {},
   "outputs": [
    {
     "data": {
      "text/html": [
       "<div>\n",
       "<style scoped>\n",
       "    .dataframe tbody tr th:only-of-type {\n",
       "        vertical-align: middle;\n",
       "    }\n",
       "\n",
       "    .dataframe tbody tr th {\n",
       "        vertical-align: top;\n",
       "    }\n",
       "\n",
       "    .dataframe thead th {\n",
       "        text-align: right;\n",
       "    }\n",
       "</style>\n",
       "<table border=\"1\" class=\"dataframe\">\n",
       "  <thead>\n",
       "    <tr style=\"text-align: right;\">\n",
       "      <th></th>\n",
       "      <th>component</th>\n",
       "      <th>src</th>\n",
       "      <th>dst</th>\n",
       "      <th>minimumShare</th>\n",
       "    </tr>\n",
       "  </thead>\n",
       "  <tbody>\n",
       "    <tr>\n",
       "      <th>0</th>\n",
       "      <td>7225</td>\n",
       "      <td>2356236782051912119</td>\n",
       "      <td>3732317247976753020</td>\n",
       "      <td>1.085958</td>\n",
       "    </tr>\n",
       "    <tr>\n",
       "      <th>1</th>\n",
       "      <td>7225</td>\n",
       "      <td>2356236782051912119</td>\n",
       "      <td>14047622054401208865</td>\n",
       "      <td>1.085958</td>\n",
       "    </tr>\n",
       "    <tr>\n",
       "      <th>2</th>\n",
       "      <td>7225</td>\n",
       "      <td>692314493058510508</td>\n",
       "      <td>390416379365304942</td>\n",
       "      <td>-0.976339</td>\n",
       "    </tr>\n",
       "    <tr>\n",
       "      <th>3</th>\n",
       "      <td>7225</td>\n",
       "      <td>15829769449001705952</td>\n",
       "      <td>3732317247976753020</td>\n",
       "      <td>1.085958</td>\n",
       "    </tr>\n",
       "    <tr>\n",
       "      <th>4</th>\n",
       "      <td>7225</td>\n",
       "      <td>15829769449001705952</td>\n",
       "      <td>17654996330473534901</td>\n",
       "      <td>1.085958</td>\n",
       "    </tr>\n",
       "    <tr>\n",
       "      <th>...</th>\n",
       "      <td>...</td>\n",
       "      <td>...</td>\n",
       "      <td>...</td>\n",
       "      <td>...</td>\n",
       "    </tr>\n",
       "    <tr>\n",
       "      <th>134830</th>\n",
       "      <td>455266566409</td>\n",
       "      <td>18192837036067908255</td>\n",
       "      <td>15233613116661558738</td>\n",
       "      <td>-0.976339</td>\n",
       "    </tr>\n",
       "    <tr>\n",
       "      <th>134831</th>\n",
       "      <td>455266566409</td>\n",
       "      <td>18168561485814806981</td>\n",
       "      <td>7879326061664287605</td>\n",
       "      <td>-0.976339</td>\n",
       "    </tr>\n",
       "    <tr>\n",
       "      <th>134832</th>\n",
       "      <td>455266566409</td>\n",
       "      <td>2056455430524085329</td>\n",
       "      <td>7879326061664287605</td>\n",
       "      <td>-0.976339</td>\n",
       "    </tr>\n",
       "    <tr>\n",
       "      <th>134833</th>\n",
       "      <td>455266566409</td>\n",
       "      <td>15391449340824074448</td>\n",
       "      <td>15233613116661558738</td>\n",
       "      <td>-0.976339</td>\n",
       "    </tr>\n",
       "    <tr>\n",
       "      <th>134834</th>\n",
       "      <td>455266566409</td>\n",
       "      <td>2056455430524085329</td>\n",
       "      <td>15233613116661558738</td>\n",
       "      <td>-0.976339</td>\n",
       "    </tr>\n",
       "  </tbody>\n",
       "</table>\n",
       "<p>134835 rows × 4 columns</p>\n",
       "</div>"
      ],
      "text/plain": [
       "           component                   src                   dst  minimumShare\n",
       "0               7225   2356236782051912119   3732317247976753020      1.085958\n",
       "1               7225   2356236782051912119  14047622054401208865      1.085958\n",
       "2               7225    692314493058510508    390416379365304942     -0.976339\n",
       "3               7225  15829769449001705952   3732317247976753020      1.085958\n",
       "4               7225  15829769449001705952  17654996330473534901      1.085958\n",
       "...              ...                   ...                   ...           ...\n",
       "134830  455266566409  18192837036067908255  15233613116661558738     -0.976339\n",
       "134831  455266566409  18168561485814806981   7879326061664287605     -0.976339\n",
       "134832  455266566409   2056455430524085329   7879326061664287605     -0.976339\n",
       "134833  455266566409  15391449340824074448  15233613116661558738     -0.976339\n",
       "134834  455266566409   2056455430524085329  15233613116661558738     -0.976339\n",
       "\n",
       "[134835 rows x 4 columns]"
      ]
     },
     "execution_count": 154,
     "metadata": {},
     "output_type": "execute_result"
    }
   ],
   "source": [
    "edges_processed_df"
   ]
  }
 ],
 "metadata": {
  "jupytext": {
   "formats": "ipynb,py:percent"
  },
  "kernelspec": {
   "display_name": "Python 3.9.12 ('.venv': poetry)",
   "language": "python",
   "name": "python3"
  },
  "language_info": {
   "codemirror_mode": {
    "name": "ipython",
    "version": 3
   },
   "file_extension": ".py",
   "mimetype": "text/x-python",
   "name": "python",
   "nbconvert_exporter": "python",
   "pygments_lexer": "ipython3",
   "version": "3.9.12"
  },
  "vscode": {
   "interpreter": {
    "hash": "c9b131bfea46adc0e6841e7be18b140852cf163d67d3b9948cbb78fda58292a9"
   }
  }
 },
 "nbformat": 4,
 "nbformat_minor": 2
}
