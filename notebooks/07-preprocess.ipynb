{
 "cells": [
  {
   "cell_type": "code",
   "execution_count": 4,
   "metadata": {},
   "outputs": [],
   "source": [
    "import os\n",
    "from pathlib import Path\n",
    "\n",
    "import numpy as np\n",
    "import pandas as pd\n",
    "import matplotlib.pyplot as plt\n",
    "import pyspark.sql.functions as F\n",
    "import yaml\n",
    "\n",
    "import pandas_profiling as pp\n",
    "\n",
    "import graphframes as gf\n",
    "from pyspark import SparkContext, SparkConf\n",
    "from pyspark.sql import SparkSession, Column\n",
    "\n",
    "import pdcast as pdc\n",
    "\n",
    "while not Path(\"data\") in Path(\".\").iterdir():\n",
    "    os.chdir(\"..\")\n",
    "\n",
    "import sklearn.preprocessing as pre\n"
   ]
  },
  {
   "cell_type": "code",
   "execution_count": 79,
   "metadata": {},
   "outputs": [],
   "source": [
    "# Read config.\n",
    "conf_dict = yaml.safe_load(Path(\"config/conf.yaml\").read_text())\n",
    "\n",
    "persons_df = pd.read_parquet(conf_dict[\"persons_nodes\"])\n",
    "companies_df = pd.read_parquet(conf_dict[\"companies_nodes\"])\n",
    "edges_df = pd.read_parquet(conf_dict[\"edges\"])"
   ]
  },
  {
   "cell_type": "code",
   "execution_count": 80,
   "metadata": {},
   "outputs": [],
   "source": [
    "# function to convert pandas columns to datetime\n",
    "def convert_to_datetime(df, cols):\n",
    "    for col in cols:\n",
    "        df[col] = pd.to_datetime(df[col])\n",
    "    return df\n"
   ]
  },
  {
   "cell_type": "code",
   "execution_count": 81,
   "metadata": {},
   "outputs": [],
   "source": [
    "persons_df = convert_to_datetime(persons_df, [\"birthDate\"])"
   ]
  },
  {
   "cell_type": "code",
   "execution_count": 82,
   "metadata": {},
   "outputs": [],
   "source": [
    "companies_df = convert_to_datetime(companies_df, [\"foundingDate\"])\n",
    "companies_df = companies_df.drop(columns=[\"dissolutionDate\"])"
   ]
  },
  {
   "cell_type": "code",
   "execution_count": null,
   "metadata": {},
   "outputs": [],
   "source": []
  },
  {
   "cell_type": "code",
   "execution_count": null,
   "metadata": {},
   "outputs": [],
   "source": [
    "company_drop_cols = [\n",
    "    \"dissolutionDate\", # practically invariant\n",
    "    \"CompanyCategory\", # practically invariant\n",
    "    \n",
    "]"
   ]
  },
  {
   "cell_type": "code",
   "execution_count": 83,
   "metadata": {},
   "outputs": [],
   "source": [
    "persons_one_hot_encoder_kwargs = dict(\n",
    "    drop=\"first\",\n",
    "    sparse=False,\n",
    "    dtype=int,\n",
    "    handle_unknown=\"infrequent_if_exist\",\n",
    "    min_frequency=50,\n",
    ")\n",
    "\n",
    "companies_one_hot_encoder_kwargs = dict(\n",
    "    drop=\"first\",\n",
    "    sparse=False,\n",
    "    dtype=int,\n",
    "    handle_unknown=\"infrequent_if_exist\",\n",
    "    min_frequency=1000,\n",
    ")\n"
   ]
  },
  {
   "cell_type": "code",
   "execution_count": 84,
   "metadata": {},
   "outputs": [
    {
     "name": "stdout",
     "output_type": "stream",
     "text": [
      "<class 'pandas.core.frame.DataFrame'>\n",
      "RangeIndex: 32609 entries, 0 to 32608\n",
      "Data columns (total 6 columns):\n",
      " #   Column       Non-Null Count  Dtype         \n",
      "---  ------       --------------  -----         \n",
      " 0   id           32609 non-null  object        \n",
      " 1   component    32609 non-null  int64         \n",
      " 2   isCompany    32609 non-null  bool          \n",
      " 3   birthDate    32608 non-null  datetime64[ns]\n",
      " 4   name         32609 non-null  object        \n",
      " 5   nationality  30695 non-null  object        \n",
      "dtypes: bool(1), datetime64[ns](1), int64(1), object(3)\n",
      "memory usage: 1.3+ MB\n"
     ]
    }
   ],
   "source": [
    "persons_df.info()"
   ]
  },
  {
   "cell_type": "code",
   "execution_count": 85,
   "metadata": {},
   "outputs": [],
   "source": [
    "from sklearn.pipeline import Pipeline, make_pipeline\n",
    "from sklearn.compose import ColumnTransformer"
   ]
  },
  {
   "cell_type": "code",
   "execution_count": 88,
   "metadata": {},
   "outputs": [],
   "source": [
    "companies_ct = ColumnTransformer(\n",
    "    [\n",
    "        (\n",
    "            \"one_hot_encoder\",\n",
    "            pre.OneHotEncoder(**companies_one_hot_encoder_kwargs),\n",
    "            [\n",
    "                \"countryCode\",\n",
    "                \"CompanyStatus\",\n",
    "                \"Accounts_AccountCategory\",\n",
    "                \"SICCode_SicText_1\",\n",
    "            ],\n",
    "        ),\n",
    "        (\"standard_scaler\", pre.StandardScaler(), [\"foundingDate\"]),\n",
    "    ],\n",
    "    remainder=\"drop\",\n",
    ")\n"
   ]
  },
  {
   "cell_type": "code",
   "execution_count": 89,
   "metadata": {},
   "outputs": [],
   "source": [
    "persons_ct = ColumnTransformer(\n",
    "    [\n",
    "        (\"one_hot_encoder\", pre.OneHotEncoder(**persons_one_hot_encoder_kwargs), [\"nationality\"]),\n",
    "        (\"standard_scaler\", pre.StandardScaler(), [\"birthDate\"]),\n",
    "    ],\n",
    "    remainder=\"drop\",\n",
    ")\n"
   ]
  },
  {
   "cell_type": "code",
   "execution_count": 90,
   "metadata": {},
   "outputs": [
    {
     "data": {
      "text/plain": [
       "array([[ 0.        ,  0.        ,  0.        , ...,  0.        ,\n",
       "         0.        ,  0.82851403],\n",
       "       [ 0.        ,  0.        ,  0.        , ...,  0.        ,\n",
       "         0.        , -0.86265711],\n",
       "       [ 0.        ,  0.        ,  0.        , ...,  0.        ,\n",
       "         0.        ,  0.87907438],\n",
       "       ...,\n",
       "       [ 0.        ,  0.        ,  0.        , ...,  0.        ,\n",
       "         0.        ,  0.51807759],\n",
       "       [ 0.        ,  0.        ,  0.        , ...,  0.        ,\n",
       "         0.        , -0.24823433],\n",
       "       [ 0.        ,  0.        ,  0.        , ...,  0.        ,\n",
       "         0.        , -0.62192323]])"
      ]
     },
     "execution_count": 90,
     "metadata": {},
     "output_type": "execute_result"
    }
   ],
   "source": [
    "persons_ct.fit_transform(persons_df)"
   ]
  },
  {
   "cell_type": "code",
   "execution_count": 91,
   "metadata": {},
   "outputs": [
    {
     "data": {
      "text/plain": [
       "array(['one_hot_encoder__nationality_BE',\n",
       "       'one_hot_encoder__nationality_CA',\n",
       "       'one_hot_encoder__nationality_CH',\n",
       "       'one_hot_encoder__nationality_DE',\n",
       "       'one_hot_encoder__nationality_ES',\n",
       "       'one_hot_encoder__nationality_GB',\n",
       "       'one_hot_encoder__nationality_IE',\n",
       "       'one_hot_encoder__nationality_PH',\n",
       "       'one_hot_encoder__nationality_PL',\n",
       "       'one_hot_encoder__nationality_ZA',\n",
       "       'one_hot_encoder__nationality_None',\n",
       "       'one_hot_encoder__nationality_infrequent_sklearn',\n",
       "       'standard_scaler__birthDate'], dtype=object)"
      ]
     },
     "execution_count": 91,
     "metadata": {},
     "output_type": "execute_result"
    }
   ],
   "source": [
    "persons_ct.get_feature_names_out()"
   ]
  },
  {
   "cell_type": "code",
   "execution_count": 92,
   "metadata": {},
   "outputs": [
    {
     "data": {
      "text/plain": [
       "array([[0.        , 0.        , 0.        , ..., 0.        , 0.        ,\n",
       "        0.25971065],\n",
       "       [0.        , 0.        , 0.        , ..., 0.        , 0.        ,\n",
       "        0.4062732 ],\n",
       "       [0.        , 0.        , 0.        , ..., 0.        , 1.        ,\n",
       "        0.36307374],\n",
       "       ...,\n",
       "       [0.        , 0.        , 1.        , ..., 0.        , 0.        ,\n",
       "        0.37234486],\n",
       "       [0.        , 0.        , 0.        , ..., 0.        , 0.        ,\n",
       "        0.3543944 ],\n",
       "       [0.        , 0.        , 0.        , ..., 0.        , 0.        ,\n",
       "        0.18978276]])"
      ]
     },
     "execution_count": 92,
     "metadata": {},
     "output_type": "execute_result"
    }
   ],
   "source": [
    "companies_ct.fit_transform(companies_df)"
   ]
  },
  {
   "cell_type": "code",
   "execution_count": 93,
   "metadata": {},
   "outputs": [
    {
     "data": {
      "text/plain": [
       "array(['one_hot_encoder__CompanyCategory_None',\n",
       "       'one_hot_encoder__CompanyCategory_infrequent_sklearn',\n",
       "       'one_hot_encoder__CompanyStatus_Active - Proposal to Strike off',\n",
       "       'one_hot_encoder__CompanyStatus_None',\n",
       "       'one_hot_encoder__CompanyStatus_infrequent_sklearn',\n",
       "       'one_hot_encoder__Accounts_AccountCategory_DORMANT',\n",
       "       'one_hot_encoder__Accounts_AccountCategory_FULL',\n",
       "       'one_hot_encoder__Accounts_AccountCategory_GROUP',\n",
       "       'one_hot_encoder__Accounts_AccountCategory_MICRO ENTITY',\n",
       "       'one_hot_encoder__Accounts_AccountCategory_NO ACCOUNTS FILED',\n",
       "       'one_hot_encoder__Accounts_AccountCategory_SMALL',\n",
       "       'one_hot_encoder__Accounts_AccountCategory_TOTAL EXEMPTION FULL',\n",
       "       'one_hot_encoder__Accounts_AccountCategory_UNAUDITED ABRIDGED',\n",
       "       'one_hot_encoder__Accounts_AccountCategory_None',\n",
       "       'one_hot_encoder__Accounts_AccountCategory_infrequent_sklearn',\n",
       "       'one_hot_encoder__SICCode_SicText_1_41202 - Construction of domestic buildings',\n",
       "       'one_hot_encoder__SICCode_SicText_1_64209 - Activities of other holding companies n.e.c.',\n",
       "       'one_hot_encoder__SICCode_SicText_1_68100 - Buying and selling of own real estate',\n",
       "       'one_hot_encoder__SICCode_SicText_1_68209 - Other letting and operating of own or leased real estate',\n",
       "       'one_hot_encoder__SICCode_SicText_1_68320 - Management of real estate on a fee or contract basis',\n",
       "       'one_hot_encoder__SICCode_SicText_1_70100 - Activities of head offices',\n",
       "       'one_hot_encoder__SICCode_SicText_1_70229 - Management consultancy activities other than financial management',\n",
       "       'one_hot_encoder__SICCode_SicText_1_74990 - Non-trading company',\n",
       "       'one_hot_encoder__SICCode_SicText_1_82990 - Other business support service activities n.e.c.',\n",
       "       'one_hot_encoder__SICCode_SicText_1_96090 - Other service activities n.e.c.',\n",
       "       'one_hot_encoder__SICCode_SicText_1_99999 - Dormant Company',\n",
       "       'one_hot_encoder__SICCode_SicText_1_None',\n",
       "       'one_hot_encoder__SICCode_SicText_1_infrequent_sklearn',\n",
       "       'standard_scaler__foundingDate'], dtype=object)"
      ]
     },
     "execution_count": 93,
     "metadata": {},
     "output_type": "execute_result"
    }
   ],
   "source": [
    "companies_ct.get_feature_names_out()"
   ]
  },
  {
   "cell_type": "code",
   "execution_count": null,
   "metadata": {},
   "outputs": [],
   "source": []
  }
 ],
 "metadata": {
  "kernelspec": {
   "display_name": "Python 3.9.12 ('.venv': poetry)",
   "language": "python",
   "name": "python3"
  },
  "language_info": {
   "codemirror_mode": {
    "name": "ipython",
    "version": 3
   },
   "file_extension": ".py",
   "mimetype": "text/x-python",
   "name": "python",
   "nbconvert_exporter": "python",
   "pygments_lexer": "ipython3",
   "version": "3.9.12"
  },
  "orig_nbformat": 4,
  "vscode": {
   "interpreter": {
    "hash": "c9b131bfea46adc0e6841e7be18b140852cf163d67d3b9948cbb78fda58292a9"
   }
  }
 },
 "nbformat": 4,
 "nbformat_minor": 2
}
