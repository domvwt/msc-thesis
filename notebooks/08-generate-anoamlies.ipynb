{
 "cells": [
  {
   "cell_type": "code",
   "execution_count": 1,
   "metadata": {},
   "outputs": [],
   "source": [
    "import os\n",
    "from pathlib import Path\n",
    "\n",
    "import numpy as np\n",
    "import pandas as pd\n",
    "import matplotlib.pyplot as plt\n",
    "import pyspark.sql.functions as F\n",
    "import yaml\n",
    "\n",
    "import pandas_profiling as pp\n",
    "\n",
    "import graphframes as gf\n",
    "from pyspark import SparkContext, SparkConf\n",
    "from pyspark.sql import SparkSession, Column\n",
    "\n",
    "import pdcast as pdc\n",
    "\n",
    "while not Path(\"data\") in Path(\".\").iterdir():\n",
    "    os.chdir(\"..\")\n",
    "\n",
    "import sklearn.preprocessing as pre\n"
   ]
  },
  {
   "cell_type": "code",
   "execution_count": 2,
   "metadata": {},
   "outputs": [],
   "source": [
    "# Read config.\n",
    "conf_dict = yaml.safe_load(Path(\"config/conf.yaml\").read_text())\n",
    "\n",
    "persons_df = pd.read_parquet(conf_dict[\"persons_nodes\"])\n",
    "companies_df = pd.read_parquet(conf_dict[\"companies_nodes\"])\n",
    "edges_df = pd.read_parquet(conf_dict[\"edges\"])"
   ]
  },
  {
   "cell_type": "code",
   "execution_count": 3,
   "metadata": {},
   "outputs": [
    {
     "data": {
      "text/plain": [
       "component\n",
       "1555            252\n",
       "8589938228      111\n",
       "14328            80\n",
       "9784             72\n",
       "6950             70\n",
       "               ... \n",
       "60129570143       1\n",
       "17179899118       1\n",
       "137439014439      1\n",
       "266288017586      1\n",
       "137438985685      1\n",
       "Name: id, Length: 8586, dtype: int64"
      ]
     },
     "execution_count": 3,
     "metadata": {},
     "output_type": "execute_result"
    }
   ],
   "source": [
    "persons_df.groupby(\"component\")[\"id\"].count().sort_values(ascending=False)"
   ]
  },
  {
   "cell_type": "code",
   "execution_count": 4,
   "metadata": {},
   "outputs": [],
   "source": [
    "# select 10% of the person nodes\n",
    "anomalous_persons_df = persons_df.sample(frac=0.1, random_state=42)"
   ]
  },
  {
   "cell_type": "code",
   "execution_count": 5,
   "metadata": {},
   "outputs": [],
   "source": [
    "# select 10% of the company nodes\n",
    "anomalous_companies_df = companies_df.sample(frac=0.1, random_state=42)"
   ]
  },
  {
   "cell_type": "code",
   "execution_count": 6,
   "metadata": {},
   "outputs": [],
   "source": [
    "# flag the anomalous entities\n",
    "persons_df[\"is_anomalous\"] = False\n",
    "persons_df.loc[anomalous_persons_df.index, \"is_anomalous\"] = True\n",
    "companies_df[\"is_anomalous\"] = False\n",
    "companies_df.loc[anomalous_companies_df.index, \"is_anomalous\"] = True\n"
   ]
  },
  {
   "cell_type": "code",
   "execution_count": 7,
   "metadata": {},
   "outputs": [],
   "source": [
    "# select edges for anomalous persons and companies\n",
    "# anomalous_edges_df = edges_df[edges_df[\"src\"].isin(anomalous_persons_df[\"id\"])]\n",
    "anomalous_edges_df = edges_df[\n",
    "    edges_df[\"src\"].isin(\n",
    "        set(\n",
    "            anomalous_persons_df[\"id\"].to_list()\n",
    "            + anomalous_companies_df[\"id\"].to_list()\n",
    "        )\n",
    "    )\n",
    "]\n",
    "anomalous_edges_df = anomalous_edges_df.copy(deep=True)"
   ]
  },
  {
   "cell_type": "code",
   "execution_count": 10,
   "metadata": {},
   "outputs": [],
   "source": [
    "\n",
    "# select array indexes where values are equal\n",
    "def indexes_not_shuffled(a1, a2):\n",
    "    return np.argwhere(a1 == a2)\n",
    "\n",
    "\n",
    "def efficient_shuffle(a1):\n",
    "    def inner(a1, _i):\n",
    "        print(_i, end=\"\\r\")\n",
    "        a2 = a1.copy()\n",
    "        rng = np.random.default_rng(42 + _i)\n",
    "        for i in range(100):\n",
    "            to_shuffle = indexes_not_shuffled(a1, a2)\n",
    "            a2[to_shuffle] = rng.permutation(a2[to_shuffle])\n",
    "            if all_shuffled(a1, a2):\n",
    "                break\n",
    "        else:\n",
    "            inner(a1, _i + 1)\n",
    "        return a2\n",
    "    return inner(a1, 0)\n"
   ]
  },
  {
   "cell_type": "code",
   "execution_count": 11,
   "metadata": {},
   "outputs": [
    {
     "name": "stdout",
     "output_type": "stream",
     "text": [
      "24\r"
     ]
    }
   ],
   "source": [
    "# permute the edges from anomalous entities until they are all shuffled\n",
    "\n",
    "rng = np.random.default_rng(42)\n",
    "\n",
    "shuffled_edges_df = anomalous_edges_df.copy()\n",
    "\n",
    "def all_shuffled(a1, a2):\n",
    "    return np.all(a1 != a2)\n",
    "\n",
    "i = 0\n",
    "\n",
    "original_edges = shuffled_edges_df[\"src\"].to_numpy()\n",
    "\n",
    "shuffled_edges = efficient_shuffle(original_edges)\n",
    "\n",
    "shuffled_edges_df[\"src\"] = shuffled_edges\n"
   ]
  },
  {
   "cell_type": "code",
   "execution_count": 13,
   "metadata": {},
   "outputs": [],
   "source": [
    "# replace the edges with the shuffled ones\n",
    "edges_anomalised_df = edges_df.copy()\n",
    "edges_anomalised_df = edges_anomalised_df.drop(shuffled_edges_df.index)\n",
    "edges_anomalised_df = pd.concat([edges_anomalised_df, shuffled_edges_df]).sort_index()"
   ]
  },
  {
   "cell_type": "code",
   "execution_count": 14,
   "metadata": {},
   "outputs": [],
   "source": [
    "assert edges_anomalised_df.shape == edges_df.shape\n",
    "assert not edges_anomalised_df.equals(edges_df)"
   ]
  },
  {
   "cell_type": "code",
   "execution_count": 19,
   "metadata": {},
   "outputs": [
    {
     "data": {
      "text/html": [
       "<div>\n",
       "<style scoped>\n",
       "    .dataframe tbody tr th:only-of-type {\n",
       "        vertical-align: middle;\n",
       "    }\n",
       "\n",
       "    .dataframe tbody tr th {\n",
       "        vertical-align: top;\n",
       "    }\n",
       "\n",
       "    .dataframe thead th {\n",
       "        text-align: right;\n",
       "    }\n",
       "</style>\n",
       "<table border=\"1\" class=\"dataframe\">\n",
       "  <thead>\n",
       "    <tr style=\"text-align: right;\">\n",
       "      <th></th>\n",
       "      <th>component</th>\n",
       "      <th>class</th>\n",
       "    </tr>\n",
       "  </thead>\n",
       "  <tbody>\n",
       "    <tr>\n",
       "      <th>count</th>\n",
       "      <td>3.260900e+04</td>\n",
       "      <td>32609.000000</td>\n",
       "    </tr>\n",
       "    <tr>\n",
       "      <th>mean</th>\n",
       "      <td>1.069618e+11</td>\n",
       "      <td>0.100003</td>\n",
       "    </tr>\n",
       "    <tr>\n",
       "      <th>std</th>\n",
       "      <td>1.170679e+11</td>\n",
       "      <td>0.300009</td>\n",
       "    </tr>\n",
       "    <tr>\n",
       "      <th>min</th>\n",
       "      <td>3.900000e+01</td>\n",
       "      <td>0.000000</td>\n",
       "    </tr>\n",
       "    <tr>\n",
       "      <th>25%</th>\n",
       "      <td>2.576981e+10</td>\n",
       "      <td>0.000000</td>\n",
       "    </tr>\n",
       "    <tr>\n",
       "      <th>50%</th>\n",
       "      <td>6.871951e+10</td>\n",
       "      <td>0.000000</td>\n",
       "    </tr>\n",
       "    <tr>\n",
       "      <th>75%</th>\n",
       "      <td>1.546188e+11</td>\n",
       "      <td>0.000000</td>\n",
       "    </tr>\n",
       "    <tr>\n",
       "      <th>max</th>\n",
       "      <td>9.792526e+11</td>\n",
       "      <td>1.000000</td>\n",
       "    </tr>\n",
       "  </tbody>\n",
       "</table>\n",
       "</div>"
      ],
      "text/plain": [
       "          component         class\n",
       "count  3.260900e+04  32609.000000\n",
       "mean   1.069618e+11      0.100003\n",
       "std    1.170679e+11      0.300009\n",
       "min    3.900000e+01      0.000000\n",
       "25%    2.576981e+10      0.000000\n",
       "50%    6.871951e+10      0.000000\n",
       "75%    1.546188e+11      0.000000\n",
       "max    9.792526e+11      1.000000"
      ]
     },
     "execution_count": 19,
     "metadata": {},
     "output_type": "execute_result"
    }
   ],
   "source": [
    "persons_df.describe()"
   ]
  },
  {
   "cell_type": "code",
   "execution_count": 20,
   "metadata": {},
   "outputs": [
    {
     "data": {
      "text/html": [
       "<div>\n",
       "<style scoped>\n",
       "    .dataframe tbody tr th:only-of-type {\n",
       "        vertical-align: middle;\n",
       "    }\n",
       "\n",
       "    .dataframe tbody tr th {\n",
       "        vertical-align: top;\n",
       "    }\n",
       "\n",
       "    .dataframe thead th {\n",
       "        text-align: right;\n",
       "    }\n",
       "</style>\n",
       "<table border=\"1\" class=\"dataframe\">\n",
       "  <thead>\n",
       "    <tr style=\"text-align: right;\">\n",
       "      <th></th>\n",
       "      <th>component</th>\n",
       "      <th>class</th>\n",
       "    </tr>\n",
       "  </thead>\n",
       "  <tbody>\n",
       "    <tr>\n",
       "      <th>count</th>\n",
       "      <td>9.653000e+04</td>\n",
       "      <td>96530.000000</td>\n",
       "    </tr>\n",
       "    <tr>\n",
       "      <th>mean</th>\n",
       "      <td>9.522132e+10</td>\n",
       "      <td>0.100000</td>\n",
       "    </tr>\n",
       "    <tr>\n",
       "      <th>std</th>\n",
       "      <td>1.112617e+11</td>\n",
       "      <td>0.300002</td>\n",
       "    </tr>\n",
       "    <tr>\n",
       "      <th>min</th>\n",
       "      <td>3.900000e+01</td>\n",
       "      <td>0.000000</td>\n",
       "    </tr>\n",
       "    <tr>\n",
       "      <th>25%</th>\n",
       "      <td>1.717990e+10</td>\n",
       "      <td>0.000000</td>\n",
       "    </tr>\n",
       "    <tr>\n",
       "      <th>50%</th>\n",
       "      <td>6.012955e+10</td>\n",
       "      <td>0.000000</td>\n",
       "    </tr>\n",
       "    <tr>\n",
       "      <th>75%</th>\n",
       "      <td>1.374390e+11</td>\n",
       "      <td>0.000000</td>\n",
       "    </tr>\n",
       "    <tr>\n",
       "      <th>max</th>\n",
       "      <td>9.792526e+11</td>\n",
       "      <td>1.000000</td>\n",
       "    </tr>\n",
       "  </tbody>\n",
       "</table>\n",
       "</div>"
      ],
      "text/plain": [
       "          component         class\n",
       "count  9.653000e+04  96530.000000\n",
       "mean   9.522132e+10      0.100000\n",
       "std    1.112617e+11      0.300002\n",
       "min    3.900000e+01      0.000000\n",
       "25%    1.717990e+10      0.000000\n",
       "50%    6.012955e+10      0.000000\n",
       "75%    1.374390e+11      0.000000\n",
       "max    9.792526e+11      1.000000"
      ]
     },
     "execution_count": 20,
     "metadata": {},
     "output_type": "execute_result"
    }
   ],
   "source": [
    "companies_df.describe()"
   ]
  },
  {
   "cell_type": "code",
   "execution_count": null,
   "metadata": {},
   "outputs": [
    {
     "data": {
      "text/html": [
       "<div>\n",
       "<style scoped>\n",
       "    .dataframe tbody tr th:only-of-type {\n",
       "        vertical-align: middle;\n",
       "    }\n",
       "\n",
       "    .dataframe tbody tr th {\n",
       "        vertical-align: top;\n",
       "    }\n",
       "\n",
       "    .dataframe thead th {\n",
       "        text-align: right;\n",
       "    }\n",
       "</style>\n",
       "<table border=\"1\" class=\"dataframe\">\n",
       "  <thead>\n",
       "    <tr style=\"text-align: right;\">\n",
       "      <th></th>\n",
       "      <th>component</th>\n",
       "      <th>src</th>\n",
       "      <th>dst</th>\n",
       "      <th>interestedPartyIsPerson</th>\n",
       "      <th>minimumShare</th>\n",
       "    </tr>\n",
       "  </thead>\n",
       "  <tbody>\n",
       "    <tr>\n",
       "      <th>0</th>\n",
       "      <td>7225</td>\n",
       "      <td>2356236782051912119</td>\n",
       "      <td>3732317247976753020</td>\n",
       "      <td>True</td>\n",
       "      <td>75.0</td>\n",
       "    </tr>\n",
       "    <tr>\n",
       "      <th>1</th>\n",
       "      <td>7225</td>\n",
       "      <td>2356236782051912119</td>\n",
       "      <td>14047622054401208865</td>\n",
       "      <td>True</td>\n",
       "      <td>75.0</td>\n",
       "    </tr>\n",
       "    <tr>\n",
       "      <th>2</th>\n",
       "      <td>7225</td>\n",
       "      <td>692314493058510508</td>\n",
       "      <td>390416379365304942</td>\n",
       "      <td>True</td>\n",
       "      <td>25.0</td>\n",
       "    </tr>\n",
       "    <tr>\n",
       "      <th>3</th>\n",
       "      <td>7225</td>\n",
       "      <td>15829769449001705952</td>\n",
       "      <td>3732317247976753020</td>\n",
       "      <td>True</td>\n",
       "      <td>75.0</td>\n",
       "    </tr>\n",
       "    <tr>\n",
       "      <th>4</th>\n",
       "      <td>7225</td>\n",
       "      <td>15829769449001705952</td>\n",
       "      <td>17654996330473534901</td>\n",
       "      <td>True</td>\n",
       "      <td>75.0</td>\n",
       "    </tr>\n",
       "  </tbody>\n",
       "</table>\n",
       "</div>"
      ],
      "text/plain": [
       "   component                   src                   dst  \\\n",
       "0       7225   2356236782051912119   3732317247976753020   \n",
       "1       7225   2356236782051912119  14047622054401208865   \n",
       "2       7225    692314493058510508    390416379365304942   \n",
       "3       7225  15829769449001705952   3732317247976753020   \n",
       "4       7225  15829769449001705952  17654996330473534901   \n",
       "\n",
       "   interestedPartyIsPerson  minimumShare  \n",
       "0                     True          75.0  \n",
       "1                     True          75.0  \n",
       "2                     True          25.0  \n",
       "3                     True          75.0  \n",
       "4                     True          75.0  "
      ]
     },
     "execution_count": 100,
     "metadata": {},
     "output_type": "execute_result"
    }
   ],
   "source": [
    "edges_anomalised_df.head()"
   ]
  },
  {
   "cell_type": "code",
   "execution_count": null,
   "metadata": {},
   "outputs": [
    {
     "name": "stdout",
     "output_type": "stream",
     "text": [
      "<class 'pandas.core.frame.DataFrame'>\n",
      "RangeIndex: 134835 entries, 0 to 134834\n",
      "Data columns (total 5 columns):\n",
      " #   Column                   Non-Null Count   Dtype  \n",
      "---  ------                   --------------   -----  \n",
      " 0   component                134835 non-null  int64  \n",
      " 1   src                      134835 non-null  object \n",
      " 2   dst                      134835 non-null  object \n",
      " 3   interestedPartyIsPerson  134835 non-null  bool   \n",
      " 4   minimumShare             134835 non-null  float64\n",
      "dtypes: bool(1), float64(1), int64(1), object(2)\n",
      "memory usage: 4.2+ MB\n"
     ]
    }
   ],
   "source": [
    "edges_df.info()"
   ]
  },
  {
   "cell_type": "code",
   "execution_count": null,
   "metadata": {},
   "outputs": [],
   "source": []
  }
 ],
 "metadata": {
  "kernelspec": {
   "display_name": "Python 3.9.12 ('.venv': poetry)",
   "language": "python",
   "name": "python3"
  },
  "language_info": {
   "codemirror_mode": {
    "name": "ipython",
    "version": 3
   },
   "file_extension": ".py",
   "mimetype": "text/x-python",
   "name": "python",
   "nbconvert_exporter": "python",
   "pygments_lexer": "ipython3",
   "version": "3.9.12"
  },
  "orig_nbformat": 4,
  "vscode": {
   "interpreter": {
    "hash": "c9b131bfea46adc0e6841e7be18b140852cf163d67d3b9948cbb78fda58292a9"
   }
  }
 },
 "nbformat": 4,
 "nbformat_minor": 2
}
