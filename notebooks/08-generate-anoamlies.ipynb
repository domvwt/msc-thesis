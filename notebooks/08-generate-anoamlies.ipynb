{
 "cells": [
  {
   "cell_type": "code",
   "execution_count": 1,
   "metadata": {},
   "outputs": [],
   "source": [
    "import os\n",
    "from pathlib import Path\n",
    "\n",
    "import numpy as np\n",
    "import pandas as pd\n",
    "import matplotlib.pyplot as plt\n",
    "import pyspark.sql.functions as F\n",
    "import yaml\n",
    "\n",
    "import pandas_profiling as pp\n",
    "\n",
    "import graphframes as gf\n",
    "from pyspark import SparkContext, SparkConf\n",
    "from pyspark.sql import SparkSession, Column\n",
    "\n",
    "import pdcast as pdc\n",
    "\n",
    "while not Path(\"data\") in Path(\".\").iterdir():\n",
    "    os.chdir(\"..\")\n",
    "\n",
    "import sklearn.preprocessing as pre\n"
   ]
  },
  {
   "cell_type": "code",
   "execution_count": 2,
   "metadata": {},
   "outputs": [],
   "source": [
    "# Read config.\n",
    "conf_dict = yaml.safe_load(Path(\"config/conf.yaml\").read_text())\n",
    "\n",
    "persons_df = pd.read_parquet(conf_dict[\"persons_nodes\"])\n",
    "companies_df = pd.read_parquet(conf_dict[\"companies_nodes\"])\n",
    "edges_df = pd.read_parquet(conf_dict[\"edges\"])"
   ]
  },
  {
   "cell_type": "code",
   "execution_count": 3,
   "metadata": {},
   "outputs": [
    {
     "data": {
      "text/plain": [
       "component\n",
       "1555            252\n",
       "8589938228      111\n",
       "14328            80\n",
       "9784             72\n",
       "6950             70\n",
       "               ... \n",
       "60129570143       1\n",
       "17179899118       1\n",
       "137439014439      1\n",
       "266288017586      1\n",
       "137438985685      1\n",
       "Name: id, Length: 8586, dtype: int64"
      ]
     },
     "execution_count": 3,
     "metadata": {},
     "output_type": "execute_result"
    }
   ],
   "source": [
    "persons_df.groupby(\"component\")[\"id\"].count().sort_values(ascending=False)"
   ]
  },
  {
   "cell_type": "code",
   "execution_count": 4,
   "metadata": {},
   "outputs": [],
   "source": [
    "# select 10% of the person nodes\n",
    "anomalous_persons_df = persons_df.sample(frac=0.1, random_state=42)"
   ]
  },
  {
   "cell_type": "code",
   "execution_count": 5,
   "metadata": {},
   "outputs": [],
   "source": [
    "# select 10% of the company nodes\n",
    "anomalous_companies_df = companies_df.sample(frac=0.1, random_state=42)"
   ]
  },
  {
   "cell_type": "code",
   "execution_count": 6,
   "metadata": {},
   "outputs": [],
   "source": [
    "# flag the anomalous entities\n",
    "persons_df[\"is_anomalous\"] = False\n",
    "persons_df.loc[anomalous_persons_df.index, \"is_anomalous\"] = True\n",
    "companies_df[\"is_anomalous\"] = False\n",
    "companies_df.loc[anomalous_companies_df.index, \"is_anomalous\"] = True\n"
   ]
  },
  {
   "cell_type": "code",
   "execution_count": 7,
   "metadata": {},
   "outputs": [],
   "source": [
    "# select edges for anomalous persons and companies\n",
    "# anomalous_edges_df = edges_df[edges_df[\"src\"].isin(anomalous_persons_df[\"id\"])]\n",
    "anomalous_edges_df = edges_df[\n",
    "    edges_df[\"src\"].isin(\n",
    "        set(\n",
    "            anomalous_persons_df[\"id\"].to_list()\n",
    "            + anomalous_companies_df[\"id\"].to_list()\n",
    "        )\n",
    "    )\n",
    "]\n",
    "anomalous_edges_df = anomalous_edges_df.copy(deep=True)"
   ]
  },
  {
   "cell_type": "code",
   "execution_count": 31,
   "metadata": {},
   "outputs": [],
   "source": [
    "\n",
    "# select array indexes where values are equal\n",
    "def indexes_not_shuffled(a1, a2):\n",
    "    return np.argwhere(a1 == a2)\n",
    "\n",
    "\n",
    "def efficient_shuffle(a1):\n",
    "    def inner(a1, _i):\n",
    "        print(_i, end=\"\\r\")\n",
    "        a2 = a1.copy()\n",
    "        rng = np.random.default_rng(42 + _i)\n",
    "        for i in range(5):\n",
    "            to_shuffle = indexes_not_shuffled(a1, a2)\n",
    "            a2[to_shuffle] = rng.permutation(a2[to_shuffle])\n",
    "            if all_shuffled(a1, a2):\n",
    "                break\n",
    "        else:\n",
    "            inner(a1, _i + 1)\n",
    "        return a2\n",
    "    return inner(a1, 0)\n"
   ]
  },
  {
   "cell_type": "code",
   "execution_count": 32,
   "metadata": {},
   "outputs": [
    {
     "name": "stdout",
     "output_type": "stream",
     "text": [
      "24\r"
     ]
    }
   ],
   "source": [
    "# permute the edges from anomalous entities until they are all shuffled\n",
    "\n",
    "rng = np.random.default_rng(42)\n",
    "\n",
    "shuffled_edges_df = anomalous_edges_df.copy()\n",
    "\n",
    "def all_shuffled(a1, a2):\n",
    "    return np.all(a1 != a2)\n",
    "\n",
    "i = 0\n",
    "\n",
    "original_edges = shuffled_edges_df[\"src\"].to_numpy()\n",
    "\n",
    "shuffled_edges = efficient_shuffle(original_edges)\n",
    "\n",
    "shuffled_edges_df[\"src\"] = shuffled_edges\n"
   ]
  },
  {
   "cell_type": "code",
   "execution_count": 33,
   "metadata": {},
   "outputs": [],
   "source": [
    "# replace the edges with the shuffled ones\n",
    "edges_anomalised_df = edges_df.copy(deep=True)\n",
    "edges_anomalised_df = edges_anomalised_df.drop(shuffled_edges_df.index)\n",
    "edges_anomalised_df = pd.concat([edges_anomalised_df, shuffled_edges_df]).sort_index()\n",
    "edges_anomalised_df[\"is_anomalous\"] = False\n",
    "edges_anomalised_df.loc[anomalous_edges_df.index, \"is_anomalous\"] = True"
   ]
  },
  {
   "cell_type": "code",
   "execution_count": 34,
   "metadata": {},
   "outputs": [],
   "source": [
    "assert len(edges_anomalised_df) == len(edges_df)\n",
    "assert not edges_anomalised_df.equals(edges_df)"
   ]
  },
  {
   "cell_type": "code",
   "execution_count": 35,
   "metadata": {},
   "outputs": [
    {
     "data": {
      "text/plain": [
       "is_anomalous\n",
       "False    29348\n",
       "True      3261\n",
       "Name: id, dtype: int64"
      ]
     },
     "execution_count": 35,
     "metadata": {},
     "output_type": "execute_result"
    }
   ],
   "source": [
    "persons_df.groupby(\"is_anomalous\")[\"id\"].count().sort_values(ascending=False)"
   ]
  },
  {
   "cell_type": "code",
   "execution_count": 36,
   "metadata": {},
   "outputs": [
    {
     "data": {
      "text/plain": [
       "is_anomalous\n",
       "False    86877\n",
       "True      9653\n",
       "Name: id, dtype: int64"
      ]
     },
     "execution_count": 36,
     "metadata": {},
     "output_type": "execute_result"
    }
   ],
   "source": [
    "companies_df.groupby(\"is_anomalous\")[\"id\"].count().sort_values(ascending=False)"
   ]
  },
  {
   "cell_type": "code",
   "execution_count": 37,
   "metadata": {},
   "outputs": [
    {
     "data": {
      "text/plain": [
       "is_anomalous\n",
       "False    121278\n",
       "True      13557\n",
       "Name: src, dtype: int64"
      ]
     },
     "execution_count": 37,
     "metadata": {},
     "output_type": "execute_result"
    }
   ],
   "source": [
    "edges_anomalised_df.groupby(\"is_anomalous\")[\"src\"].count().sort_values(ascending=False)"
   ]
  },
  {
   "cell_type": "code",
   "execution_count": 40,
   "metadata": {},
   "outputs": [],
   "source": [
    "components = persons_df.component.unique()"
   ]
  },
  {
   "cell_type": "code",
   "execution_count": 51,
   "metadata": {},
   "outputs": [],
   "source": [
    "component_assignment_df = pd.DataFrame(\n",
    "    np.array([components, components % 10]).T, columns=[\"component\", \"component_mod\"]\n",
    ").sort_values(by=\"component\")\n",
    "\n",
    "train_idx = component_assignment_df.query(\"component_mod >= 1 and component_mod <= 8\").index\n",
    "valid_idx = component_assignment_df.query(\"component_mod >= 9\").index\n",
    "test_idx = component_assignment_df.query(\"component_mod == 0\").index\n",
    "\n",
    "component_assignment_df.loc[train_idx, \"split\"] = \"train\"\n",
    "component_assignment_df.loc[valid_idx, \"split\"] = \"valid\"\n",
    "component_assignment_df.loc[test_idx, \"split\"] = \"test\"\n"
   ]
  },
  {
   "cell_type": "code",
   "execution_count": 53,
   "metadata": {},
   "outputs": [
    {
     "data": {
      "text/plain": [
       "split\n",
       "train    6855\n",
       "valid     868\n",
       "test      863\n",
       "Name: component, dtype: int64"
      ]
     },
     "execution_count": 53,
     "metadata": {},
     "output_type": "execute_result"
    }
   ],
   "source": [
    "component_assignment_df.groupby(\"split\")[\"component\"].count().sort_values(ascending=False)"
   ]
  },
  {
   "cell_type": "code",
   "execution_count": 54,
   "metadata": {},
   "outputs": [],
   "source": [
    "train_components = component_assignment_df.query(\"split == 'train'\")[\"component\"].to_list()\n",
    "valid_components = component_assignment_df.query(\"split == 'valid'\")[\"component\"].to_list()\n",
    "test_components = component_assignment_df.query(\"split == 'test'\")[\"component\"].to_list()"
   ]
  },
  {
   "cell_type": "code",
   "execution_count": 58,
   "metadata": {},
   "outputs": [],
   "source": [
    "train_person_nodes = persons_df.query(\"component in @train_components\")\n",
    "valid_person_nodes = persons_df.query(\"component in @valid_components\")\n",
    "test_person_nodes = persons_df.query(\"component in @test_components\")\n",
    "\n",
    "train_company_nodes = companies_df.query(\"component in @train_components\")\n",
    "valid_company_nodes = companies_df.query(\"component in @valid_components\")\n",
    "test_company_nodes = companies_df.query(\"component in @test_components\")\n",
    "\n",
    "train_edges = edges_anomalised_df.query(\"src in @train_person_nodes.id\")\n",
    "valid_edges = edges_anomalised_df.query(\"src in @valid_person_nodes.id\")\n",
    "test_edges = edges_anomalised_df.query(\"src in @test_person_nodes.id\")"
   ]
  },
  {
   "cell_type": "code",
   "execution_count": null,
   "metadata": {},
   "outputs": [],
   "source": []
  }
 ],
 "metadata": {
  "kernelspec": {
   "display_name": "Python 3.9.12 ('.venv': poetry)",
   "language": "python",
   "name": "python3"
  },
  "language_info": {
   "codemirror_mode": {
    "name": "ipython",
    "version": 3
   },
   "file_extension": ".py",
   "mimetype": "text/x-python",
   "name": "python",
   "nbconvert_exporter": "python",
   "pygments_lexer": "ipython3",
   "version": "3.9.12"
  },
  "orig_nbformat": 4,
  "vscode": {
   "interpreter": {
    "hash": "c9b131bfea46adc0e6841e7be18b140852cf163d67d3b9948cbb78fda58292a9"
   }
  }
 },
 "nbformat": 4,
 "nbformat_minor": 2
}
