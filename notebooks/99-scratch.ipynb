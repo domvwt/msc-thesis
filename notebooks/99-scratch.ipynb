{
 "cells": [
  {
   "cell_type": "code",
   "execution_count": 42,
   "id": "02e6e8b5",
   "metadata": {},
   "outputs": [],
   "source": [
    "import os\n",
    "from pathlib import Path\n",
    "\n",
    "import pandas as pd\n",
    "import networkx as nx\n",
    "import scipy.sparse as sp\n",
    "import yaml\n",
    "\n",
    "while not Path(\"data\") in Path(\".\").iterdir():\n",
    "    os.chdir(\"..\")\n",
    "\n",
    "import mscproject.dataprep as dp\n",
    "import mscproject.features as feat\n",
    "import mscproject.simulate as sim\n"
   ]
  },
  {
   "cell_type": "code",
   "execution_count": 43,
   "id": "5f0b99f0",
   "metadata": {},
   "outputs": [
    {
     "name": "stdout",
     "output_type": "stream",
     "text": [
      "The autoreload extension is already loaded. To reload it, use:\n",
      "  %reload_ext autoreload\n"
     ]
    }
   ],
   "source": [
    "%load_ext autoreload\n",
    "%autoreload 2"
   ]
  },
  {
   "cell_type": "code",
   "execution_count": 44,
   "id": "bc90d292",
   "metadata": {},
   "outputs": [],
   "source": [
    "conf_dict = yaml.safe_load(Path(\"config/conf.yaml\").read_text())\n",
    "\n",
    "# Load features\n",
    "companies_features = pd.read_parquet(conf_dict[\"companies_features\"])\n",
    "persons_features = pd.read_parquet(conf_dict[\"persons_features\"])\n",
    "edges_features = pd.read_parquet(conf_dict[\"edges_features\"])"
   ]
  },
  {
   "cell_type": "code",
   "execution_count": 45,
   "id": "55275cd9",
   "metadata": {},
   "outputs": [
    {
     "name": "stdout",
     "output_type": "stream",
     "text": [
      "<class 'pandas.core.frame.DataFrame'>\n",
      "RangeIndex: 96530 entries, 0 to 96529\n",
      "Data columns (total 27 columns):\n",
      " #   Column                         Non-Null Count  Dtype  \n",
      "---  ------                         --------------  -----  \n",
      " 0   id                             96530 non-null  object \n",
      " 1   component                      96530 non-null  int64  \n",
      " 2   isCompany                      96530 non-null  bool   \n",
      " 3   name                           96069 non-null  object \n",
      " 4   foundingDate                   95996 non-null  object \n",
      " 5   dissolutionDate                87 non-null     object \n",
      " 6   countryCode                    96530 non-null  object \n",
      " 7   companiesHouseID               96525 non-null  object \n",
      " 8   openCorporatesID               96013 non-null  object \n",
      " 9   openOwnershipRegisterID        96530 non-null  object \n",
      " 10  CompanyCategory                88317 non-null  object \n",
      " 11  CompanyStatus                  88317 non-null  object \n",
      " 12  Accounts_AccountCategory       88317 non-null  object \n",
      " 13  SICCode_SicText_1              88317 non-null  object \n",
      " 14  is_anomalous                   96530 non-null  bool   \n",
      " 15  indegree                       96530 non-null  int64  \n",
      " 16  outdegree                      96530 non-null  int64  \n",
      " 17  closeness                      96530 non-null  float64\n",
      " 18  clustering                     96530 non-null  float64\n",
      " 19  pagerank                       96530 non-null  float64\n",
      " 20  neighbour_count                96530 non-null  int64  \n",
      " 21  neighbourhood_indegree         96530 non-null  float32\n",
      " 22  neighbourhood_outdegree        96530 non-null  float32\n",
      " 23  neighbourhood_closeness        96530 non-null  float32\n",
      " 24  neighbourhood_clustering       96530 non-null  float32\n",
      " 25  neighbourhood_pagerank         96530 non-null  float32\n",
      " 26  neighbourhood_neighbour_count  96530 non-null  float32\n",
      "dtypes: bool(2), float32(6), float64(3), int64(4), object(12)\n",
      "memory usage: 16.4+ MB\n"
     ]
    }
   ],
   "source": [
    "companies_features.info()"
   ]
  },
  {
   "cell_type": "code",
   "execution_count": 46,
   "id": "aa10f328",
   "metadata": {},
   "outputs": [
    {
     "name": "stdout",
     "output_type": "stream",
     "text": [
      "<class 'pandas.core.frame.DataFrame'>\n",
      "RangeIndex: 32609 entries, 0 to 32608\n",
      "Data columns (total 19 columns):\n",
      " #   Column                         Non-Null Count  Dtype  \n",
      "---  ------                         --------------  -----  \n",
      " 0   id                             32609 non-null  object \n",
      " 1   component                      32609 non-null  int64  \n",
      " 2   isCompany                      32609 non-null  bool   \n",
      " 3   birthDate                      32608 non-null  object \n",
      " 4   name                           32609 non-null  object \n",
      " 5   nationality                    30695 non-null  object \n",
      " 6   is_anomalous                   32609 non-null  bool   \n",
      " 7   indegree                       32609 non-null  int64  \n",
      " 8   outdegree                      32609 non-null  int64  \n",
      " 9   closeness                      32609 non-null  float64\n",
      " 10  clustering                     32609 non-null  float64\n",
      " 11  pagerank                       32609 non-null  float64\n",
      " 12  neighbour_count                32609 non-null  int64  \n",
      " 13  neighbourhood_indegree         32609 non-null  float32\n",
      " 14  neighbourhood_outdegree        32609 non-null  float32\n",
      " 15  neighbourhood_closeness        32609 non-null  float32\n",
      " 16  neighbourhood_clustering       32609 non-null  float32\n",
      " 17  neighbourhood_pagerank         32609 non-null  float32\n",
      " 18  neighbourhood_neighbour_count  32609 non-null  float32\n",
      "dtypes: bool(2), float32(6), float64(3), int64(4), object(4)\n",
      "memory usage: 3.5+ MB\n"
     ]
    }
   ],
   "source": [
    "persons_features.info()"
   ]
  },
  {
   "cell_type": "code",
   "execution_count": 37,
   "id": "8e8b010e",
   "metadata": {},
   "outputs": [],
   "source": [
    "def rename_columns(df):\n",
    "    df = df.copy()\n",
    "    column_names = df.columns.tolist()\n",
    "    first = column_names.index(\"indegree\")\n",
    "    last = column_names.index(\"neighbourhood_0\")\n",
    "    graph_feats = column_names[first:last]\n",
    "    keep_feats = column_names[0:last] + [f\"neighbourhood_{x}\" for x in graph_feats]\n",
    "    df.columns = keep_feats\n",
    "    return df\n"
   ]
  },
  {
   "cell_type": "code",
   "execution_count": 38,
   "id": "6ecb7185",
   "metadata": {},
   "outputs": [],
   "source": [
    "# Rename columns for each dataframe\n",
    "companies_features = rename_columns(companies_features)\n",
    "persons_features = rename_columns(persons_features)\n",
    "# edges_features = rename_columns(edges_features)"
   ]
  },
  {
   "cell_type": "code",
   "execution_count": 41,
   "id": "d92ca7f5",
   "metadata": {},
   "outputs": [],
   "source": [
    "# Overwrite old features with new features\n",
    "companies_features.to_parquet(conf_dict[\"companies_features\"])\n",
    "persons_features.to_parquet(conf_dict[\"persons_features\"])"
   ]
  }
 ],
 "metadata": {
  "jupytext": {
   "formats": "ipynb,py:percent"
  },
  "kernelspec": {
   "display_name": "Python 3.9.12 ('.venv': poetry)",
   "language": "python",
   "name": "python3"
  },
  "language_info": {
   "codemirror_mode": {
    "name": "ipython",
    "version": 3
   },
   "file_extension": ".py",
   "mimetype": "text/x-python",
   "name": "python",
   "nbconvert_exporter": "python",
   "pygments_lexer": "ipython3",
   "version": "3.9.12"
  },
  "vscode": {
   "interpreter": {
    "hash": "c9b131bfea46adc0e6841e7be18b140852cf163d67d3b9948cbb78fda58292a9"
   }
  }
 },
 "nbformat": 4,
 "nbformat_minor": 5
}
