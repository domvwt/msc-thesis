{
 "cells": [
  {
   "cell_type": "code",
   "execution_count": null,
   "id": "02e6e8b5",
   "metadata": {},
   "outputs": [],
   "source": [
    "import os\n",
    "from pathlib import Path\n",
    "\n",
    "import numpy as np\n",
    "import pandas as pd\n",
    "import matplotlib.pyplot as plt\n",
    "import pyspark.sql.functions as F\n",
    "import yaml\n",
    "\n",
    "import graphframes as gf\n",
    "from pyspark import SparkContext, SparkConf\n",
    "from pyspark.sql import SparkSession, Column\n",
    "\n",
    "while not Path(\"data\") in Path(\".\").iterdir():\n",
    "    os.chdir(\"..\")\n",
    "\n",
    "plt.style.use(\"seaborn-white\")\n",
    "conf_dict = yaml.safe_load(Path(\"config/conf.yaml\").read_text())\n",
    "\n",
    "checkpoint_dir = str(Path(\"spark-checkpoints\").absolute())\n",
    "graphframes_jar_path = str(\n",
    "    Path(\n",
    "        \".venv/lib/python3.9/site-packages/pyspark/jars/graphframes-0.8.2-spark3.1-s_2.12.jar\"\n",
    "    ).absolute()\n",
    ")\n",
    "\n",
    "spark_conf = (\n",
    "    SparkConf()\n",
    "    .set(\"spark.jars\", graphframes_jar_path)\n",
    "    .set(\"spark.sql.sources.partitionOverwriteMode\", \"dynamic\")\n",
    ")\n",
    "\n",
    "sc = SparkContext(conf=spark_conf).getOrCreate()\n",
    "sc.setCheckpointDir(checkpoint_dir)\n",
    "sc.setLogLevel(\"ERROR\")\n",
    "\n",
    "spark = SparkSession.builder.config(\"spark.driver.memory\", \"8g\").getOrCreate()"
   ]
  },
  {
   "cell_type": "code",
   "execution_count": null,
   "id": "ccc1b448",
   "metadata": {},
   "outputs": [],
   "source": [
    "companies_nodes_df = spark.read.parquet(conf_dict[\"companies_nodes\"])\n",
    "persons_nodes_df = spark.read.parquet(conf_dict[\"persons_nodes\"])\n",
    "edges_df = spark.read.parquet(conf_dict[\"edges\"])"
   ]
  },
  {
   "cell_type": "code",
   "execution_count": null,
   "id": "48a94754",
   "metadata": {},
   "outputs": [],
   "source": [
    "print(f\"Companies count: {companies_nodes_df.count():,}\")\n",
    "print(f\"Persons count: {persons_nodes_df.count():,}\")\n",
    "print(f\"Edge count: {edges_df.count():,}\")"
   ]
  },
  {
   "cell_type": "code",
   "execution_count": null,
   "id": "74fe5443",
   "metadata": {},
   "outputs": [],
   "source": [
    "select_cols = [\"id\", \"component\", \"isCompany\"]\n",
    "all_nodes = companies_nodes_df.select(select_cols).union(\n",
    "    persons_nodes_df.select(select_cols)\n",
    ")"
   ]
  },
  {
   "cell_type": "code",
   "execution_count": null,
   "id": "01ceaa6f",
   "metadata": {},
   "outputs": [],
   "source": [
    "all_nodes"
   ]
  },
  {
   "cell_type": "code",
   "execution_count": null,
   "id": "063a2f89",
   "metadata": {},
   "outputs": [],
   "source": [
    "component_summary = (\n",
    "    all_nodes.groupBy(\"component\", \"isCompany\")\n",
    "    .count()\n",
    "    .groupBy(\"component\")\n",
    "    .pivot(\"isCompany\", [\"true\", \"false\"])\n",
    "    .agg(F.sum(\"count\"))\n",
    "    .withColumnRenamed(\"true\", \"company_count\")\n",
    "    .withColumnRenamed(\"false\", \"person_count\")\n",
    "    .withColumn(\"person_proportion\", F.col(\"person_count\") / F.col(\"company_count\"))\n",
    "    .fillna(0)\n",
    "    .orderBy(\"person_proportion\", ascending=False)\n",
    ")\n",
    "component_summary.show()"
   ]
  },
  {
   "cell_type": "code",
   "execution_count": null,
   "id": "92c0a545",
   "metadata": {},
   "outputs": [],
   "source": [
    "component_summary.orderBy(\"person_proportion\").show()"
   ]
  },
  {
   "cell_type": "code",
   "execution_count": null,
   "id": "12a00f22",
   "metadata": {},
   "outputs": [],
   "source": [
    "components_summary_pd = component_summary.toPandas()"
   ]
  },
  {
   "cell_type": "code",
   "execution_count": null,
   "id": "196a35fd",
   "metadata": {},
   "outputs": [],
   "source": [
    "components_summary_pd.query(\"person_proportion > 0.1 & person_proportion < 1\")[\n",
    "    \"person_proportion\"\n",
    "].plot.hist(bins=10, alpha=0.5)"
   ]
  },
  {
   "cell_type": "code",
   "execution_count": null,
   "id": "2c9f3bd8",
   "metadata": {},
   "outputs": [],
   "source": [
    "components_summary_pd"
   ]
  },
  {
   "cell_type": "code",
   "execution_count": null,
   "id": "fcfd616e",
   "metadata": {},
   "outputs": [],
   "source": [
    "components_summary_pd[\"person_count\"].plot.hist(bins=50, alpha=0.5)"
   ]
  },
  {
   "cell_type": "code",
   "execution_count": null,
   "id": "fd66b083",
   "metadata": {},
   "outputs": [],
   "source": [
    "components_summary_pd.query(\"person_count > 0\").tail()"
   ]
  },
  {
   "cell_type": "code",
   "execution_count": null,
   "id": "5dbef69e",
   "metadata": {},
   "outputs": [],
   "source": [
    "companies_nodes_df.filter(F.col(\"component\") == \"8589942400\").toPandas()"
   ]
  },
  {
   "cell_type": "code",
   "execution_count": null,
   "id": "e7dd69f6",
   "metadata": {
    "lines_to_next_cell": 2
   },
   "outputs": [],
   "source": [
    "persons_nodes_df.filter(F.col(\"component\") == \"8589942400\").toPandas()"
   ]
  },
  {
   "cell_type": "code",
   "execution_count": null,
   "id": "1600721e",
   "metadata": {},
   "outputs": [],
   "source": [
    "companies_nodes_df.filter(F.col(\"component\").isNull()).toPandas()"
   ]
  },
  {
   "cell_type": "code",
   "execution_count": null,
   "id": "926fc921",
   "metadata": {},
   "outputs": [],
   "source": [
    "companies_nodes_df.columns"
   ]
  },
  {
   "cell_type": "code",
   "execution_count": null,
   "id": "ad9a6d18",
   "metadata": {},
   "outputs": [],
   "source": [
    "companies_nodes_df.filter(F.col(\"name\").isNull()).toPandas()"
   ]
  },
  {
   "cell_type": "code",
   "execution_count": null,
   "id": "86bc5acb",
   "metadata": {},
   "outputs": [],
   "source": []
  },
  {
   "cell_type": "code",
   "execution_count": null,
   "id": "2b1298f4",
   "metadata": {},
   "outputs": [],
   "source": []
  },
  {
   "cell_type": "code",
   "execution_count": null,
   "id": "4a81ca1d",
   "metadata": {},
   "outputs": [],
   "source": []
  }
 ],
 "metadata": {
  "jupytext": {
   "formats": "ipynb,py:percent"
  },
  "kernelspec": {
   "display_name": "Python 3 (ipykernel)",
   "language": "python",
   "name": "python3"
  }
 },
 "nbformat": 4,
 "nbformat_minor": 5
}
