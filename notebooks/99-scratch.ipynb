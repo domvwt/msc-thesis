{
 "cells": [
  {
   "cell_type": "code",
   "execution_count": 1,
   "metadata": {},
   "outputs": [
    {
     "name": "stderr",
     "output_type": "stream",
     "text": [
      "22/07/16 18:01:42 WARN Utils: Your hostname, domvwt-XPS-13-9305 resolves to a loopback address: 127.0.1.1; using 192.168.0.24 instead (on interface wlp164s0)\n",
      "22/07/16 18:01:42 WARN Utils: Set SPARK_LOCAL_IP if you need to bind to another address\n",
      "22/07/16 18:01:43 WARN NativeCodeLoader: Unable to load native-hadoop library for your platform... using builtin-java classes where applicable\n",
      "Using Spark's default log4j profile: org/apache/spark/log4j-defaults.properties\n",
      "Setting default log level to \"WARN\".\n",
      "To adjust logging level use sc.setLogLevel(newLevel). For SparkR, use setLogLevel(newLevel).\n"
     ]
    }
   ],
   "source": [
    "import os\n",
    "from pathlib import Path\n",
    "\n",
    "import numpy as np\n",
    "import pandas as pd\n",
    "import matplotlib.pyplot as plt\n",
    "import pyspark.sql.functions as F\n",
    "import yaml\n",
    "\n",
    "import graphframes as gf\n",
    "from pyspark import SparkContext, SparkConf\n",
    "from pyspark.sql import SparkSession, Column\n",
    "\n",
    "while not Path(\"data\") in Path(\".\").iterdir():\n",
    "    os.chdir(\"..\")\n",
    "\n",
    "plt.style.use(\"seaborn-white\")\n",
    "conf_dict = yaml.safe_load(Path(\"config/conf.yaml\").read_text())\n",
    "\n",
    "checkpoint_dir = str(Path(\"spark-checkpoints\").absolute())\n",
    "graphframes_jar_path = str(\n",
    "    Path(\n",
    "        \".venv/lib/python3.9/site-packages/pyspark/jars/graphframes-0.8.2-spark3.1-s_2.12.jar\"\n",
    "    ).absolute()\n",
    ")\n",
    "\n",
    "spark_conf = (\n",
    "    SparkConf()\n",
    "    .set(\"spark.jars\", graphframes_jar_path)\n",
    "    .set(\"spark.sql.sources.partitionOverwriteMode\", \"dynamic\")\n",
    ")\n",
    "\n",
    "sc = SparkContext(conf=spark_conf).getOrCreate()\n",
    "sc.setCheckpointDir(checkpoint_dir)\n",
    "sc.setLogLevel(\"ERROR\")\n",
    "\n",
    "spark = SparkSession.builder.config(\"spark.driver.memory\", \"8g\").getOrCreate()"
   ]
  },
  {
   "cell_type": "code",
   "execution_count": 2,
   "metadata": {},
   "outputs": [],
   "source": [
    "companies_nodes_df = spark.read.parquet(conf_dict[\"companies_nodes\"])\n",
    "persons_nodes_df = spark.read.parquet(conf_dict[\"persons_nodes\"])\n",
    "edges_df = spark.read.parquet(conf_dict[\"edges\"])"
   ]
  },
  {
   "cell_type": "code",
   "execution_count": 3,
   "metadata": {},
   "outputs": [
    {
     "name": "stdout",
     "output_type": "stream",
     "text": [
      "Companies count: 96,547\n",
      "Persons count: 36,757\n",
      "Edge count: 135,132\n"
     ]
    }
   ],
   "source": [
    "print(f\"Companies count: {companies_nodes_df.count():,}\")\n",
    "print(f\"Persons count: {persons_nodes_df.count():,}\")\n",
    "print(f\"Edge count: {edges_df.count():,}\")"
   ]
  },
  {
   "cell_type": "code",
   "execution_count": 4,
   "metadata": {},
   "outputs": [],
   "source": [
    "select_cols = [\"id\", \"component\", \"isCompany\"]\n",
    "all_nodes = companies_nodes_df.select(select_cols).union(persons_nodes_df.select(select_cols))"
   ]
  },
  {
   "cell_type": "code",
   "execution_count": 5,
   "metadata": {},
   "outputs": [
    {
     "data": {
      "text/plain": [
       "DataFrame[id: string, component: bigint, isCompany: boolean]"
      ]
     },
     "execution_count": 5,
     "metadata": {},
     "output_type": "execute_result"
    }
   ],
   "source": [
    "all_nodes"
   ]
  },
  {
   "cell_type": "code",
   "execution_count": 19,
   "metadata": {},
   "outputs": [
    {
     "name": "stderr",
     "output_type": "stream",
     "text": [
      "[Stage 27:=========================================>            (154 + 9) / 200]\r"
     ]
    },
    {
     "name": "stdout",
     "output_type": "stream",
     "text": [
      "+------------+-------------+------------+------------------+\n",
      "|   component|company_count|person_count| person_proportion|\n",
      "+------------+-------------+------------+------------------+\n",
      "|       32537|            1|          15|              15.0|\n",
      "|257698064439|            1|          12|              12.0|\n",
      "|206158475927|            1|          11|              11.0|\n",
      "|  8589940483|            1|          11|              11.0|\n",
      "|120259129243|            1|          10|              10.0|\n",
      "|111669155269|            1|           9|               9.0|\n",
      "| 68719542280|            1|           9|               9.0|\n",
      "| 60129548063|            2|          16|               8.0|\n",
      "|       18815|            2|          10|               5.0|\n",
      "| 17179914106|            2|          10|               5.0|\n",
      "| 42949726713|            2|          10|               5.0|\n",
      "|171798701224|            2|          10|               5.0|\n",
      "|420906812779|            2|           8|               4.0|\n",
      "|317827622330|            2|           8|               4.0|\n",
      "| 60129578458|            2|           8|               4.0|\n",
      "|566935695291|            2|           8|               4.0|\n",
      "|197568530170|            3|          10|3.3333333333333335|\n",
      "|154618877095|            6|          19|3.1666666666666665|\n",
      "|111669164487|            3|           9|               3.0|\n",
      "|  8589976753|            3|           9|               3.0|\n",
      "+------------+-------------+------------+------------------+\n",
      "only showing top 20 rows\n",
      "\n"
     ]
    },
    {
     "name": "stderr",
     "output_type": "stream",
     "text": [
      "                                                                                \r"
     ]
    }
   ],
   "source": [
    "component_summary = (\n",
    "    all_nodes.groupBy(\"component\", \"isCompany\")\n",
    "    .count()\n",
    "    .groupBy(\"component\")\n",
    "    .pivot(\"isCompany\", [\"true\", \"false\"])\n",
    "    .agg(F.sum(\"count\"))\n",
    "    .withColumnRenamed(\"true\", \"company_count\")\n",
    "    .withColumnRenamed(\"false\", \"person_count\")\n",
    "    .withColumn(\"person_proportion\", F.col(\"person_count\") / F.col(\"company_count\"))\n",
    "    .fillna(0)\n",
    "    .orderBy(\"person_proportion\", ascending=False)\n",
    ")\n",
    "component_summary.show()"
   ]
  },
  {
   "cell_type": "code",
   "execution_count": 31,
   "metadata": {},
   "outputs": [
    {
     "name": "stdout",
     "output_type": "stream",
     "text": [
      "+------------+-------------+------------+-----------------+\n",
      "|   component|company_count|person_count|person_proportion|\n",
      "+------------+-------------+------------+-----------------+\n",
      "|206158442098|           10|           1|              0.1|\n",
      "|188978592395|           10|           1|              0.1|\n",
      "| 17179931635|           10|           1|              0.1|\n",
      "| 85899368939|           10|           1|              0.1|\n",
      "|171798753466|           10|           1|              0.1|\n",
      "|128849022235|           10|           1|              0.1|\n",
      "|352187373820|           10|           1|              0.1|\n",
      "|171798707458|           20|           2|              0.1|\n",
      "| 42949673419|           10|           1|              0.1|\n",
      "| 42949733341|           10|           1|              0.1|\n",
      "| 77309455172|           10|           1|              0.1|\n",
      "|146028902698|           10|           1|              0.1|\n",
      "| 68719480689|           10|           1|              0.1|\n",
      "|  8589967999|           10|           1|              0.1|\n",
      "|575525673470|           10|           1|              0.1|\n",
      "| 17179902584|           10|           1|              0.1|\n",
      "| 68719493936|           10|           1|              0.1|\n",
      "| 51539661380|           10|           1|              0.1|\n",
      "|154618833395|           10|           1|              0.1|\n",
      "|171798748656|           10|           1|              0.1|\n",
      "+------------+-------------+------------+-----------------+\n",
      "only showing top 20 rows\n",
      "\n"
     ]
    }
   ],
   "source": [
    "component_summary.orderBy(\"person_proportion\").show()"
   ]
  },
  {
   "cell_type": "code",
   "execution_count": 25,
   "metadata": {},
   "outputs": [
    {
     "name": "stderr",
     "output_type": "stream",
     "text": [
      "                                                                                \r"
     ]
    }
   ],
   "source": [
    "components_summary_pd = component_summary.toPandas()"
   ]
  },
  {
   "cell_type": "code",
   "execution_count": 47,
   "metadata": {},
   "outputs": [
    {
     "data": {
      "text/plain": [
       "<AxesSubplot:ylabel='Frequency'>"
      ]
     },
     "execution_count": 47,
     "metadata": {},
     "output_type": "execute_result"
    },
    {
     "data": {
      "image/png": "[encoded data removed]",
      "text/plain": [
       "<Figure size 432x288 with 1 Axes>"
      ]
     },
     "metadata": {
      "needs_background": "light"
     },
     "output_type": "display_data"
    }
   ],
   "source": [
    "components_summary_pd.query(\"person_proportion > 0.1 & person_proportion < 1\")[\"person_proportion\"].plot.hist(bins=10, alpha=0.5)"
   ]
  },
  {
   "cell_type": "code",
   "execution_count": 33,
   "metadata": {},
   "outputs": [
    {
     "data": {
      "text/html": [
       "<div>\n",
       "<style scoped>\n",
       "    .dataframe tbody tr th:only-of-type {\n",
       "        vertical-align: middle;\n",
       "    }\n",
       "\n",
       "    .dataframe tbody tr th {\n",
       "        vertical-align: top;\n",
       "    }\n",
       "\n",
       "    .dataframe thead th {\n",
       "        text-align: right;\n",
       "    }\n",
       "</style>\n",
       "<table border=\"1\" class=\"dataframe\">\n",
       "  <thead>\n",
       "    <tr style=\"text-align: right;\">\n",
       "      <th></th>\n",
       "      <th>component</th>\n",
       "      <th>company_count</th>\n",
       "      <th>person_count</th>\n",
       "      <th>person_proportion</th>\n",
       "    </tr>\n",
       "  </thead>\n",
       "  <tbody>\n",
       "    <tr>\n",
       "      <th>0</th>\n",
       "      <td>32537</td>\n",
       "      <td>1</td>\n",
       "      <td>15</td>\n",
       "      <td>15.0</td>\n",
       "    </tr>\n",
       "    <tr>\n",
       "      <th>1</th>\n",
       "      <td>257698064439</td>\n",
       "      <td>1</td>\n",
       "      <td>12</td>\n",
       "      <td>12.0</td>\n",
       "    </tr>\n",
       "    <tr>\n",
       "      <th>2</th>\n",
       "      <td>8589940483</td>\n",
       "      <td>1</td>\n",
       "      <td>11</td>\n",
       "      <td>11.0</td>\n",
       "    </tr>\n",
       "    <tr>\n",
       "      <th>3</th>\n",
       "      <td>206158475927</td>\n",
       "      <td>1</td>\n",
       "      <td>11</td>\n",
       "      <td>11.0</td>\n",
       "    </tr>\n",
       "    <tr>\n",
       "      <th>4</th>\n",
       "      <td>120259129243</td>\n",
       "      <td>1</td>\n",
       "      <td>10</td>\n",
       "      <td>10.0</td>\n",
       "    </tr>\n",
       "    <tr>\n",
       "      <th>...</th>\n",
       "      <td>...</td>\n",
       "      <td>...</td>\n",
       "      <td>...</td>\n",
       "      <td>...</td>\n",
       "    </tr>\n",
       "    <tr>\n",
       "      <th>8581</th>\n",
       "      <td>8589971231</td>\n",
       "      <td>10</td>\n",
       "      <td>1</td>\n",
       "      <td>0.1</td>\n",
       "    </tr>\n",
       "    <tr>\n",
       "      <th>8582</th>\n",
       "      <td>335007476673</td>\n",
       "      <td>10</td>\n",
       "      <td>1</td>\n",
       "      <td>0.1</td>\n",
       "    </tr>\n",
       "    <tr>\n",
       "      <th>8583</th>\n",
       "      <td>25769837299</td>\n",
       "      <td>10</td>\n",
       "      <td>1</td>\n",
       "      <td>0.1</td>\n",
       "    </tr>\n",
       "    <tr>\n",
       "      <th>8584</th>\n",
       "      <td>103079221259</td>\n",
       "      <td>10</td>\n",
       "      <td>1</td>\n",
       "      <td>0.1</td>\n",
       "    </tr>\n",
       "    <tr>\n",
       "      <th>8585</th>\n",
       "      <td>60129594486</td>\n",
       "      <td>10</td>\n",
       "      <td>1</td>\n",
       "      <td>0.1</td>\n",
       "    </tr>\n",
       "  </tbody>\n",
       "</table>\n",
       "<p>8586 rows × 4 columns</p>\n",
       "</div>"
      ],
      "text/plain": [
       "         component  company_count  person_count  person_proportion\n",
       "0            32537              1            15               15.0\n",
       "1     257698064439              1            12               12.0\n",
       "2       8589940483              1            11               11.0\n",
       "3     206158475927              1            11               11.0\n",
       "4     120259129243              1            10               10.0\n",
       "...            ...            ...           ...                ...\n",
       "8581    8589971231             10             1                0.1\n",
       "8582  335007476673             10             1                0.1\n",
       "8583   25769837299             10             1                0.1\n",
       "8584  103079221259             10             1                0.1\n",
       "8585   60129594486             10             1                0.1\n",
       "\n",
       "[8586 rows x 4 columns]"
      ]
     },
     "execution_count": 33,
     "metadata": {},
     "output_type": "execute_result"
    }
   ],
   "source": [
    "components_summary_pd"
   ]
  },
  {
   "cell_type": "code",
   "execution_count": 34,
   "metadata": {},
   "outputs": [
    {
     "data": {
      "text/plain": [
       "<AxesSubplot:ylabel='Frequency'>"
      ]
     },
     "execution_count": 34,
     "metadata": {},
     "output_type": "execute_result"
    },
    {
     "data": {
      "image/png": "[encoded data removed]",
      "text/plain": [
       "<Figure size 432x288 with 1 Axes>"
      ]
     },
     "metadata": {
      "needs_background": "light"
     },
     "output_type": "display_data"
    }
   ],
   "source": [
    "components_summary_pd[\"person_count\"].plot.hist(bins=50, alpha=0.5)"
   ]
  },
  {
   "cell_type": "code",
   "execution_count": 35,
   "metadata": {},
   "outputs": [
    {
     "data": {
      "text/html": [
       "<div>\n",
       "<style scoped>\n",
       "    .dataframe tbody tr th:only-of-type {\n",
       "        vertical-align: middle;\n",
       "    }\n",
       "\n",
       "    .dataframe tbody tr th {\n",
       "        vertical-align: top;\n",
       "    }\n",
       "\n",
       "    .dataframe thead th {\n",
       "        text-align: right;\n",
       "    }\n",
       "</style>\n",
       "<table border=\"1\" class=\"dataframe\">\n",
       "  <thead>\n",
       "    <tr style=\"text-align: right;\">\n",
       "      <th></th>\n",
       "      <th>component</th>\n",
       "      <th>company_count</th>\n",
       "      <th>person_count</th>\n",
       "      <th>person_proportion</th>\n",
       "    </tr>\n",
       "  </thead>\n",
       "  <tbody>\n",
       "    <tr>\n",
       "      <th>8581</th>\n",
       "      <td>8589971231</td>\n",
       "      <td>10</td>\n",
       "      <td>1</td>\n",
       "      <td>0.1</td>\n",
       "    </tr>\n",
       "    <tr>\n",
       "      <th>8582</th>\n",
       "      <td>335007476673</td>\n",
       "      <td>10</td>\n",
       "      <td>1</td>\n",
       "      <td>0.1</td>\n",
       "    </tr>\n",
       "    <tr>\n",
       "      <th>8583</th>\n",
       "      <td>25769837299</td>\n",
       "      <td>10</td>\n",
       "      <td>1</td>\n",
       "      <td>0.1</td>\n",
       "    </tr>\n",
       "    <tr>\n",
       "      <th>8584</th>\n",
       "      <td>103079221259</td>\n",
       "      <td>10</td>\n",
       "      <td>1</td>\n",
       "      <td>0.1</td>\n",
       "    </tr>\n",
       "    <tr>\n",
       "      <th>8585</th>\n",
       "      <td>60129594486</td>\n",
       "      <td>10</td>\n",
       "      <td>1</td>\n",
       "      <td>0.1</td>\n",
       "    </tr>\n",
       "  </tbody>\n",
       "</table>\n",
       "</div>"
      ],
      "text/plain": [
       "         component  company_count  person_count  person_proportion\n",
       "8581    8589971231             10             1                0.1\n",
       "8582  335007476673             10             1                0.1\n",
       "8583   25769837299             10             1                0.1\n",
       "8584  103079221259             10             1                0.1\n",
       "8585   60129594486             10             1                0.1"
      ]
     },
     "execution_count": 35,
     "metadata": {},
     "output_type": "execute_result"
    }
   ],
   "source": [
    "components_summary_pd.query(\"person_count > 0\").tail()"
   ]
  },
  {
   "cell_type": "code",
   "execution_count": 36,
   "metadata": {},
   "outputs": [
    {
     "data": {
      "text/html": [
       "<div>\n",
       "<style scoped>\n",
       "    .dataframe tbody tr th:only-of-type {\n",
       "        vertical-align: middle;\n",
       "    }\n",
       "\n",
       "    .dataframe tbody tr th {\n",
       "        vertical-align: top;\n",
       "    }\n",
       "\n",
       "    .dataframe thead th {\n",
       "        text-align: right;\n",
       "    }\n",
       "</style>\n",
       "<table border=\"1\" class=\"dataframe\">\n",
       "  <thead>\n",
       "    <tr style=\"text-align: right;\">\n",
       "      <th></th>\n",
       "      <th>id</th>\n",
       "      <th>isCompany</th>\n",
       "      <th>component</th>\n",
       "      <th>name</th>\n",
       "      <th>foundingDate</th>\n",
       "      <th>dissolutionDate</th>\n",
       "      <th>countryCode</th>\n",
       "      <th>companiesHouseID</th>\n",
       "      <th>openCorporatesID</th>\n",
       "      <th>openOwnershipRegisterID</th>\n",
       "      <th>CompanyCategory</th>\n",
       "      <th>CompanyStatus</th>\n",
       "      <th>Accounts_AccountCategory</th>\n",
       "      <th>SICCode_SicText_1</th>\n",
       "    </tr>\n",
       "  </thead>\n",
       "  <tbody>\n",
       "  </tbody>\n",
       "</table>\n",
       "</div>"
      ],
      "text/plain": [
       "Empty DataFrame\n",
       "Columns: [id, isCompany, component, name, foundingDate, dissolutionDate, countryCode, companiesHouseID, openCorporatesID, openOwnershipRegisterID, CompanyCategory, CompanyStatus, Accounts_AccountCategory, SICCode_SicText_1]\n",
       "Index: []"
      ]
     },
     "execution_count": 36,
     "metadata": {},
     "output_type": "execute_result"
    }
   ],
   "source": [
    "companies_nodes_df.filter(F.col(\"component\") == \"8589942400\").toPandas()"
   ]
  },
  {
   "cell_type": "code",
   "execution_count": 37,
   "metadata": {},
   "outputs": [
    {
     "data": {
      "text/html": [
       "<div>\n",
       "<style scoped>\n",
       "    .dataframe tbody tr th:only-of-type {\n",
       "        vertical-align: middle;\n",
       "    }\n",
       "\n",
       "    .dataframe tbody tr th {\n",
       "        vertical-align: top;\n",
       "    }\n",
       "\n",
       "    .dataframe thead th {\n",
       "        text-align: right;\n",
       "    }\n",
       "</style>\n",
       "<table border=\"1\" class=\"dataframe\">\n",
       "  <thead>\n",
       "    <tr style=\"text-align: right;\">\n",
       "      <th></th>\n",
       "      <th>id</th>\n",
       "      <th>isCompany</th>\n",
       "      <th>component</th>\n",
       "      <th>birthDate</th>\n",
       "      <th>name</th>\n",
       "      <th>nationality</th>\n",
       "    </tr>\n",
       "  </thead>\n",
       "  <tbody>\n",
       "  </tbody>\n",
       "</table>\n",
       "</div>"
      ],
      "text/plain": [
       "Empty DataFrame\n",
       "Columns: [id, isCompany, component, birthDate, name, nationality]\n",
       "Index: []"
      ]
     },
     "execution_count": 37,
     "metadata": {},
     "output_type": "execute_result"
    }
   ],
   "source": [
    "persons_nodes_df.filter(F.col(\"component\") == \"8589942400\").toPandas()\n"
   ]
  },
  {
   "cell_type": "code",
   "execution_count": 38,
   "metadata": {},
   "outputs": [
    {
     "data": {
      "text/html": [
       "<div>\n",
       "<style scoped>\n",
       "    .dataframe tbody tr th:only-of-type {\n",
       "        vertical-align: middle;\n",
       "    }\n",
       "\n",
       "    .dataframe tbody tr th {\n",
       "        vertical-align: top;\n",
       "    }\n",
       "\n",
       "    .dataframe thead th {\n",
       "        text-align: right;\n",
       "    }\n",
       "</style>\n",
       "<table border=\"1\" class=\"dataframe\">\n",
       "  <thead>\n",
       "    <tr style=\"text-align: right;\">\n",
       "      <th></th>\n",
       "      <th>id</th>\n",
       "      <th>isCompany</th>\n",
       "      <th>component</th>\n",
       "      <th>name</th>\n",
       "      <th>foundingDate</th>\n",
       "      <th>dissolutionDate</th>\n",
       "      <th>countryCode</th>\n",
       "      <th>companiesHouseID</th>\n",
       "      <th>openCorporatesID</th>\n",
       "      <th>openOwnershipRegisterID</th>\n",
       "      <th>CompanyCategory</th>\n",
       "      <th>CompanyStatus</th>\n",
       "      <th>Accounts_AccountCategory</th>\n",
       "      <th>SICCode_SicText_1</th>\n",
       "    </tr>\n",
       "  </thead>\n",
       "  <tbody>\n",
       "  </tbody>\n",
       "</table>\n",
       "</div>"
      ],
      "text/plain": [
       "Empty DataFrame\n",
       "Columns: [id, isCompany, component, name, foundingDate, dissolutionDate, countryCode, companiesHouseID, openCorporatesID, openOwnershipRegisterID, CompanyCategory, CompanyStatus, Accounts_AccountCategory, SICCode_SicText_1]\n",
       "Index: []"
      ]
     },
     "execution_count": 38,
     "metadata": {},
     "output_type": "execute_result"
    }
   ],
   "source": [
    "companies_nodes_df.filter(F.col(\"component\").isNull()).toPandas()"
   ]
  },
  {
   "cell_type": "code",
   "execution_count": 39,
   "metadata": {},
   "outputs": [
    {
     "data": {
      "text/plain": [
       "['id',\n",
       " 'isCompany',\n",
       " 'component',\n",
       " 'name',\n",
       " 'foundingDate',\n",
       " 'dissolutionDate',\n",
       " 'countryCode',\n",
       " 'companiesHouseID',\n",
       " 'openCorporatesID',\n",
       " 'openOwnershipRegisterID',\n",
       " 'CompanyCategory',\n",
       " 'CompanyStatus',\n",
       " 'Accounts_AccountCategory',\n",
       " 'SICCode_SicText_1']"
      ]
     },
     "execution_count": 39,
     "metadata": {},
     "output_type": "execute_result"
    }
   ],
   "source": [
    "companies_nodes_df.columns"
   ]
  },
  {
   "cell_type": "code",
   "execution_count": 40,
   "metadata": {},
   "outputs": [
    {
     "data": {
      "text/html": [
       "<div>\n",
       "<style scoped>\n",
       "    .dataframe tbody tr th:only-of-type {\n",
       "        vertical-align: middle;\n",
       "    }\n",
       "\n",
       "    .dataframe tbody tr th {\n",
       "        vertical-align: top;\n",
       "    }\n",
       "\n",
       "    .dataframe thead th {\n",
       "        text-align: right;\n",
       "    }\n",
       "</style>\n",
       "<table border=\"1\" class=\"dataframe\">\n",
       "  <thead>\n",
       "    <tr style=\"text-align: right;\">\n",
       "      <th></th>\n",
       "      <th>id</th>\n",
       "      <th>isCompany</th>\n",
       "      <th>component</th>\n",
       "      <th>name</th>\n",
       "      <th>foundingDate</th>\n",
       "      <th>dissolutionDate</th>\n",
       "      <th>countryCode</th>\n",
       "      <th>companiesHouseID</th>\n",
       "      <th>openCorporatesID</th>\n",
       "      <th>openOwnershipRegisterID</th>\n",
       "      <th>CompanyCategory</th>\n",
       "      <th>CompanyStatus</th>\n",
       "      <th>Accounts_AccountCategory</th>\n",
       "      <th>SICCode_SicText_1</th>\n",
       "    </tr>\n",
       "  </thead>\n",
       "  <tbody>\n",
       "    <tr>\n",
       "      <th>0</th>\n",
       "      <td>13263911563944180045</td>\n",
       "      <td>True</td>\n",
       "      <td>94489297890</td>\n",
       "      <td>None</td>\n",
       "      <td>None</td>\n",
       "      <td>None</td>\n",
       "      <td>GB</td>\n",
       "      <td>13536622</td>\n",
       "      <td>None</td>\n",
       "      <td>http://register.openownership.org/entities/610...</td>\n",
       "      <td>Private Limited Company</td>\n",
       "      <td>Active</td>\n",
       "      <td>NO ACCOUNTS FILED</td>\n",
       "      <td>68100 - Buying and selling of own real estate</td>\n",
       "    </tr>\n",
       "    <tr>\n",
       "      <th>1</th>\n",
       "      <td>15032184123090580598</td>\n",
       "      <td>True</td>\n",
       "      <td>77309455143</td>\n",
       "      <td>None</td>\n",
       "      <td>None</td>\n",
       "      <td>None</td>\n",
       "      <td>GB</td>\n",
       "      <td>13520961</td>\n",
       "      <td>None</td>\n",
       "      <td>http://register.openownership.org/entities/60f...</td>\n",
       "      <td>Private Limited Company</td>\n",
       "      <td>Active</td>\n",
       "      <td>NO ACCOUNTS FILED</td>\n",
       "      <td>43290 - Other construction installation</td>\n",
       "    </tr>\n",
       "    <tr>\n",
       "      <th>2</th>\n",
       "      <td>1594164572366880885</td>\n",
       "      <td>True</td>\n",
       "      <td>77309438912</td>\n",
       "      <td>None</td>\n",
       "      <td>None</td>\n",
       "      <td>None</td>\n",
       "      <td>GB</td>\n",
       "      <td>13532207</td>\n",
       "      <td>None</td>\n",
       "      <td>http://register.openownership.org/entities/610...</td>\n",
       "      <td>Private Limited Company</td>\n",
       "      <td>Active</td>\n",
       "      <td>NO ACCOUNTS FILED</td>\n",
       "      <td>99999 - Dormant Company</td>\n",
       "    </tr>\n",
       "    <tr>\n",
       "      <th>3</th>\n",
       "      <td>3684534180296136072</td>\n",
       "      <td>True</td>\n",
       "      <td>23065</td>\n",
       "      <td>None</td>\n",
       "      <td>None</td>\n",
       "      <td>None</td>\n",
       "      <td>GB</td>\n",
       "      <td>13547263</td>\n",
       "      <td>None</td>\n",
       "      <td>http://register.openownership.org/entities/610...</td>\n",
       "      <td>Private Limited Company</td>\n",
       "      <td>Active</td>\n",
       "      <td>NO ACCOUNTS FILED</td>\n",
       "      <td>98000 - Residents property management</td>\n",
       "    </tr>\n",
       "    <tr>\n",
       "      <th>4</th>\n",
       "      <td>17932208400311361226</td>\n",
       "      <td>True</td>\n",
       "      <td>25769805039</td>\n",
       "      <td>None</td>\n",
       "      <td>None</td>\n",
       "      <td>None</td>\n",
       "      <td>GB</td>\n",
       "      <td>13539518</td>\n",
       "      <td>None</td>\n",
       "      <td>http://register.openownership.org/entities/610...</td>\n",
       "      <td>Private Limited Company</td>\n",
       "      <td>Active</td>\n",
       "      <td>NO ACCOUNTS FILED</td>\n",
       "      <td>64921 - Credit granting by non-deposit taking ...</td>\n",
       "    </tr>\n",
       "    <tr>\n",
       "      <th>...</th>\n",
       "      <td>...</td>\n",
       "      <td>...</td>\n",
       "      <td>...</td>\n",
       "      <td>...</td>\n",
       "      <td>...</td>\n",
       "      <td>...</td>\n",
       "      <td>...</td>\n",
       "      <td>...</td>\n",
       "      <td>...</td>\n",
       "      <td>...</td>\n",
       "      <td>...</td>\n",
       "      <td>...</td>\n",
       "      <td>...</td>\n",
       "      <td>...</td>\n",
       "    </tr>\n",
       "    <tr>\n",
       "      <th>456</th>\n",
       "      <td>17647701017630119736</td>\n",
       "      <td>True</td>\n",
       "      <td>30603</td>\n",
       "      <td>None</td>\n",
       "      <td>None</td>\n",
       "      <td>None</td>\n",
       "      <td>GB</td>\n",
       "      <td>13514449</td>\n",
       "      <td>None</td>\n",
       "      <td>http://register.openownership.org/entities/60f...</td>\n",
       "      <td>Private Limited Company</td>\n",
       "      <td>Active</td>\n",
       "      <td>NO ACCOUNTS FILED</td>\n",
       "      <td>10890 - Manufacture of other food products n.e.c.</td>\n",
       "    </tr>\n",
       "    <tr>\n",
       "      <th>457</th>\n",
       "      <td>10168366228266865725</td>\n",
       "      <td>True</td>\n",
       "      <td>17179912213</td>\n",
       "      <td>None</td>\n",
       "      <td>None</td>\n",
       "      <td>None</td>\n",
       "      <td>GB</td>\n",
       "      <td>13547533</td>\n",
       "      <td>None</td>\n",
       "      <td>http://register.openownership.org/entities/610...</td>\n",
       "      <td>Private Limited Company</td>\n",
       "      <td>Active</td>\n",
       "      <td>NO ACCOUNTS FILED</td>\n",
       "      <td>68209 - Other letting and operating of own or ...</td>\n",
       "    </tr>\n",
       "    <tr>\n",
       "      <th>458</th>\n",
       "      <td>13066924491009725446</td>\n",
       "      <td>True</td>\n",
       "      <td>49399</td>\n",
       "      <td>None</td>\n",
       "      <td>None</td>\n",
       "      <td>None</td>\n",
       "      <td>GB</td>\n",
       "      <td>13514842</td>\n",
       "      <td>None</td>\n",
       "      <td>http://register.openownership.org/entities/60f...</td>\n",
       "      <td>Private Limited Company</td>\n",
       "      <td>Active</td>\n",
       "      <td>NO ACCOUNTS FILED</td>\n",
       "      <td>72110 - Research and experimental development ...</td>\n",
       "    </tr>\n",
       "    <tr>\n",
       "      <th>459</th>\n",
       "      <td>2450302090764688576</td>\n",
       "      <td>True</td>\n",
       "      <td>25769823588</td>\n",
       "      <td>None</td>\n",
       "      <td>None</td>\n",
       "      <td>None</td>\n",
       "      <td>GB</td>\n",
       "      <td>13534602</td>\n",
       "      <td>None</td>\n",
       "      <td>http://register.openownership.org/entities/610...</td>\n",
       "      <td>Private Limited Company</td>\n",
       "      <td>Active</td>\n",
       "      <td>NO ACCOUNTS FILED</td>\n",
       "      <td>99999 - Dormant Company</td>\n",
       "    </tr>\n",
       "    <tr>\n",
       "      <th>460</th>\n",
       "      <td>4062548324391971095</td>\n",
       "      <td>True</td>\n",
       "      <td>25769851020</td>\n",
       "      <td>None</td>\n",
       "      <td>None</td>\n",
       "      <td>None</td>\n",
       "      <td>GB</td>\n",
       "      <td>13517494</td>\n",
       "      <td>None</td>\n",
       "      <td>http://register.openownership.org/entities/60f...</td>\n",
       "      <td>Private Limited Company</td>\n",
       "      <td>Active</td>\n",
       "      <td>NO ACCOUNTS FILED</td>\n",
       "      <td>35110 - Production of electricity</td>\n",
       "    </tr>\n",
       "  </tbody>\n",
       "</table>\n",
       "<p>461 rows × 14 columns</p>\n",
       "</div>"
      ],
      "text/plain": [
       "                       id  isCompany    component  name foundingDate  \\\n",
       "0    13263911563944180045       True  94489297890  None         None   \n",
       "1    15032184123090580598       True  77309455143  None         None   \n",
       "2     1594164572366880885       True  77309438912  None         None   \n",
       "3     3684534180296136072       True        23065  None         None   \n",
       "4    17932208400311361226       True  25769805039  None         None   \n",
       "..                    ...        ...          ...   ...          ...   \n",
       "456  17647701017630119736       True        30603  None         None   \n",
       "457  10168366228266865725       True  17179912213  None         None   \n",
       "458  13066924491009725446       True        49399  None         None   \n",
       "459   2450302090764688576       True  25769823588  None         None   \n",
       "460   4062548324391971095       True  25769851020  None         None   \n",
       "\n",
       "    dissolutionDate countryCode companiesHouseID openCorporatesID  \\\n",
       "0              None          GB         13536622             None   \n",
       "1              None          GB         13520961             None   \n",
       "2              None          GB         13532207             None   \n",
       "3              None          GB         13547263             None   \n",
       "4              None          GB         13539518             None   \n",
       "..              ...         ...              ...              ...   \n",
       "456            None          GB         13514449             None   \n",
       "457            None          GB         13547533             None   \n",
       "458            None          GB         13514842             None   \n",
       "459            None          GB         13534602             None   \n",
       "460            None          GB         13517494             None   \n",
       "\n",
       "                               openOwnershipRegisterID  \\\n",
       "0    http://register.openownership.org/entities/610...   \n",
       "1    http://register.openownership.org/entities/60f...   \n",
       "2    http://register.openownership.org/entities/610...   \n",
       "3    http://register.openownership.org/entities/610...   \n",
       "4    http://register.openownership.org/entities/610...   \n",
       "..                                                 ...   \n",
       "456  http://register.openownership.org/entities/60f...   \n",
       "457  http://register.openownership.org/entities/610...   \n",
       "458  http://register.openownership.org/entities/60f...   \n",
       "459  http://register.openownership.org/entities/610...   \n",
       "460  http://register.openownership.org/entities/60f...   \n",
       "\n",
       "             CompanyCategory CompanyStatus Accounts_AccountCategory  \\\n",
       "0    Private Limited Company        Active        NO ACCOUNTS FILED   \n",
       "1    Private Limited Company        Active        NO ACCOUNTS FILED   \n",
       "2    Private Limited Company        Active        NO ACCOUNTS FILED   \n",
       "3    Private Limited Company        Active        NO ACCOUNTS FILED   \n",
       "4    Private Limited Company        Active        NO ACCOUNTS FILED   \n",
       "..                       ...           ...                      ...   \n",
       "456  Private Limited Company        Active        NO ACCOUNTS FILED   \n",
       "457  Private Limited Company        Active        NO ACCOUNTS FILED   \n",
       "458  Private Limited Company        Active        NO ACCOUNTS FILED   \n",
       "459  Private Limited Company        Active        NO ACCOUNTS FILED   \n",
       "460  Private Limited Company        Active        NO ACCOUNTS FILED   \n",
       "\n",
       "                                     SICCode_SicText_1  \n",
       "0        68100 - Buying and selling of own real estate  \n",
       "1              43290 - Other construction installation  \n",
       "2                              99999 - Dormant Company  \n",
       "3                98000 - Residents property management  \n",
       "4    64921 - Credit granting by non-deposit taking ...  \n",
       "..                                                 ...  \n",
       "456  10890 - Manufacture of other food products n.e.c.  \n",
       "457  68209 - Other letting and operating of own or ...  \n",
       "458  72110 - Research and experimental development ...  \n",
       "459                            99999 - Dormant Company  \n",
       "460                  35110 - Production of electricity  \n",
       "\n",
       "[461 rows x 14 columns]"
      ]
     },
     "execution_count": 40,
     "metadata": {},
     "output_type": "execute_result"
    }
   ],
   "source": [
    "companies_nodes_df.filter(F.col(\"name\").isNull()).toPandas()"
   ]
  },
  {
   "cell_type": "code",
   "execution_count": null,
   "metadata": {},
   "outputs": [],
   "source": []
  },
  {
   "cell_type": "code",
   "execution_count": null,
   "metadata": {},
   "outputs": [],
   "source": []
  },
  {
   "cell_type": "code",
   "execution_count": null,
   "metadata": {},
   "outputs": [],
   "source": []
  }
 ],
 "metadata": {
  "jupytext": {
   "formats": "ipynb,py:percent"
  },
  "kernelspec": {
   "display_name": "Python 3 (ipykernel)",
   "language": "python",
   "name": "python3"
  },
  "language_info": {
   "codemirror_mode": {
    "name": "ipython",
    "version": 3
   },
   "file_extension": ".py",
   "mimetype": "text/x-python",
   "name": "python",
   "nbconvert_exporter": "python",
   "pygments_lexer": "ipython3",
   "version": "3.9.12"
  },
  "vscode": {
   "interpreter": {
    "hash": "c9b131bfea46adc0e6841e7be18b140852cf163d67d3b9948cbb78fda58292a9"
   }
  }
 },
 "nbformat": 4,
 "nbformat_minor": 2
}
