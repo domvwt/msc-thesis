{
 "cells": [
  {
   "cell_type": "code",
   "execution_count": 1,
   "id": "02e6e8b5",
   "metadata": {
    "lines_to_next_cell": 2
   },
   "outputs": [],
   "source": [
    "import os\n",
    "from pathlib import Path\n",
    "\n",
    "import pandas as pd\n",
    "import networkx as nx\n",
    "import scipy.sparse as sp\n",
    "import yaml\n",
    "\n",
    "while not Path(\"data\") in Path(\".\").iterdir():\n",
    "    os.chdir(\"..\")\n",
    "\n",
    "import mscproject.dataprep as dp\n",
    "import mscproject.features as feat\n",
    "import mscproject.simulate as sim"
   ]
  },
  {
   "cell_type": "code",
   "execution_count": 2,
   "id": "5f0b99f0",
   "metadata": {},
   "outputs": [],
   "source": [
    "%load_ext autoreload\n",
    "%autoreload 2"
   ]
  },
  {
   "cell_type": "code",
   "execution_count": 3,
   "id": "bc90d292",
   "metadata": {},
   "outputs": [],
   "source": [
    "conf_dict = yaml.safe_load(Path(\"config/conf.yaml\").read_text())\n",
    "\n",
    "# Load features\n",
    "companies_features = pd.read_parquet(conf_dict[\"companies_features\"])\n",
    "persons_features = pd.read_parquet(conf_dict[\"persons_features\"])\n",
    "edges_features = pd.read_parquet(conf_dict[\"edges_features\"])"
   ]
  },
  {
   "cell_type": "code",
   "execution_count": 4,
   "id": "22d7b7e5",
   "metadata": {},
   "outputs": [
    {
     "name": "stderr",
     "output_type": "stream",
     "text": [
      "/tmp/ipykernel_13315/2785072395.py:1: FutureWarning: The series.append method is deprecated and will be removed from pandas in a future version. Use pandas.concat instead.\n",
      "  all_edge_ids = edges_features[\"src\"].append(edges_features[\"dst\"]).unique()\n"
     ]
    }
   ],
   "source": [
    "all_edge_ids = edges_features[\"src\"].append(edges_features[\"dst\"]).unique()"
   ]
  },
  {
   "cell_type": "code",
   "execution_count": 5,
   "id": "3fbeda0c",
   "metadata": {},
   "outputs": [
    {
     "data": {
      "text/plain": [
       "array(['2356236782051912119', '692314493058510508',\n",
       "       '15829769449001705952', ..., '15233613116661558738',\n",
       "       '7879326061664287605', '3003051962805999676'], dtype=object)"
      ]
     },
     "execution_count": 5,
     "metadata": {},
     "output_type": "execute_result"
    }
   ],
   "source": [
    "all_edge_ids"
   ]
  },
  {
   "cell_type": "code",
   "execution_count": 6,
   "id": "35064e45",
   "metadata": {},
   "outputs": [],
   "source": [
    "# select node ids that aren't in all_edge_ids\n",
    "missing_companies = companies_features.query(\"id not in @all_edge_ids\")\n",
    "missing_persons = persons_features.query(\"id not in @all_edge_ids\")"
   ]
  },
  {
   "cell_type": "code",
   "execution_count": 7,
   "id": "79ec29c7",
   "metadata": {},
   "outputs": [
    {
     "data": {
      "text/html": [
       "<div>\n",
       "<style scoped>\n",
       "    .dataframe tbody tr th:only-of-type {\n",
       "        vertical-align: middle;\n",
       "    }\n",
       "\n",
       "    .dataframe tbody tr th {\n",
       "        vertical-align: top;\n",
       "    }\n",
       "\n",
       "    .dataframe thead th {\n",
       "        text-align: right;\n",
       "    }\n",
       "</style>\n",
       "<table border=\"1\" class=\"dataframe\">\n",
       "  <thead>\n",
       "    <tr style=\"text-align: right;\">\n",
       "      <th></th>\n",
       "      <th>id</th>\n",
       "      <th>component</th>\n",
       "      <th>isCompany</th>\n",
       "      <th>name</th>\n",
       "      <th>foundingDate</th>\n",
       "      <th>dissolutionDate</th>\n",
       "      <th>countryCode</th>\n",
       "      <th>companiesHouseID</th>\n",
       "      <th>openCorporatesID</th>\n",
       "      <th>openOwnershipRegisterID</th>\n",
       "      <th>...</th>\n",
       "      <th>closeness</th>\n",
       "      <th>clustering</th>\n",
       "      <th>pagerank</th>\n",
       "      <th>neighbour_count</th>\n",
       "      <th>neighbourhood_indegree</th>\n",
       "      <th>neighbourhood_outdegree</th>\n",
       "      <th>neighbourhood_closeness</th>\n",
       "      <th>neighbourhood_clustering</th>\n",
       "      <th>neighbourhood_pagerank</th>\n",
       "      <th>neighbourhood_neighbour_count</th>\n",
       "    </tr>\n",
       "  </thead>\n",
       "  <tbody>\n",
       "  </tbody>\n",
       "</table>\n",
       "<p>0 rows × 27 columns</p>\n",
       "</div>"
      ],
      "text/plain": [
       "Empty DataFrame\n",
       "Columns: [id, component, isCompany, name, foundingDate, dissolutionDate, countryCode, companiesHouseID, openCorporatesID, openOwnershipRegisterID, CompanyCategory, CompanyStatus, Accounts_AccountCategory, SICCode_SicText_1, is_anomalous, indegree, outdegree, closeness, clustering, pagerank, neighbour_count, neighbourhood_indegree, neighbourhood_outdegree, neighbourhood_closeness, neighbourhood_clustering, neighbourhood_pagerank, neighbourhood_neighbour_count]\n",
       "Index: []\n",
       "\n",
       "[0 rows x 27 columns]"
      ]
     },
     "execution_count": 7,
     "metadata": {},
     "output_type": "execute_result"
    }
   ],
   "source": [
    "missing_companies"
   ]
  },
  {
   "cell_type": "code",
   "execution_count": 8,
   "id": "2a8b9277",
   "metadata": {},
   "outputs": [
    {
     "data": {
      "text/html": [
       "<div>\n",
       "<style scoped>\n",
       "    .dataframe tbody tr th:only-of-type {\n",
       "        vertical-align: middle;\n",
       "    }\n",
       "\n",
       "    .dataframe tbody tr th {\n",
       "        vertical-align: top;\n",
       "    }\n",
       "\n",
       "    .dataframe thead th {\n",
       "        text-align: right;\n",
       "    }\n",
       "</style>\n",
       "<table border=\"1\" class=\"dataframe\">\n",
       "  <thead>\n",
       "    <tr style=\"text-align: right;\">\n",
       "      <th></th>\n",
       "      <th>id</th>\n",
       "      <th>component</th>\n",
       "      <th>isCompany</th>\n",
       "      <th>birthDate</th>\n",
       "      <th>name</th>\n",
       "      <th>nationality</th>\n",
       "      <th>is_anomalous</th>\n",
       "      <th>indegree</th>\n",
       "      <th>outdegree</th>\n",
       "      <th>closeness</th>\n",
       "      <th>clustering</th>\n",
       "      <th>pagerank</th>\n",
       "      <th>neighbour_count</th>\n",
       "      <th>neighbourhood_indegree</th>\n",
       "      <th>neighbourhood_outdegree</th>\n",
       "      <th>neighbourhood_closeness</th>\n",
       "      <th>neighbourhood_clustering</th>\n",
       "      <th>neighbourhood_pagerank</th>\n",
       "      <th>neighbourhood_neighbour_count</th>\n",
       "    </tr>\n",
       "  </thead>\n",
       "  <tbody>\n",
       "  </tbody>\n",
       "</table>\n",
       "</div>"
      ],
      "text/plain": [
       "Empty DataFrame\n",
       "Columns: [id, component, isCompany, birthDate, name, nationality, is_anomalous, indegree, outdegree, closeness, clustering, pagerank, neighbour_count, neighbourhood_indegree, neighbourhood_outdegree, neighbourhood_closeness, neighbourhood_clustering, neighbourhood_pagerank, neighbourhood_neighbour_count]\n",
       "Index: []"
      ]
     },
     "execution_count": 8,
     "metadata": {},
     "output_type": "execute_result"
    }
   ],
   "source": [
    "missing_persons"
   ]
  },
  {
   "cell_type": "code",
   "execution_count": 17,
   "id": "4b420699",
   "metadata": {},
   "outputs": [],
   "source": []
  },
  {
   "cell_type": "code",
   "execution_count": 21,
   "id": "668a63bc",
   "metadata": {},
   "outputs": [],
   "source": [
    "G = feat.make_graph(edges_features)\n",
    "components = nx.weakly_connected_components(G)\n",
    "node_id_cc_id_map ={\n",
    "    node_id: component_id\n",
    "    for component_id, component_nodes in enumerate(components)\n",
    "    for node_id in component_nodes \n",
    "}\n"
   ]
  },
  {
   "cell_type": "code",
   "execution_count": null,
   "id": "97544649",
   "metadata": {},
   "outputs": [],
   "source": []
  }
 ],
 "metadata": {
  "jupytext": {
   "formats": "ipynb,py:percent"
  },
  "kernelspec": {
   "display_name": "Python 3.9.12 ('.venv': poetry)",
   "language": "python",
   "name": "python3"
  },
  "language_info": {
   "codemirror_mode": {
    "name": "ipython",
    "version": 3
   },
   "file_extension": ".py",
   "mimetype": "text/x-python",
   "name": "python",
   "nbconvert_exporter": "python",
   "pygments_lexer": "ipython3",
   "version": "3.9.12"
  },
  "vscode": {
   "interpreter": {
    "hash": "c9b131bfea46adc0e6841e7be18b140852cf163d67d3b9948cbb78fda58292a9"
   }
  }
 },
 "nbformat": 4,
 "nbformat_minor": 5
}
