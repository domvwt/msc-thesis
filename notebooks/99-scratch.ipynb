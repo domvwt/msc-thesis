{
 "cells": [
  {
   "cell_type": "code",
   "execution_count": 2,
   "id": "02e6e8b5",
   "metadata": {
    "lines_to_next_cell": 2
   },
   "outputs": [],
   "source": [
    "import os\n",
    "from pathlib import Path\n",
    "\n",
    "import pandas as pd\n",
    "import networkx as nx\n",
    "import scipy.sparse as sp\n",
    "import yaml\n",
    "\n",
    "while not Path(\"data\") in Path(\".\").iterdir():\n",
    "    os.chdir(\"..\")\n",
    "\n",
    "import mscproject.dataprep as dp\n",
    "import mscproject.features as feat\n",
    "import mscproject.simulate as sim"
   ]
  },
  {
   "cell_type": "code",
   "execution_count": 3,
   "id": "5f0b99f0",
   "metadata": {},
   "outputs": [],
   "source": [
    "%load_ext autoreload\n",
    "%autoreload 2"
   ]
  },
  {
   "cell_type": "code",
   "execution_count": 6,
   "id": "bc90d292",
   "metadata": {},
   "outputs": [
    {
     "name": "stdout",
     "output_type": "stream",
     "text": [
      "Loading data/graph-features-preprocessed/train/companies.parquet\n",
      "[   6 1531  406 6140 1875 3063 4875 2972  951 5564 6532 1740  662 2532\n",
      " 2846 4876 3100 3561 6340 6060]\n",
      "\n",
      "Loading data/graph-features-preprocessed/train/persons.parquet\n",
      "[5061 3750 6076 6642 4044    6 1922 1096 4032 1505 5376 3671 2102   74\n",
      " 4941  703 6713 4200  324 6093]\n",
      "\n",
      "Loading data/graph-features-preprocessed/train/edges.parquet\n",
      "[ 0  1  2  3  4  5  6 10 11 12 13 14 15 16 20 21 22 23 24 25]\n",
      "\n",
      "Loading data/graph-features-preprocessed/valid/companies.parquet\n",
      "[ 177 5777 6718 5838  897 1027 1028 6827  287  848 4037 4738 1117  807\n",
      "  247 3737 4417 1118 4578  947]\n",
      "\n",
      "Loading data/graph-features-preprocessed/valid/persons.parquet\n",
      "[2737 1487 6197 3657 1117 1677 6417  428 1688 5417 1517 6188 2738  678\n",
      " 5947 1858 1878 5238 4947 2417]\n",
      "\n",
      "Loading data/graph-features-preprocessed/valid/edges.parquet\n",
      "[ 7  8 17 18 27 28 37 38 47 48 57 58 67 68 77 78 87 88 97 98]\n",
      "\n",
      "Loading data/graph-features-preprocessed/test/companies.parquet\n",
      "[6059 2289 5049 5649 5159 5839 2119 6029 6679 2229 5019 6399 6279  859\n",
      "  339 3229 1879 1029 1119 3309]\n",
      "\n",
      "Loading data/graph-features-preprocessed/test/persons.parquet\n",
      "[3679 6049 6589 3909 2769  269  709 6859 6289 3269 2779 6649 3959 3629\n",
      " 1399 3289 1229 4519  889  929]\n",
      "\n",
      "Loading data/graph-features-preprocessed/test/edges.parquet\n",
      "[  9  19  29  39  49  59  69  79  89  99 109 119 129 139 149 159 169 179\n",
      " 189 199]\n",
      "\n"
     ]
    }
   ],
   "source": [
    "conf_dict = yaml.safe_load(Path(\"config/conf.yaml\").read_text())\n",
    "\n",
    "# Load features\n",
    "for data_split in [\"train\", \"valid\", \"test\"]:\n",
    "    for feature_type in [\"companies\", \"persons\", \"edges\"]:\n",
    "        feature_path = (\n",
    "            Path(conf_dict[\"preprocessed_features_path\"])\n",
    "            / data_split\n",
    "            / f\"{feature_type}.parquet\"\n",
    "        )\n",
    "        print(f\"Loading {feature_path}\")\n",
    "        df = pd.read_parquet(feature_path)\n",
    "        # print(df.head())\n",
    "        # print first 20 components\n",
    "        print(df[\"component\"].unique()[:20])\n",
    "        print()"
   ]
  },
  {
   "cell_type": "code",
   "execution_count": null,
   "id": "f36e561c",
   "metadata": {},
   "outputs": [],
   "source": []
  }
 ],
 "metadata": {
  "jupytext": {
   "formats": "ipynb,py:percent"
  },
  "kernelspec": {
   "display_name": "Python 3.9.12 ('.venv': poetry)",
   "language": "python",
   "name": "python3"
  },
  "language_info": {
   "codemirror_mode": {
    "name": "ipython",
    "version": 3
   },
   "file_extension": ".py",
   "mimetype": "text/x-python",
   "name": "python",
   "nbconvert_exporter": "python",
   "pygments_lexer": "ipython3",
   "version": "3.9.12"
  },
  "vscode": {
   "interpreter": {
    "hash": "c9b131bfea46adc0e6841e7be18b140852cf163d67d3b9948cbb78fda58292a9"
   }
  }
 },
 "nbformat": 4,
 "nbformat_minor": 5
}
