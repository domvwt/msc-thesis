{
 "cells": [
  {
   "cell_type": "code",
   "execution_count": 1,
   "metadata": {},
   "outputs": [
    {
     "name": "stderr",
     "output_type": "stream",
     "text": [
      "22/05/25 23:09:24 WARN Utils: Your hostname, domvwt-XPS-13-9305 resolves to a loopback address: 127.0.1.1; using 192.168.0.24 instead (on interface wlp164s0)\n",
      "22/05/25 23:09:24 WARN Utils: Set SPARK_LOCAL_IP if you need to bind to another address\n",
      "22/05/25 23:09:24 WARN NativeCodeLoader: Unable to load native-hadoop library for your platform... using builtin-java classes where applicable\n",
      "Using Spark's default log4j profile: org/apache/spark/log4j-defaults.properties\n",
      "Setting default log level to \"WARN\".\n",
      "To adjust logging level use sc.setLogLevel(newLevel). For SparkR, use setLogLevel(newLevel).\n"
     ]
    }
   ],
   "source": [
    "import os\n",
    "from pathlib import Path\n",
    "\n",
    "import numpy as np\n",
    "import pandas as pd\n",
    "import matplotlib.pyplot as plt\n",
    "import pyspark.sql.functions as F\n",
    "import yaml\n",
    "\n",
    "from pyspark.sql import SparkSession\n",
    "\n",
    "while not Path(\"data\") in Path(\".\").iterdir():\n",
    "    os.chdir(\"..\")\n",
    "\n",
    "plt.style.use(\"seaborn-white\")\n",
    "conf_dict = yaml.safe_load(Path(\"config/conf.yaml\").read_text())\n",
    "\n",
    "spark = SparkSession.builder.getOrCreate()"
   ]
  },
  {
   "cell_type": "markdown",
   "metadata": {},
   "source": [
    "## TODO\n",
    "\n",
    "- [ ] work out how to link persons to companies via relationships\n",
    "- [ ] identify useful node features\n",
    "- [ ] decide whether to model as a heterogeneous \n",
    "- [ ] think we can drop `identifiers`"
   ]
  },
  {
   "cell_type": "code",
   "execution_count": 2,
   "metadata": {},
   "outputs": [],
   "source": [
    "companies_sdf = spark.read.parquet(conf_dict[\"companies_processed\"])\n",
    "relationships_sdf = spark.read.parquet(conf_dict[\"relationships_processed\"])\n",
    "persons_sdf = spark.read.parquet(conf_dict[\"persons_processed\"])"
   ]
  },
  {
   "cell_type": "code",
   "execution_count": 6,
   "metadata": {},
   "outputs": [
    {
     "name": "stdout",
     "output_type": "stream",
     "text": [
      "root\n",
      " |-- interestedParty: struct (nullable = true)\n",
      " |    |-- describedByEntityStatement: string (nullable = true)\n",
      " |    |-- describedByPersonStatement: string (nullable = true)\n",
      " |    |-- unspecified: struct (nullable = true)\n",
      " |    |    |-- description: string (nullable = true)\n",
      " |    |    |-- reason: string (nullable = true)\n",
      " |-- interests: array (nullable = true)\n",
      " |    |-- element: struct (containsNull = true)\n",
      " |    |    |-- details: string (nullable = true)\n",
      " |    |    |-- endDate: string (nullable = true)\n",
      " |    |    |-- share: struct (nullable = true)\n",
      " |    |    |    |-- exact: double (nullable = true)\n",
      " |    |    |    |-- exclusiveMaximum: boolean (nullable = true)\n",
      " |    |    |    |-- exclusiveMinimum: boolean (nullable = true)\n",
      " |    |    |    |-- maximum: double (nullable = true)\n",
      " |    |    |    |-- minimum: double (nullable = true)\n",
      " |    |    |-- startDate: string (nullable = true)\n",
      " |    |    |-- type: string (nullable = true)\n",
      " |-- source: struct (nullable = true)\n",
      " |    |-- description: string (nullable = true)\n",
      " |    |-- retrievedAt: string (nullable = true)\n",
      " |    |-- type: array (nullable = true)\n",
      " |    |    |-- element: string (containsNull = true)\n",
      " |    |-- url: string (nullable = true)\n",
      " |-- statementDate: string (nullable = true)\n",
      " |-- statementID: string (nullable = true)\n",
      " |-- subject: struct (nullable = true)\n",
      " |    |-- describedByEntityStatement: string (nullable = true)\n",
      " |-- partition: string (nullable = true)\n",
      "\n"
     ]
    }
   ],
   "source": [
    "relationships_sdf.printSchema()"
   ]
  },
  {
   "cell_type": "code",
   "execution_count": 41,
   "metadata": {},
   "outputs": [
    {
     "name": "stdout",
     "output_type": "stream",
     "text": [
      "+------------------------------------------+-------------------------------------------+-----------+-------------------------------------------+\n",
      "|describedByEntityStatement                |describedByPersonStatement                 |unspecified|describedByEntityStatement                 |\n",
      "+------------------------------------------+-------------------------------------------+-----------+-------------------------------------------+\n",
      "|null                                      |openownership-register-7780563163888271715 |null       |openownership-register-10001903462476671266|\n",
      "|null                                      |openownership-register-4299764521413946178 |null       |openownership-register-10005700944398140823|\n",
      "|null                                      |openownership-register-16055575199624308533|null       |openownership-register-10006249071307456609|\n",
      "|null                                      |openownership-register-17430426542224702560|null       |openownership-register-10027786895758944174|\n",
      "|null                                      |openownership-register-12061582722030891643|null       |openownership-register-10036521580435256212|\n",
      "|null                                      |openownership-register-12762665050306594445|null       |openownership-register-10037408189870711105|\n",
      "|openownership-register-7027115161852010563|null                                       |null       |openownership-register-10046976638995670743|\n",
      "|null                                      |openownership-register-17411095455273813587|null       |openownership-register-10048066712291870417|\n",
      "|null                                      |openownership-register-16557873213468486650|null       |openownership-register-10051230695743664860|\n",
      "|null                                      |openownership-register-4633655965185887308 |null       |openownership-register-10068090675394964563|\n",
      "|null                                      |openownership-register-3905594576524863625 |null       |openownership-register-10073872482094835704|\n",
      "|null                                      |openownership-register-7579083801133777527 |null       |openownership-register-10093566504021206025|\n",
      "|null                                      |openownership-register-12146404989357442055|null       |openownership-register-1011160469908639427 |\n",
      "|null                                      |openownership-register-18167677230647857176|null       |openownership-register-10112160359678703976|\n",
      "|null                                      |openownership-register-14120757655951121926|null       |openownership-register-10112856084522616542|\n",
      "|null                                      |openownership-register-16899108396605044033|null       |openownership-register-10115269120614504628|\n",
      "|null                                      |openownership-register-4064265385914926035 |null       |openownership-register-10124428017745471449|\n",
      "|null                                      |openownership-register-13488127176751461724|null       |openownership-register-10131348707320467564|\n",
      "|null                                      |openownership-register-6336510811464477521 |null       |openownership-register-10131821462104586970|\n",
      "|null                                      |openownership-register-12644871951736978509|null       |openownership-register-10135651976008155951|\n",
      "+------------------------------------------+-------------------------------------------+-----------+-------------------------------------------+\n",
      "only showing top 20 rows\n",
      "\n"
     ]
    }
   ],
   "source": [
    "relationships_sdf.select(\"interestedParty.*\", \"subject.*\").show(truncate=False)"
   ]
  },
  {
   "cell_type": "code",
   "execution_count": 20,
   "metadata": {},
   "outputs": [
    {
     "name": "stdout",
     "output_type": "stream",
     "text": [
      "+-------------------------------------------+-------------------------------------------------------------------------------------------------------------------+\n",
      "|describedByPersonStatement                 |interests                                                                                                          |\n",
      "+-------------------------------------------+-------------------------------------------------------------------------------------------------------------------+\n",
      "|openownership-register-7780563163888271715 |{ownership-of-shares-75-to-100-percent, null, {null, false, false, 100.0, 75.0}, 2018-12-19, shareholding}         |\n",
      "|openownership-register-7780563163888271715 |{ownership-of-shares-75-to-100-percent-as-trust, null, {null, false, false, 100.0, 75.0}, 2018-12-19, shareholding}|\n",
      "|openownership-register-7780563163888271715 |{ownership-of-shares-75-to-100-percent-as-firm, null, {null, false, false, 100.0, 75.0}, 2018-12-19, shareholding} |\n",
      "|openownership-register-7780563163888271715 |{voting-rights-75-to-100-percent, null, {null, false, false, 100.0, 75.0}, 2018-12-19, voting-rights}              |\n",
      "|openownership-register-7780563163888271715 |{voting-rights-75-to-100-percent-as-trust, null, {null, false, false, 100.0, 75.0}, 2018-12-19, voting-rights}     |\n",
      "|openownership-register-7780563163888271715 |{voting-rights-75-to-100-percent-as-firm, null, {null, false, false, 100.0, 75.0}, 2018-12-19, voting-rights}      |\n",
      "|openownership-register-7780563163888271715 |{right-to-appoint-and-remove-directors, null, null, 2018-12-19, appointment-of-board}                              |\n",
      "|openownership-register-7780563163888271715 |{right-to-appoint-and-remove-directors-as-trust, null, null, 2018-12-19, appointment-of-board}                     |\n",
      "|openownership-register-7780563163888271715 |{right-to-appoint-and-remove-directors-as-firm, null, null, 2018-12-19, appointment-of-board}                      |\n",
      "|openownership-register-4299764521413946178 |{significant-influence-or-control, null, null, 2016-10-28, influence-or-control}                                   |\n",
      "|openownership-register-16055575199624308533|{significant-influence-or-control, null, null, 2019-05-13, influence-or-control}                                   |\n",
      "|openownership-register-17430426542224702560|{significant-influence-or-control, null, null, 2019-06-04, influence-or-control}                                   |\n",
      "|openownership-register-12061582722030891643|{ownership-of-shares-25-to-50-percent, null, {null, false, true, 50.0, 25.0}, 2017-06-17, shareholding}            |\n",
      "|openownership-register-12762665050306594445|{ownership-of-shares-75-to-100-percent, null, {null, false, false, 100.0, 75.0}, 2016-04-06, shareholding}         |\n",
      "|null                                       |{ownership-of-shares-75-to-100-percent, null, {null, false, false, 100.0, 75.0}, 2017-10-31, shareholding}         |\n",
      "|openownership-register-17411095455273813587|{ownership-of-shares-25-to-50-percent, null, {null, false, true, 50.0, 25.0}, 2016-04-06, shareholding}            |\n",
      "|openownership-register-17411095455273813587|{voting-rights-25-to-50-percent, null, {null, false, true, 50.0, 25.0}, 2016-04-06, voting-rights}                 |\n",
      "|openownership-register-16557873213468486650|{ownership-of-shares-75-to-100-percent, 2020-11-24, {null, false, false, 100.0, 75.0}, 2020-09-01, shareholding}   |\n",
      "|openownership-register-4633655965185887308 |{ownership-of-shares-75-to-100-percent, null, {null, false, false, 100.0, 75.0}, 2019-08-08, shareholding}         |\n",
      "|openownership-register-4633655965185887308 |{voting-rights-75-to-100-percent, null, {null, false, false, 100.0, 75.0}, 2019-08-08, voting-rights}              |\n",
      "+-------------------------------------------+-------------------------------------------------------------------------------------------------------------------+\n",
      "only showing top 20 rows\n",
      "\n"
     ]
    }
   ],
   "source": [
    "rels_df01 = relationships_sdf.select(\"interestedParty.*\", F.explode(\"interests\").alias(\"interests\")).drop(\"unspecified\", \"describedByEntityStatement\")\n",
    "rels_df01.show(truncate=False)"
   ]
  },
  {
   "cell_type": "code",
   "execution_count": 26,
   "metadata": {},
   "outputs": [
    {
     "name": "stdout",
     "output_type": "stream",
     "text": [
      "+-------------------------------------------+----------------------------------------------+----------+---------------------------------+----------+--------------------+\n",
      "|describedByPersonStatement                 |details                                       |endDate   |share                            |startDate |type                |\n",
      "+-------------------------------------------+----------------------------------------------+----------+---------------------------------+----------+--------------------+\n",
      "|openownership-register-7780563163888271715 |ownership-of-shares-75-to-100-percent         |null      |{null, false, false, 100.0, 75.0}|2018-12-19|shareholding        |\n",
      "|openownership-register-7780563163888271715 |ownership-of-shares-75-to-100-percent-as-trust|null      |{null, false, false, 100.0, 75.0}|2018-12-19|shareholding        |\n",
      "|openownership-register-7780563163888271715 |ownership-of-shares-75-to-100-percent-as-firm |null      |{null, false, false, 100.0, 75.0}|2018-12-19|shareholding        |\n",
      "|openownership-register-7780563163888271715 |voting-rights-75-to-100-percent               |null      |{null, false, false, 100.0, 75.0}|2018-12-19|voting-rights       |\n",
      "|openownership-register-7780563163888271715 |voting-rights-75-to-100-percent-as-trust      |null      |{null, false, false, 100.0, 75.0}|2018-12-19|voting-rights       |\n",
      "|openownership-register-7780563163888271715 |voting-rights-75-to-100-percent-as-firm       |null      |{null, false, false, 100.0, 75.0}|2018-12-19|voting-rights       |\n",
      "|openownership-register-7780563163888271715 |right-to-appoint-and-remove-directors         |null      |null                             |2018-12-19|appointment-of-board|\n",
      "|openownership-register-7780563163888271715 |right-to-appoint-and-remove-directors-as-trust|null      |null                             |2018-12-19|appointment-of-board|\n",
      "|openownership-register-7780563163888271715 |right-to-appoint-and-remove-directors-as-firm |null      |null                             |2018-12-19|appointment-of-board|\n",
      "|openownership-register-4299764521413946178 |significant-influence-or-control              |null      |null                             |2016-10-28|influence-or-control|\n",
      "|openownership-register-16055575199624308533|significant-influence-or-control              |null      |null                             |2019-05-13|influence-or-control|\n",
      "|openownership-register-17430426542224702560|significant-influence-or-control              |null      |null                             |2019-06-04|influence-or-control|\n",
      "|openownership-register-12061582722030891643|ownership-of-shares-25-to-50-percent          |null      |{null, false, true, 50.0, 25.0}  |2017-06-17|shareholding        |\n",
      "|openownership-register-12762665050306594445|ownership-of-shares-75-to-100-percent         |null      |{null, false, false, 100.0, 75.0}|2016-04-06|shareholding        |\n",
      "|null                                       |ownership-of-shares-75-to-100-percent         |null      |{null, false, false, 100.0, 75.0}|2017-10-31|shareholding        |\n",
      "|openownership-register-17411095455273813587|ownership-of-shares-25-to-50-percent          |null      |{null, false, true, 50.0, 25.0}  |2016-04-06|shareholding        |\n",
      "|openownership-register-17411095455273813587|voting-rights-25-to-50-percent                |null      |{null, false, true, 50.0, 25.0}  |2016-04-06|voting-rights       |\n",
      "|openownership-register-16557873213468486650|ownership-of-shares-75-to-100-percent         |2020-11-24|{null, false, false, 100.0, 75.0}|2020-09-01|shareholding        |\n",
      "|openownership-register-4633655965185887308 |ownership-of-shares-75-to-100-percent         |null      |{null, false, false, 100.0, 75.0}|2019-08-08|shareholding        |\n",
      "|openownership-register-4633655965185887308 |voting-rights-75-to-100-percent               |null      |{null, false, false, 100.0, 75.0}|2019-08-08|voting-rights       |\n",
      "+-------------------------------------------+----------------------------------------------+----------+---------------------------------+----------+--------------------+\n",
      "only showing top 20 rows\n",
      "\n"
     ]
    }
   ],
   "source": [
    "rels_df02 = rels_df01.select(\"describedByPersonStatement\", \"interests.*\")\n",
    "rels_df02.show(truncate=False)"
   ]
  },
  {
   "cell_type": "code",
   "execution_count": 28,
   "metadata": {},
   "outputs": [
    {
     "name": "stdout",
     "output_type": "stream",
     "text": [
      "+-----+----------------+----------------+-------+-------+\n",
      "|exact|exclusiveMaximum|exclusiveMinimum|maximum|minimum|\n",
      "+-----+----------------+----------------+-------+-------+\n",
      "|null |false           |false           |100.0  |75.0   |\n",
      "|null |false           |false           |100.0  |75.0   |\n",
      "|null |false           |false           |100.0  |75.0   |\n",
      "|null |false           |false           |100.0  |75.0   |\n",
      "|null |false           |false           |100.0  |75.0   |\n",
      "|null |false           |false           |100.0  |75.0   |\n",
      "|null |null            |null            |null   |null   |\n",
      "|null |null            |null            |null   |null   |\n",
      "|null |null            |null            |null   |null   |\n",
      "|null |null            |null            |null   |null   |\n",
      "|null |null            |null            |null   |null   |\n",
      "|null |null            |null            |null   |null   |\n",
      "|null |false           |true            |50.0   |25.0   |\n",
      "|null |false           |false           |100.0  |75.0   |\n",
      "|null |false           |false           |100.0  |75.0   |\n",
      "|null |false           |true            |50.0   |25.0   |\n",
      "|null |false           |true            |50.0   |25.0   |\n",
      "|null |false           |false           |100.0  |75.0   |\n",
      "|null |false           |false           |100.0  |75.0   |\n",
      "|null |false           |false           |100.0  |75.0   |\n",
      "+-----+----------------+----------------+-------+-------+\n",
      "only showing top 20 rows\n",
      "\n"
     ]
    }
   ],
   "source": [
    "rels_df02.select(\"share.*\").show(truncate=False)"
   ]
  },
  {
   "cell_type": "code",
   "execution_count": 34,
   "metadata": {},
   "outputs": [
    {
     "name": "stderr",
     "output_type": "stream",
     "text": [
      "[Stage 26:========>                                                 (1 + 6) / 7]\r"
     ]
    },
    {
     "name": "stdout",
     "output_type": "stream",
     "text": [
      "+--------------------+----------+--------------------+-----------------+--------------------+----------------+--------------------+---------+\n",
      "|           addresses| birthDate|         identifiers|missingInfoReason|               names|   nationalities|         statementID|partition|\n",
      "+--------------------+----------+--------------------+-----------------+--------------------+----------------+--------------------+---------+\n",
      "|[{Shop/Office # 6...|1983-09-01|[{/company/111907...|             null|[{Ansar Mahmood, ...|[{PK, Pakistan}]|openownership-reg...|       15|\n",
      "+--------------------+----------+--------------------+-----------------+--------------------+----------------+--------------------+---------+\n",
      "\n"
     ]
    },
    {
     "name": "stderr",
     "output_type": "stream",
     "text": [
      "                                                                                \r"
     ]
    }
   ],
   "source": [
    "person = persons_sdf.filter(F.col(\"statementID\") == \"openownership-register-7780563163888271715\")\n",
    "person.show()"
   ]
  },
  {
   "cell_type": "code",
   "execution_count": 39,
   "metadata": {},
   "outputs": [
    {
     "name": "stderr",
     "output_type": "stream",
     "text": [
      "[Stage 38:>                                                         (0 + 7) / 7]\r"
     ]
    },
    {
     "name": "stdout",
     "output_type": "stream",
     "text": [
      "+----------------------------------------------+-------+----+\n",
      "|address                                       |country|type|\n",
      "+----------------------------------------------+-------+----+\n",
      "|Shop/Office # 60, Rushey Green, London, SE64JD|PK     |null|\n",
      "+----------------------------------------------+-------+----+\n",
      "\n"
     ]
    },
    {
     "name": "stderr",
     "output_type": "stream",
     "text": [
      "                                                                                \r"
     ]
    }
   ],
   "source": [
    "person.select(F.explode(\"addresses\")).select(\"col.*\").show(truncate=False)"
   ]
  },
  {
   "cell_type": "code",
   "execution_count": 37,
   "metadata": {},
   "outputs": [
    {
     "name": "stdout",
     "output_type": "stream",
     "text": [
      "+-------------+----------+\n",
      "|     fullName|      type|\n",
      "+-------------+----------+\n",
      "|Ansar Mahmood|individual|\n",
      "+-------------+----------+\n",
      "\n"
     ]
    }
   ],
   "source": [
    "person.select(F.explode(\"names\")).select(\"col.*\").show()"
   ]
  },
  {
   "cell_type": "code",
   "execution_count": 45,
   "metadata": {},
   "outputs": [
    {
     "name": "stderr",
     "output_type": "stream",
     "text": [
      "[Stage 46:===========>                                              (1 + 4) / 5]\r"
     ]
    },
    {
     "name": "stdout",
     "output_type": "stream",
     "text": [
      "+---------------------------------------------------------------------------+---------------+------------+-------------------------------------------------------------------------------------------------------------------------------------------------------------------------------------------------------------------------------------------------------------------------------------------------------------------------------------------------+---------------------+-------------------------------------------+\n",
      "|addresses                                                                  |dissolutionDate|foundingDate|identifiers                                                                                                                                                                                                                                                                                                                                      |name                 |statementID                                |\n",
      "+---------------------------------------------------------------------------+---------------+------------+-------------------------------------------------------------------------------------------------------------------------------------------------------------------------------------------------------------------------------------------------------------------------------------------------------------------------------------------------+---------------------+-------------------------------------------+\n",
      "|[{Shop/Office # 60 Rushey Green, Catform, London, SE6 4JD, GB, registered}]|2020-11-03     |2018-12-19  |[{11734784, GB-COH, Companies House, null}, {https://opencorporates.com/companies/gb/11734784, null, OpenCorporates, https://opencorporates.com/companies/gb/11734784}, {http://register.openownership.org/entities/5c3d28c09dfc3fae18f30d73, null, OpenOwnership Register, http://register.openownership.org/entities/5c3d28c09dfc3fae18f30d73}]|OSH AWARDS UK LIMITED|openownership-register-10001903462476671266|\n",
      "+---------------------------------------------------------------------------+---------------+------------+-------------------------------------------------------------------------------------------------------------------------------------------------------------------------------------------------------------------------------------------------------------------------------------------------------------------------------------------------+---------------------+-------------------------------------------+\n",
      "\n"
     ]
    },
    {
     "name": "stderr",
     "output_type": "stream",
     "text": [
      "                                                                                \r"
     ]
    }
   ],
   "source": [
    "company = companies_sdf.filter(F.col(\"statementID\") == \"openownership-register-10001903462476671266\")\n",
    "company.show(truncate=False)"
   ]
  }
 ],
 "metadata": {
  "interpreter": {
   "hash": "110e85c3fc5b8c82f49ba0bdae2ae83f688488294eba7f71d9f9e7a626a48291"
  },
  "kernelspec": {
   "display_name": "Python 3.10.4 ('.venv': poetry)",
   "language": "python",
   "name": "python3"
  },
  "language_info": {
   "name": "python",
   "version": "3.10.4"
  },
  "orig_nbformat": 4
 },
 "nbformat": 4,
 "nbformat_minor": 2
}
