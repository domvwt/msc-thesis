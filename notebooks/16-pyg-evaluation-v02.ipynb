{
 "cells": [
  {
   "cell_type": "code",
   "execution_count": 7,
   "id": "6b0a93c9",
   "metadata": {},
   "outputs": [],
   "source": [
    "import os\n",
    "from pathlib import Path\n",
    "\n",
    "import numpy as np\n",
    "import optuna\n",
    "import pandas as pd\n",
    "import torch\n",
    "from tqdm import tqdm\n",
    "from torch_geometric.transforms import AddSelfLoops\n",
    "from mscproject.transforms import RemoveSelfLoops\n",
    "\n",
    "from mscproject.datasets import CompanyBeneficialOwners\n",
    "from mscproject.transforms import RemoveSelfLoops\n",
    "import mscproject.models as mod\n",
    "import mscproject.experiment as exp\n",
    "\n",
    "while not Path(\"data\") in Path(\".\").iterdir():\n",
    "    os.chdir(\"..\")"
   ]
  },
  {
   "cell_type": "code",
   "execution_count": 8,
   "id": "df4d972e",
   "metadata": {},
   "outputs": [
    {
     "data": {
      "text/plain": [
       "['GraphSAGE', 'GCN']"
      ]
     },
     "execution_count": 8,
     "metadata": {},
     "output_type": "execute_result"
    }
   ],
   "source": [
    "MODEL_DIR = Path(\"data/models/pyg/unregularised/\")\n",
    "OPTUNA_DB = Path(\"data/optuna-03.db\")\n",
    "DATASET_PATH = Path(\"data/pyg\")\n",
    "PREDICTION_DIR = Path(\"data/predictions\")\n",
    "\n",
    "model_names = [x.stem for x in MODEL_DIR.iterdir()]\n",
    "model_names"
   ]
  },
  {
   "cell_type": "code",
   "execution_count": 9,
   "id": "422394fc",
   "metadata": {},
   "outputs": [],
   "source": [
    "def get_best_trial(model_name):\n",
    "    study = optuna.load_study(\n",
    "        study_name=f\"pyg_model_selection_{model_name}_DESIGN\",\n",
    "        storage=f\"sqlite:///{OPTUNA_DB}\",\n",
    "    )\n",
    "    model_params = study.best_params\n",
    "    user_attrs = study.best_trial.user_attrs\n",
    "    return model_params, user_attrs"
   ]
  },
  {
   "cell_type": "code",
   "execution_count": 10,
   "id": "bd8656a5",
   "metadata": {},
   "outputs": [
    {
     "name": "stdout",
     "output_type": "stream",
     "text": [
      "Evaluating model: GraphSAGE\n",
      "GraphSAGE loss: 1.194, acc: 0.926, prc: 0.597, rec: 0.891, f1: 0.715, auc: 0.953, aprc: 0.766\n",
      "Making predictions...\n",
      "Saving predictions...\n",
      "Evaluating model: GCN\n",
      "GCN loss: 0.925, acc: 0.932, prc: 0.617, rec: 0.970, f1: 0.754, auc: 0.982, aprc: 0.903\n",
      "Making predictions...\n",
      "Saving predictions...\n"
     ]
    }
   ],
   "source": [
    "device = \"cuda\" if torch.cuda.is_available() else \"cpu\"\n",
    "\n",
    "model_metrics = {}\n",
    "\n",
    "# Load and evaluate models\n",
    "for model_name in model_names:\n",
    "\n",
    "    print(\"Evaluating model:\", model_name)\n",
    "\n",
    "    model_path = MODEL_DIR / f\"{model_name}.pt\"\n",
    "    if not model_path.exists():\n",
    "        print(f\"Model {model_name} does not exist, skipping\")\n",
    "        continue\n",
    "\n",
    "    model_params, user_attrs = get_best_trial(model_name)\n",
    "    user_attrs[\"model_type\"] = model_name\n",
    "\n",
    "    dataset = CompanyBeneficialOwners(DATASET_PATH, to_undirected=True)\n",
    "    dataset = dataset.data.to(device)\n",
    "\n",
    "    model, optimiser, _ = exp.build_experiment_from_trial_params(\n",
    "        model_params, user_attrs, dataset\n",
    "    )\n",
    "    model.load_state_dict(torch.load(model_path, map_location=torch.device(device)))\n",
    "\n",
    "    model.to(device)\n",
    "\n",
    "    if model_params[\"add_self_loops\"]:\n",
    "        dataset = AddSelfLoops(fill_value=1.0)(dataset)\n",
    "    else:\n",
    "        dataset = RemoveSelfLoops()(dataset)\n",
    "\n",
    "    eval_metrics = exp.evaluate(\n",
    "        model, dataset, on_train=False, on_val=False, on_test=True\n",
    "    )\n",
    "\n",
    "    model_metrics[model_name] = eval_metrics.test\n",
    "    print(model_name, eval_metrics.test)\n",
    "\n",
    "    print(\"Making predictions...\")\n",
    "    prediction_dict = model(dataset.x_dict, dataset.edge_index_dict)\n",
    "    prediction_df_list = []\n",
    "\n",
    "    print(\"Saving predictions...\")\n",
    "    for node_type in dataset.node_types:\n",
    "        prediction = (\n",
    "            prediction_dict[node_type][dataset[node_type].test_mask]\n",
    "            .cpu()\n",
    "            .detach()\n",
    "            .numpy()\n",
    "            .flatten()\n",
    "        )\n",
    "        actual = (\n",
    "            dataset.y_dict[node_type][dataset[node_type].test_mask]\n",
    "            .cpu()\n",
    "            .detach()\n",
    "            .numpy()\n",
    "            .flatten()\n",
    "        )\n",
    "        df = pd.DataFrame({\"pred_proba\": prediction, \"actual\": actual})\n",
    "        prediction_df_list.append(df)\n",
    "\n",
    "    prediction_df = pd.concat(prediction_df_list)\n",
    "    prediction_df.to_csv(PREDICTION_DIR / f\"{model_name}.csv\", index=False)"
   ]
  },
  {
   "cell_type": "code",
   "execution_count": 11,
   "id": "d62fce2e",
   "metadata": {},
   "outputs": [],
   "source": [
    "performance_comparison = pd.DataFrame.from_dict(model_metrics, orient=\"index\")\n",
    "performance_comparison.to_csv(\"reports/test-performance-pyg.csv\", index_label=\"model\")"
   ]
  },
  {
   "cell_type": "code",
   "execution_count": null,
   "id": "f3b6ddfb",
   "metadata": {},
   "outputs": [],
   "source": []
  }
 ],
 "metadata": {
  "jupytext": {
   "formats": "ipynb,py:percent"
  },
  "kernelspec": {
   "display_name": "Python 3.9.12 ('.venv': poetry)",
   "language": "python",
   "name": "python3"
  },
  "language_info": {
   "codemirror_mode": {
    "name": "ipython",
    "version": 3
   },
   "file_extension": ".py",
   "mimetype": "text/x-python",
   "name": "python",
   "nbconvert_exporter": "python",
   "pygments_lexer": "ipython3",
   "version": "3.9.12"
  },
  "vscode": {
   "interpreter": {
    "hash": "c9b131bfea46adc0e6841e7be18b140852cf163d67d3b9948cbb78fda58292a9"
   }
  }
 },
 "nbformat": 4,
 "nbformat_minor": 5
}
