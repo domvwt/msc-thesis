{
 "cells": [
  {
   "cell_type": "code",
   "execution_count": 2,
   "id": "66e3d120",
   "metadata": {},
   "outputs": [
    {
     "name": "stderr",
     "output_type": "stream",
     "text": [
      "22/05/30 22:32:28 WARN Utils: Your hostname, domvwt-XPS-13-9305 resolves to a loopback address: 127.0.1.1; using 192.168.0.24 instead (on interface wlp164s0)\n",
      "22/05/30 22:32:28 WARN Utils: Set SPARK_LOCAL_IP if you need to bind to another address\n",
      "22/05/30 22:32:28 WARN NativeCodeLoader: Unable to load native-hadoop library for your platform... using builtin-java classes where applicable\n",
      "Using Spark's default log4j profile: org/apache/spark/log4j-defaults.properties\n",
      "Setting default log level to \"WARN\".\n",
      "To adjust logging level use sc.setLogLevel(newLevel). For SparkR, use setLogLevel(newLevel).\n",
      "22/05/30 22:32:29 WARN Utils: Service 'SparkUI' could not bind on port 4040. Attempting port 4041.\n",
      "22/05/30 22:32:29 WARN Utils: Service 'SparkUI' could not bind on port 4041. Attempting port 4042.\n"
     ]
    }
   ],
   "source": [
    "import os\n",
    "from pathlib import Path\n",
    "\n",
    "import numpy as np\n",
    "import pandas as pd\n",
    "import matplotlib.pyplot as plt\n",
    "import pyspark.sql.functions as F\n",
    "import yaml\n",
    "\n",
    "from pyspark.sql import SparkSession\n",
    "\n",
    "while not Path(\"data\") in Path(\".\").iterdir():\n",
    "    os.chdir(\"..\")\n",
    "\n",
    "plt.style.use(\"seaborn-white\")\n",
    "conf_dict = yaml.safe_load(Path(\"config/dataprep.yaml\").read_text())\n",
    "\n",
    "spark = SparkSession.builder.getOrCreate()"
   ]
  },
  {
   "cell_type": "code",
   "execution_count": 3,
   "id": "5346d445",
   "metadata": {},
   "outputs": [],
   "source": [
    "def repartition(sdf):\n",
    "    return (\n",
    "        sdf\n",
    "        .withColumn(\"partition\", F.substring(\"statementID\", -2, 2))\n",
    "        .repartition(\"partition\")   \n",
    "    )"
   ]
  },
  {
   "cell_type": "code",
   "execution_count": 4,
   "id": "ef009605",
   "metadata": {},
   "outputs": [
    {
     "ename": "AnalysisException",
     "evalue": "Path does not exist: file:/home/domvwt/repos/msc-thesis/data/interim/addresses.parquet",
     "output_type": "error",
     "traceback": [
      "\u001b[0;31m---------------------------------------------------------------------------\u001b[0m",
      "\u001b[0;31mAnalysisException\u001b[0m                         Traceback (most recent call last)",
      "\u001b[1;32m/home/domvwt/repos/msc-thesis/notebooks/00-initial.ipynb Cell 3'\u001b[0m in \u001b[0;36m<cell line: 3>\u001b[0;34m()\u001b[0m\n\u001b[1;32m      <a href='vscode-notebook-cell:/home/domvwt/repos/msc-thesis/notebooks/00-initial.ipynb#ch0000002?line=0'>1</a>\u001b[0m companies_df \u001b[39m=\u001b[39m repartition(spark\u001b[39m.\u001b[39mread\u001b[39m.\u001b[39mparquet(conf_dict[\u001b[39m\"\u001b[39m\u001b[39mcompanies_interim\u001b[39m\u001b[39m\"\u001b[39m]))\u001b[39m.\u001b[39mselect(conf_dict[\u001b[39m\"\u001b[39m\u001b[39mcompanies_cols\u001b[39m\u001b[39m\"\u001b[39m])\n\u001b[1;32m      <a href='vscode-notebook-cell:/home/domvwt/repos/msc-thesis/notebooks/00-initial.ipynb#ch0000002?line=1'>2</a>\u001b[0m persons_df \u001b[39m=\u001b[39m repartition(spark\u001b[39m.\u001b[39mread\u001b[39m.\u001b[39mparquet(conf_dict[\u001b[39m\"\u001b[39m\u001b[39mpersons_interim\u001b[39m\u001b[39m\"\u001b[39m]))\u001b[39m.\u001b[39mselect(conf_dict[\u001b[39m\"\u001b[39m\u001b[39mpersons_cols\u001b[39m\u001b[39m\"\u001b[39m])\n\u001b[0;32m----> <a href='vscode-notebook-cell:/home/domvwt/repos/msc-thesis/notebooks/00-initial.ipynb#ch0000002?line=2'>3</a>\u001b[0m addresses_df \u001b[39m=\u001b[39m spark\u001b[39m.\u001b[39;49mread\u001b[39m.\u001b[39;49mparquet(conf_dict[\u001b[39m\"\u001b[39;49m\u001b[39maddresses_interim\u001b[39;49m\u001b[39m\"\u001b[39;49m])\u001b[39m.\u001b[39mrepartition(\u001b[39m100\u001b[39m)\n",
      "File \u001b[0;32m~/repos/msc-thesis/.venv/lib/python3.10/site-packages/pyspark/sql/readwriter.py:458\u001b[0m, in \u001b[0;36mDataFrameReader.parquet\u001b[0;34m(self, *paths, **options)\u001b[0m\n\u001b[1;32m    <a href='file:///home/domvwt/repos/msc-thesis/.venv/lib/python3.10/site-packages/pyspark/sql/readwriter.py?line=452'>453</a>\u001b[0m recursiveFileLookup \u001b[39m=\u001b[39m options\u001b[39m.\u001b[39mget(\u001b[39m'\u001b[39m\u001b[39mrecursiveFileLookup\u001b[39m\u001b[39m'\u001b[39m, \u001b[39mNone\u001b[39;00m)\n\u001b[1;32m    <a href='file:///home/domvwt/repos/msc-thesis/.venv/lib/python3.10/site-packages/pyspark/sql/readwriter.py?line=453'>454</a>\u001b[0m \u001b[39mself\u001b[39m\u001b[39m.\u001b[39m_set_opts(mergeSchema\u001b[39m=\u001b[39mmergeSchema, pathGlobFilter\u001b[39m=\u001b[39mpathGlobFilter,\n\u001b[1;32m    <a href='file:///home/domvwt/repos/msc-thesis/.venv/lib/python3.10/site-packages/pyspark/sql/readwriter.py?line=454'>455</a>\u001b[0m                recursiveFileLookup\u001b[39m=\u001b[39mrecursiveFileLookup, modifiedBefore\u001b[39m=\u001b[39mmodifiedBefore,\n\u001b[1;32m    <a href='file:///home/domvwt/repos/msc-thesis/.venv/lib/python3.10/site-packages/pyspark/sql/readwriter.py?line=455'>456</a>\u001b[0m                modifiedAfter\u001b[39m=\u001b[39mmodifiedAfter)\n\u001b[0;32m--> <a href='file:///home/domvwt/repos/msc-thesis/.venv/lib/python3.10/site-packages/pyspark/sql/readwriter.py?line=457'>458</a>\u001b[0m \u001b[39mreturn\u001b[39;00m \u001b[39mself\u001b[39m\u001b[39m.\u001b[39m_df(\u001b[39mself\u001b[39;49m\u001b[39m.\u001b[39;49m_jreader\u001b[39m.\u001b[39;49mparquet(_to_seq(\u001b[39mself\u001b[39;49m\u001b[39m.\u001b[39;49m_spark\u001b[39m.\u001b[39;49m_sc, paths)))\n",
      "File \u001b[0;32m~/repos/msc-thesis/.venv/lib/python3.10/site-packages/py4j/java_gateway.py:1304\u001b[0m, in \u001b[0;36mJavaMember.__call__\u001b[0;34m(self, *args)\u001b[0m\n\u001b[1;32m   <a href='file:///home/domvwt/repos/msc-thesis/.venv/lib/python3.10/site-packages/py4j/java_gateway.py?line=1297'>1298</a>\u001b[0m command \u001b[39m=\u001b[39m proto\u001b[39m.\u001b[39mCALL_COMMAND_NAME \u001b[39m+\u001b[39m\\\n\u001b[1;32m   <a href='file:///home/domvwt/repos/msc-thesis/.venv/lib/python3.10/site-packages/py4j/java_gateway.py?line=1298'>1299</a>\u001b[0m     \u001b[39mself\u001b[39m\u001b[39m.\u001b[39mcommand_header \u001b[39m+\u001b[39m\\\n\u001b[1;32m   <a href='file:///home/domvwt/repos/msc-thesis/.venv/lib/python3.10/site-packages/py4j/java_gateway.py?line=1299'>1300</a>\u001b[0m     args_command \u001b[39m+\u001b[39m\\\n\u001b[1;32m   <a href='file:///home/domvwt/repos/msc-thesis/.venv/lib/python3.10/site-packages/py4j/java_gateway.py?line=1300'>1301</a>\u001b[0m     proto\u001b[39m.\u001b[39mEND_COMMAND_PART\n\u001b[1;32m   <a href='file:///home/domvwt/repos/msc-thesis/.venv/lib/python3.10/site-packages/py4j/java_gateway.py?line=1302'>1303</a>\u001b[0m answer \u001b[39m=\u001b[39m \u001b[39mself\u001b[39m\u001b[39m.\u001b[39mgateway_client\u001b[39m.\u001b[39msend_command(command)\n\u001b[0;32m-> <a href='file:///home/domvwt/repos/msc-thesis/.venv/lib/python3.10/site-packages/py4j/java_gateway.py?line=1303'>1304</a>\u001b[0m return_value \u001b[39m=\u001b[39m get_return_value(\n\u001b[1;32m   <a href='file:///home/domvwt/repos/msc-thesis/.venv/lib/python3.10/site-packages/py4j/java_gateway.py?line=1304'>1305</a>\u001b[0m     answer, \u001b[39mself\u001b[39;49m\u001b[39m.\u001b[39;49mgateway_client, \u001b[39mself\u001b[39;49m\u001b[39m.\u001b[39;49mtarget_id, \u001b[39mself\u001b[39;49m\u001b[39m.\u001b[39;49mname)\n\u001b[1;32m   <a href='file:///home/domvwt/repos/msc-thesis/.venv/lib/python3.10/site-packages/py4j/java_gateway.py?line=1306'>1307</a>\u001b[0m \u001b[39mfor\u001b[39;00m temp_arg \u001b[39min\u001b[39;00m temp_args:\n\u001b[1;32m   <a href='file:///home/domvwt/repos/msc-thesis/.venv/lib/python3.10/site-packages/py4j/java_gateway.py?line=1307'>1308</a>\u001b[0m     temp_arg\u001b[39m.\u001b[39m_detach()\n",
      "File \u001b[0;32m~/repos/msc-thesis/.venv/lib/python3.10/site-packages/pyspark/sql/utils.py:117\u001b[0m, in \u001b[0;36mcapture_sql_exception.<locals>.deco\u001b[0;34m(*a, **kw)\u001b[0m\n\u001b[1;32m    <a href='file:///home/domvwt/repos/msc-thesis/.venv/lib/python3.10/site-packages/pyspark/sql/utils.py?line=112'>113</a>\u001b[0m converted \u001b[39m=\u001b[39m convert_exception(e\u001b[39m.\u001b[39mjava_exception)\n\u001b[1;32m    <a href='file:///home/domvwt/repos/msc-thesis/.venv/lib/python3.10/site-packages/pyspark/sql/utils.py?line=113'>114</a>\u001b[0m \u001b[39mif\u001b[39;00m \u001b[39mnot\u001b[39;00m \u001b[39misinstance\u001b[39m(converted, UnknownException):\n\u001b[1;32m    <a href='file:///home/domvwt/repos/msc-thesis/.venv/lib/python3.10/site-packages/pyspark/sql/utils.py?line=114'>115</a>\u001b[0m     \u001b[39m# Hide where the exception came from that shows a non-Pythonic\u001b[39;00m\n\u001b[1;32m    <a href='file:///home/domvwt/repos/msc-thesis/.venv/lib/python3.10/site-packages/pyspark/sql/utils.py?line=115'>116</a>\u001b[0m     \u001b[39m# JVM exception message.\u001b[39;00m\n\u001b[0;32m--> <a href='file:///home/domvwt/repos/msc-thesis/.venv/lib/python3.10/site-packages/pyspark/sql/utils.py?line=116'>117</a>\u001b[0m     \u001b[39mraise\u001b[39;00m converted \u001b[39mfrom\u001b[39;00m \u001b[39mNone\u001b[39m\n\u001b[1;32m    <a href='file:///home/domvwt/repos/msc-thesis/.venv/lib/python3.10/site-packages/pyspark/sql/utils.py?line=117'>118</a>\u001b[0m \u001b[39melse\u001b[39;00m:\n\u001b[1;32m    <a href='file:///home/domvwt/repos/msc-thesis/.venv/lib/python3.10/site-packages/pyspark/sql/utils.py?line=118'>119</a>\u001b[0m     \u001b[39mraise\u001b[39;00m\n",
      "\u001b[0;31mAnalysisException\u001b[0m: Path does not exist: file:/home/domvwt/repos/msc-thesis/data/interim/addresses.parquet"
     ]
    }
   ],
   "source": [
    "companies_df = repartition(spark.read.parquet(conf_dict[\"companies_interim\"])).select(conf_dict[\"companies_cols\"])\n",
    "persons_df = repartition(spark.read.parquet(conf_dict[\"persons_interim\"])).select(conf_dict[\"persons_cols\"])\n",
    "addresses_df = spark.read.parquet(conf_dict[\"addresses_interim\"]).repartition(100)"
   ]
  },
  {
   "cell_type": "code",
   "execution_count": 140,
   "id": "98e83079",
   "metadata": {},
   "outputs": [],
   "source": [
    "filter_id = lambda id_ : f\"statementID == '{id_}'\""
   ]
  },
  {
   "cell_type": "markdown",
   "id": "8c813d53",
   "metadata": {},
   "source": [
    "## Relationships"
   ]
  },
  {
   "cell_type": "code",
   "execution_count": 138,
   "id": "6f85959e",
   "metadata": {},
   "outputs": [],
   "source": [
    "relationships_df = repartition(\n",
    "    spark.read.parquet(conf_dict[\"relationships_interim\"])\n",
    ").select(conf_dict[\"relationships_cols\"])\n",
    "\n",
    "relationships_df = (\n",
    "    relationships_df.withColumn(\n",
    "        \"interestedPartyStatementID\",\n",
    "        F.coalesce(\n",
    "            \"interestedParty.describedByEntityStatement\",\n",
    "            \"interestedParty.describedByPersonStatement\",\n",
    "        ),\n",
    "    )\n",
    "    .withColumn(\n",
    "        \"interestedPartyIsPerson\",\n",
    "        F.col(\"interestedParty.describedByPersonStatement\").isNotNull(),\n",
    "    )\n",
    "    .withColumn(\"subjectStatementID\", F.col(\"subject.describedByEntityStatement\"))\n",
    "    .select(\"*\", F.explode(\"interests\").alias(\"interestsExploded\"))\n",
    "    .select(\"*\", \"interestsExploded.*\")\n",
    "    .select(\"*\", F.col(\"share.minimum\").alias(\"minimumShare\"))\n",
    "    .filter(F.col(\"startDate\").isNotNull())\n",
    "    .filter(F.col(\"endDate\").isNull())\n",
    "    .filter(F.col(\"type\") == \"shareholding\")\n",
    "    .filter(F.col(\"details\").endswith(\"percent\"))\n",
    "    .groupBy(\n",
    "        \"interestedPartyStatementID\",\n",
    "        \"interestedPartyIsPerson\",\n",
    "        \"subjectStatementID\",\n",
    "    )\n",
    "    .agg(F.max(\"minimumShare\").alias(\"minimumShare\"))\n",
    ")\n"
   ]
  },
  {
   "cell_type": "code",
   "execution_count": 139,
   "id": "ec20fb70",
   "metadata": {},
   "outputs": [
    {
     "name": "stderr",
     "output_type": "stream",
     "text": [
      "[Stage 596:====================================================>(198 + 2) / 200]\r"
     ]
    },
    {
     "name": "stdout",
     "output_type": "stream",
     "text": [
      "+--------------------------+-----------------------+--------------------+------------+\n",
      "|interestedPartyStatementID|interestedPartyIsPerson|  subjectStatementID|minimumShare|\n",
      "+--------------------------+-----------------------+--------------------+------------+\n",
      "|      openownership-reg...|                   true|openownership-reg...|        25.0|\n",
      "|      openownership-reg...|                   true|openownership-reg...|        75.0|\n",
      "|      openownership-reg...|                   true|openownership-reg...|        75.0|\n",
      "|      openownership-reg...|                   true|openownership-reg...|        75.0|\n",
      "|      openownership-reg...|                   true|openownership-reg...|        75.0|\n",
      "|      openownership-reg...|                   true|openownership-reg...|        25.0|\n",
      "|      openownership-reg...|                   true|openownership-reg...|        75.0|\n",
      "|      openownership-reg...|                   true|openownership-reg...|        25.0|\n",
      "|      openownership-reg...|                   true|openownership-reg...|        25.0|\n",
      "|      openownership-reg...|                   true|openownership-reg...|        75.0|\n",
      "|      openownership-reg...|                   true|openownership-reg...|        25.0|\n",
      "|      openownership-reg...|                   true|openownership-reg...|        50.0|\n",
      "|      openownership-reg...|                   true|openownership-reg...|        75.0|\n",
      "|      openownership-reg...|                   true|openownership-reg...|        75.0|\n",
      "|      openownership-reg...|                   true|openownership-reg...|        25.0|\n",
      "|      openownership-reg...|                   true|openownership-reg...|        25.0|\n",
      "|      openownership-reg...|                  false|openownership-reg...|        75.0|\n",
      "|      openownership-reg...|                   true|openownership-reg...|        50.0|\n",
      "|      openownership-reg...|                   true|openownership-reg...|        75.0|\n",
      "|      openownership-reg...|                   true|openownership-reg...|        75.0|\n",
      "+--------------------------+-----------------------+--------------------+------------+\n",
      "only showing top 20 rows\n",
      "\n"
     ]
    },
    {
     "name": "stderr",
     "output_type": "stream",
     "text": [
      "                                                                                \r"
     ]
    }
   ],
   "source": [
    "relationships_df.show()\n"
   ]
  },
  {
   "cell_type": "code",
   "execution_count": 127,
   "id": "51f9fd39",
   "metadata": {},
   "outputs": [],
   "source": [
    "query_id = \"openownership-register-8389244008015946645\""
   ]
  },
  {
   "cell_type": "code",
   "execution_count": 128,
   "id": "f88717ea",
   "metadata": {},
   "outputs": [
    {
     "name": "stderr",
     "output_type": "stream",
     "text": [
      "                                                                                \r"
     ]
    },
    {
     "data": {
      "text/plain": [
       "[Row(addresses=[Row(address='Peter House, Oxford Street, Manchester, M1 5AN', country=None, type=None)], birthDate='1960-11-01', identifiers=[Row(id='/company/09073660/persons-with-significant-control/individual/miJk0_Iz1MxSspVDSLOdsIea9z8', scheme=None, schemeName='GB Persons Of Significant Control Register', uri=None), Row(id='http://register.openownership.org/entities/59b9cda867e4ebf340ccfc74', scheme=None, schemeName='OpenOwnership Register', uri='http://register.openownership.org/entities/59b9cda867e4ebf340ccfc74')], missingInfoReason=None, names=[Row(fullName='Donald Hugh Smith', type='individual')], nationalities=[Row(code='GB', name='United Kingdom of Great Britain and Northern Ireland')], statementID='openownership-register-8389244008015946645')]"
      ]
     },
     "execution_count": 128,
     "metadata": {},
     "output_type": "execute_result"
    }
   ],
   "source": [
    "persons_df.filter(filter_id(query_id)).take(1)"
   ]
  },
  {
   "cell_type": "code",
   "execution_count": 129,
   "id": "f88717ea",
   "metadata": {},
   "outputs": [
    {
     "name": "stderr",
     "output_type": "stream",
     "text": [
      "                                                                                \r"
     ]
    },
    {
     "name": "stdout",
     "output_type": "stream",
     "text": [
      "+-------------+------------------------------------------+-----------------------+-------------------------------------------+-------+----------+------------+-----------------+\n",
      "|statementDate|interestedPartyStatementID                |interestedPartyIsPerson|subjectStatementID                         |endDate|startDate |type        |max(minimumShare)|\n",
      "+-------------+------------------------------------------+-----------------------+-------------------------------------------+-------+----------+------------+-----------------+\n",
      "|2016-06-06   |openownership-register-8389244008015946645|true                   |openownership-register-18123958185355667650|null   |2016-06-06|shareholding|50.0             |\n",
      "+-------------+------------------------------------------+-----------------------+-------------------------------------------+-------+----------+------------+-----------------+\n",
      "\n"
     ]
    }
   ],
   "source": [
    "relationships_df.filter(f\"interestedPartyStatementID == '{query_id}'\").dropDuplicates().show(truncate=False)"
   ]
  },
  {
   "cell_type": "code",
   "execution_count": 130,
   "id": "190dd6e5",
   "metadata": {},
   "outputs": [
    {
     "name": "stderr",
     "output_type": "stream",
     "text": [
      "[Stage 574:===============================================>     (178 + 8) / 200]\r"
     ]
    },
    {
     "name": "stdout",
     "output_type": "stream",
     "text": [
      "+-------------------+-------+\n",
      "|(startDate IS NULL)|count  |\n",
      "+-------------------+-------+\n",
      "|false              |7416437|\n",
      "+-------------------+-------+\n",
      "\n"
     ]
    },
    {
     "name": "stderr",
     "output_type": "stream",
     "text": [
      "                                                                                \r"
     ]
    }
   ],
   "source": [
    "relationships_df.groupBy(F.col(\"startDate\").isNull()).count().orderBy(F.desc(\"count\")).show(truncate=0)"
   ]
  },
  {
   "cell_type": "code",
   "execution_count": 131,
   "id": "13b1041b",
   "metadata": {},
   "outputs": [
    {
     "name": "stderr",
     "output_type": "stream",
     "text": [
      "[Stage 579:=======================================>             (148 + 8) / 200]\r"
     ]
    },
    {
     "name": "stdout",
     "output_type": "stream",
     "text": [
      "+-------------------------------------------+-----------------------+-----+\n",
      "|interestedPartyStatementID                 |interestedPartyIsPerson|count|\n",
      "+-------------------------------------------+-----------------------+-----+\n",
      "|openownership-register-15335012948911220969|false                  |1659 |\n",
      "|openownership-register-5349204506857096345 |true                   |1311 |\n",
      "|openownership-register-16449901526180129165|true                   |1171 |\n",
      "|openownership-register-4885699358762453064 |false                  |1131 |\n",
      "|openownership-register-996612036464718947  |true                   |760  |\n",
      "|openownership-register-4241702842928979482 |true                   |720  |\n",
      "|openownership-register-2286052163500911970 |false                  |681  |\n",
      "|openownership-register-3956438078590756395 |true                   |617  |\n",
      "|openownership-register-9103080704383038680 |false                  |526  |\n",
      "|openownership-register-4513814456581281117 |false                  |503  |\n",
      "|openownership-register-9198120535972248050 |false                  |459  |\n",
      "|openownership-register-1320716789550535558 |false                  |455  |\n",
      "|openownership-register-9647277692516486989 |false                  |430  |\n",
      "|openownership-register-5102569172485776706 |true                   |423  |\n",
      "|openownership-register-448606795629603864  |true                   |420  |\n",
      "|openownership-register-5480565442211614480 |true                   |386  |\n",
      "|openownership-register-9406555048551075655 |true                   |382  |\n",
      "|openownership-register-1003557215557268619 |true                   |351  |\n",
      "|openownership-register-10552996653559672357|false                  |349  |\n",
      "|openownership-register-15417641470105668898|true                   |317  |\n",
      "+-------------------------------------------+-----------------------+-----+\n",
      "only showing top 20 rows\n",
      "\n"
     ]
    },
    {
     "name": "stderr",
     "output_type": "stream",
     "text": [
      "                                                                                \r"
     ]
    }
   ],
   "source": [
    "relationship_counts = relationships_df.groupBy(\"interestedPartyStatementID\", \"interestedPartyIsPerson\").count().sort(F.desc(\"count\"))\n",
    "relationship_counts.show(truncate=False)"
   ]
  },
  {
   "cell_type": "code",
   "execution_count": null,
   "id": "9197d2e0",
   "metadata": {},
   "outputs": [
    {
     "name": "stderr",
     "output_type": "stream",
     "text": [
      "[Stage 175:==========================================>          (161 + 8) / 200]\r"
     ]
    },
    {
     "name": "stdout",
     "output_type": "stream",
     "text": [
      "+-------------------------------------------+-----------------------+-----+\n",
      "|interestedPartyStatementID                 |interestedPartyIsPerson|count|\n",
      "+-------------------------------------------+-----------------------+-----+\n",
      "|openownership-register-3257107209837998303 |true                   |10   |\n",
      "|openownership-register-11769433893356591601|true                   |10   |\n",
      "|openownership-register-6265616255109065414 |true                   |10   |\n",
      "|openownership-register-15368251881549564308|true                   |10   |\n",
      "|openownership-register-5299651258949798128 |true                   |10   |\n",
      "|openownership-register-13469635606482485026|true                   |10   |\n",
      "|openownership-register-15171453100235327141|true                   |10   |\n",
      "|openownership-register-17289159870146257517|true                   |10   |\n",
      "|openownership-register-5902812732140731840 |true                   |10   |\n",
      "|openownership-register-11764017702979503973|true                   |10   |\n",
      "|openownership-register-6504868910311126867 |true                   |10   |\n",
      "|openownership-register-1728000782240153807 |true                   |10   |\n",
      "|openownership-register-3475506607133431681 |true                   |10   |\n",
      "|openownership-register-1284297415056540296 |true                   |10   |\n",
      "|openownership-register-3822545001211171610 |true                   |10   |\n",
      "|openownership-register-18068053066268269210|true                   |10   |\n",
      "|openownership-register-14646619859551545512|true                   |10   |\n",
      "|openownership-register-15024654075699725856|true                   |10   |\n",
      "|openownership-register-4332580716912550754 |true                   |10   |\n",
      "|openownership-register-16424084619134959723|true                   |10   |\n",
      "+-------------------------------------------+-----------------------+-----+\n",
      "only showing top 20 rows\n",
      "\n"
     ]
    },
    {
     "name": "stderr",
     "output_type": "stream",
     "text": [
      "                                                                                \r"
     ]
    }
   ],
   "source": [
    "relationship_counts.filter(\"count == 10 AND interestedPartyIsPerson\").show(truncate=False)"
   ]
  },
  {
   "cell_type": "code",
   "execution_count": 144,
   "id": "f19749d8",
   "metadata": {},
   "outputs": [],
   "source": [
    "target_person_id = \"openownership-register-11769433893356591601\"\n",
    "target_person_filter = F.col(\"interestedPartyStatementID\") == target_person_id"
   ]
  },
  {
   "cell_type": "code",
   "execution_count": 145,
   "id": "c939b0d2",
   "metadata": {},
   "outputs": [
    {
     "name": "stderr",
     "output_type": "stream",
     "text": [
      "[Stage 613:==========================================>             (9 + 3) / 12]\r"
     ]
    },
    {
     "name": "stdout",
     "output_type": "stream",
     "text": [
      "+--------------------------+-----------------------+--------------------+------------+\n",
      "|interestedPartyStatementID|interestedPartyIsPerson|  subjectStatementID|minimumShare|\n",
      "+--------------------------+-----------------------+--------------------+------------+\n",
      "|      openownership-reg...|                   true|openownership-reg...|        25.0|\n",
      "|      openownership-reg...|                   true|openownership-reg...|        75.0|\n",
      "|      openownership-reg...|                   true|openownership-reg...|        75.0|\n",
      "|      openownership-reg...|                   true|openownership-reg...|        75.0|\n",
      "|      openownership-reg...|                   true|openownership-reg...|        75.0|\n",
      "|      openownership-reg...|                   true|openownership-reg...|        75.0|\n",
      "+--------------------------+-----------------------+--------------------+------------+\n",
      "\n"
     ]
    },
    {
     "name": "stderr",
     "output_type": "stream",
     "text": [
      "                                                                                \r"
     ]
    }
   ],
   "source": [
    "relationships_df.filter(target_person_filter).show()"
   ]
  },
  {
   "cell_type": "markdown",
   "id": "d59fc86e",
   "metadata": {},
   "source": [
    "## Companies"
   ]
  },
  {
   "cell_type": "code",
   "execution_count": 146,
   "id": "394862f6",
   "metadata": {},
   "outputs": [
    {
     "name": "stderr",
     "output_type": "stream",
     "text": [
      "                                                                                \r"
     ]
    },
    {
     "data": {
      "text/plain": [
       "7246475"
      ]
     },
     "execution_count": 146,
     "metadata": {},
     "output_type": "execute_result"
    }
   ],
   "source": [
    "companies_df.count()"
   ]
  },
  {
   "cell_type": "code",
   "execution_count": 147,
   "id": "5b82a7e1",
   "metadata": {},
   "outputs": [
    {
     "name": "stdout",
     "output_type": "stream",
     "text": [
      "root\n",
      " |-- addresses: array (nullable = true)\n",
      " |    |-- element: struct (containsNull = true)\n",
      " |    |    |-- address: string (nullable = true)\n",
      " |    |    |-- country: string (nullable = true)\n",
      " |    |    |-- type: string (nullable = true)\n",
      " |-- dissolutionDate: string (nullable = true)\n",
      " |-- foundingDate: string (nullable = true)\n",
      " |-- identifiers: array (nullable = true)\n",
      " |    |-- element: struct (containsNull = true)\n",
      " |    |    |-- id: string (nullable = true)\n",
      " |    |    |-- scheme: string (nullable = true)\n",
      " |    |    |-- schemeName: string (nullable = true)\n",
      " |    |    |-- uri: string (nullable = true)\n",
      " |-- name: string (nullable = true)\n",
      " |-- statementID: string (nullable = true)\n",
      "\n"
     ]
    }
   ],
   "source": [
    "companies_df.printSchema()"
   ]
  },
  {
   "cell_type": "code",
   "execution_count": 163,
   "id": "6c482a3f",
   "metadata": {},
   "outputs": [
    {
     "data": {
      "text/plain": [
       "['dissolutionDate', 'foundingDate', 'name', 'statementID']"
      ]
     },
     "execution_count": 163,
     "metadata": {},
     "output_type": "execute_result"
    }
   ],
   "source": [
    "processed_companies_df = companies_df.filter(F.col(\"dissolutionDate\").isNull()).drop(\"addresses\", \"identifiers\")\n",
    "processed_companies_df.columns"
   ]
  },
  {
   "cell_type": "markdown",
   "id": "e52b551f",
   "metadata": {},
   "source": [
    "## Persons"
   ]
  },
  {
   "cell_type": "code",
   "execution_count": 164,
   "id": "6606a87e",
   "metadata": {},
   "outputs": [
    {
     "name": "stderr",
     "output_type": "stream",
     "text": [
      "                                                                                \r"
     ]
    },
    {
     "data": {
      "text/plain": [
       "7861347"
      ]
     },
     "execution_count": 164,
     "metadata": {},
     "output_type": "execute_result"
    }
   ],
   "source": [
    "persons_df.count()"
   ]
  },
  {
   "cell_type": "code",
   "execution_count": 33,
   "id": "aa26ba17",
   "metadata": {},
   "outputs": [
    {
     "name": "stderr",
     "output_type": "stream",
     "text": [
      "                                                                                \r"
     ]
    }
   ],
   "source": [
    "persons_sample_pdf = persons_df.limit(10_000).toPandas()"
   ]
  },
  {
   "cell_type": "code",
   "execution_count": 34,
   "id": "b85ed645",
   "metadata": {},
   "outputs": [
    {
     "data": {
      "text/html": [
       "<div>\n",
       "<style scoped>\n",
       "    .dataframe tbody tr th:only-of-type {\n",
       "        vertical-align: middle;\n",
       "    }\n",
       "\n",
       "    .dataframe tbody tr th {\n",
       "        vertical-align: top;\n",
       "    }\n",
       "\n",
       "    .dataframe thead th {\n",
       "        text-align: right;\n",
       "    }\n",
       "</style>\n",
       "<table border=\"1\" class=\"dataframe\">\n",
       "  <thead>\n",
       "    <tr style=\"text-align: right;\">\n",
       "      <th></th>\n",
       "      <th>count</th>\n",
       "      <th>unique</th>\n",
       "      <th>top</th>\n",
       "      <th>freq</th>\n",
       "    </tr>\n",
       "  </thead>\n",
       "  <tbody>\n",
       "    <tr>\n",
       "      <th>addresses</th>\n",
       "      <td>10000</td>\n",
       "      <td>9505</td>\n",
       "      <td>[(20-22, Wenlock Road, London, N1 7GU, GB, None)]</td>\n",
       "      <td>76</td>\n",
       "    </tr>\n",
       "    <tr>\n",
       "      <th>birthDate</th>\n",
       "      <td>9987</td>\n",
       "      <td>820</td>\n",
       "      <td>1974-07-01</td>\n",
       "      <td>34</td>\n",
       "    </tr>\n",
       "    <tr>\n",
       "      <th>dissolutionDate</th>\n",
       "      <td>0</td>\n",
       "      <td>0</td>\n",
       "      <td>NaN</td>\n",
       "      <td>NaN</td>\n",
       "    </tr>\n",
       "    <tr>\n",
       "      <th>entityType</th>\n",
       "      <td>0</td>\n",
       "      <td>0</td>\n",
       "      <td>NaN</td>\n",
       "      <td>NaN</td>\n",
       "    </tr>\n",
       "    <tr>\n",
       "      <th>foundingDate</th>\n",
       "      <td>0</td>\n",
       "      <td>0</td>\n",
       "      <td>NaN</td>\n",
       "      <td>NaN</td>\n",
       "    </tr>\n",
       "    <tr>\n",
       "      <th>identifiers</th>\n",
       "      <td>10000</td>\n",
       "      <td>9989</td>\n",
       "      <td>[]</td>\n",
       "      <td>12</td>\n",
       "    </tr>\n",
       "    <tr>\n",
       "      <th>incorporatedInJurisdiction</th>\n",
       "      <td>0</td>\n",
       "      <td>0</td>\n",
       "      <td>NaN</td>\n",
       "      <td>NaN</td>\n",
       "    </tr>\n",
       "    <tr>\n",
       "      <th>interestedParty</th>\n",
       "      <td>0</td>\n",
       "      <td>0</td>\n",
       "      <td>NaN</td>\n",
       "      <td>NaN</td>\n",
       "    </tr>\n",
       "    <tr>\n",
       "      <th>interests</th>\n",
       "      <td>0</td>\n",
       "      <td>0</td>\n",
       "      <td>NaN</td>\n",
       "      <td>NaN</td>\n",
       "    </tr>\n",
       "    <tr>\n",
       "      <th>missingInfoReason</th>\n",
       "      <td>12</td>\n",
       "      <td>5</td>\n",
       "      <td>The company knows or has reasonable cause to b...</td>\n",
       "      <td>6</td>\n",
       "    </tr>\n",
       "    <tr>\n",
       "      <th>name</th>\n",
       "      <td>0</td>\n",
       "      <td>0</td>\n",
       "      <td>NaN</td>\n",
       "      <td>NaN</td>\n",
       "    </tr>\n",
       "    <tr>\n",
       "      <th>names</th>\n",
       "      <td>10000</td>\n",
       "      <td>9963</td>\n",
       "      <td>[]</td>\n",
       "      <td>12</td>\n",
       "    </tr>\n",
       "    <tr>\n",
       "      <th>nationalities</th>\n",
       "      <td>8919</td>\n",
       "      <td>94</td>\n",
       "      <td>[(GB, United Kingdom of Great Britain and Nort...</td>\n",
       "      <td>7529</td>\n",
       "    </tr>\n",
       "    <tr>\n",
       "      <th>personType</th>\n",
       "      <td>10000</td>\n",
       "      <td>3</td>\n",
       "      <td>knownPerson</td>\n",
       "      <td>9988</td>\n",
       "    </tr>\n",
       "    <tr>\n",
       "      <th>source</th>\n",
       "      <td>0</td>\n",
       "      <td>0</td>\n",
       "      <td>NaN</td>\n",
       "      <td>NaN</td>\n",
       "    </tr>\n",
       "    <tr>\n",
       "      <th>statementDate</th>\n",
       "      <td>0</td>\n",
       "      <td>0</td>\n",
       "      <td>NaN</td>\n",
       "      <td>NaN</td>\n",
       "    </tr>\n",
       "    <tr>\n",
       "      <th>statementID</th>\n",
       "      <td>10000</td>\n",
       "      <td>10000</td>\n",
       "      <td>openownership-register-10050885420207911607</td>\n",
       "      <td>1</td>\n",
       "    </tr>\n",
       "    <tr>\n",
       "      <th>statementType</th>\n",
       "      <td>10000</td>\n",
       "      <td>1</td>\n",
       "      <td>personStatement</td>\n",
       "      <td>10000</td>\n",
       "    </tr>\n",
       "    <tr>\n",
       "      <th>subject</th>\n",
       "      <td>0</td>\n",
       "      <td>0</td>\n",
       "      <td>NaN</td>\n",
       "      <td>NaN</td>\n",
       "    </tr>\n",
       "    <tr>\n",
       "      <th>partition</th>\n",
       "      <td>10000</td>\n",
       "      <td>1</td>\n",
       "      <td>07</td>\n",
       "      <td>10000</td>\n",
       "    </tr>\n",
       "  </tbody>\n",
       "</table>\n",
       "</div>"
      ],
      "text/plain": [
       "                            count unique  \\\n",
       "addresses                   10000   9505   \n",
       "birthDate                    9987    820   \n",
       "dissolutionDate                 0      0   \n",
       "entityType                      0      0   \n",
       "foundingDate                    0      0   \n",
       "identifiers                 10000   9989   \n",
       "incorporatedInJurisdiction      0      0   \n",
       "interestedParty                 0      0   \n",
       "interests                       0      0   \n",
       "missingInfoReason              12      5   \n",
       "name                            0      0   \n",
       "names                       10000   9963   \n",
       "nationalities                8919     94   \n",
       "personType                  10000      3   \n",
       "source                          0      0   \n",
       "statementDate                   0      0   \n",
       "statementID                 10000  10000   \n",
       "statementType               10000      1   \n",
       "subject                         0      0   \n",
       "partition                   10000      1   \n",
       "\n",
       "                                                                          top  \\\n",
       "addresses                   [(20-22, Wenlock Road, London, N1 7GU, GB, None)]   \n",
       "birthDate                                                          1974-07-01   \n",
       "dissolutionDate                                                           NaN   \n",
       "entityType                                                                NaN   \n",
       "foundingDate                                                              NaN   \n",
       "identifiers                                                                []   \n",
       "incorporatedInJurisdiction                                                NaN   \n",
       "interestedParty                                                           NaN   \n",
       "interests                                                                 NaN   \n",
       "missingInfoReason           The company knows or has reasonable cause to b...   \n",
       "name                                                                      NaN   \n",
       "names                                                                      []   \n",
       "nationalities               [(GB, United Kingdom of Great Britain and Nort...   \n",
       "personType                                                        knownPerson   \n",
       "source                                                                    NaN   \n",
       "statementDate                                                             NaN   \n",
       "statementID                       openownership-register-10050885420207911607   \n",
       "statementType                                                 personStatement   \n",
       "subject                                                                   NaN   \n",
       "partition                                                                  07   \n",
       "\n",
       "                             freq  \n",
       "addresses                      76  \n",
       "birthDate                      34  \n",
       "dissolutionDate               NaN  \n",
       "entityType                    NaN  \n",
       "foundingDate                  NaN  \n",
       "identifiers                    12  \n",
       "incorporatedInJurisdiction    NaN  \n",
       "interestedParty               NaN  \n",
       "interests                     NaN  \n",
       "missingInfoReason               6  \n",
       "name                          NaN  \n",
       "names                          12  \n",
       "nationalities                7529  \n",
       "personType                   9988  \n",
       "source                        NaN  \n",
       "statementDate                 NaN  \n",
       "statementID                     1  \n",
       "statementType               10000  \n",
       "subject                       NaN  \n",
       "partition                   10000  "
      ]
     },
     "execution_count": 34,
     "metadata": {},
     "output_type": "execute_result"
    }
   ],
   "source": [
    "persons_sample_pdf.describe().T"
   ]
  },
  {
   "cell_type": "code",
   "execution_count": 37,
   "id": "f875e025",
   "metadata": {},
   "outputs": [],
   "source": [
    "keep_cols = [\n",
    "    \"addresses\",\n",
    "    \"birthDate\",\n",
    "    # \"dissolutionDate\",\n",
    "    # \"entityType\",\n",
    "    # \"foundingDate\",\n",
    "    \"identifiers\",\n",
    "    # \"incorporatedInJurisdiction\",\n",
    "    # \"interestedParty\",\n",
    "    # \"interests\",\n",
    "    \"missingInfoReason\",\n",
    "    # \"name\",\n",
    "    \"names\",\n",
    "    \"nationalities\",\n",
    "    # \"personType\",\n",
    "    # \"source\",\n",
    "    # \"statementDate\",\n",
    "    \"statementID\",\n",
    "    # \"statementType\",\n",
    "    # \"subject\",\n",
    "    \"partition\",\n",
    "]"
   ]
  },
  {
   "cell_type": "code",
   "execution_count": 5,
   "id": "86c4677c",
   "metadata": {},
   "outputs": [
    {
     "name": "stderr",
     "output_type": "stream",
     "text": [
      "[Stage 2:===================================>                      (8 + 5) / 13]\r"
     ]
    },
    {
     "name": "stdout",
     "output_type": "stream",
     "text": [
      "+--------------------+--------------------+----------+\n",
      "|         statementID|       nationalities| birthDate|\n",
      "+--------------------+--------------------+----------+\n",
      "|openownership-reg...|[{GB, United King...|1974-04-01|\n",
      "|openownership-reg...|     [{RO, Romania}]|1990-06-01|\n",
      "|openownership-reg...|[{GB, United King...|1996-10-01|\n",
      "|openownership-reg...|[{GB, United King...|1984-12-01|\n",
      "|openownership-reg...|[{GB, United King...|1944-07-01|\n",
      "|openownership-reg...|                null|1968-01-01|\n",
      "|openownership-reg...|[{GB, United King...|1965-12-01|\n",
      "|openownership-reg...|      [{PL, Poland}]|1974-06-01|\n",
      "|openownership-reg...|[{GB, United King...|1975-09-01|\n",
      "|openownership-reg...|[{GB, United King...|1982-09-01|\n",
      "|openownership-reg...|   [{AU, Australia}]|1982-11-01|\n",
      "|openownership-reg...|[{GB, United King...|1973-02-01|\n",
      "|openownership-reg...|[{GB, United King...|1982-04-01|\n",
      "|openownership-reg...|                null|1970-06-01|\n",
      "|openownership-reg...|                null|1997-01-01|\n",
      "|openownership-reg...|[{GB, United King...|1971-04-01|\n",
      "|openownership-reg...|[{VE, Venezuela (...|1968-09-01|\n",
      "|openownership-reg...|[{GB, United King...|1971-03-01|\n",
      "|openownership-reg...|[{GB, United King...|1960-03-01|\n",
      "|openownership-reg...|[{GB, United King...|1978-02-01|\n",
      "+--------------------+--------------------+----------+\n",
      "only showing top 20 rows\n",
      "\n"
     ]
    },
    {
     "name": "stderr",
     "output_type": "stream",
     "text": [
      "                                                                                \r"
     ]
    }
   ],
   "source": [
    "processed_persons_df = persons_df.select(\"statementID\", \"nationalities\", \"birthDate\")\n",
    "processed_persons_df.show()"
   ]
  },
  {
   "cell_type": "code",
   "execution_count": 13,
   "id": "0c46f84e",
   "metadata": {},
   "outputs": [
    {
     "name": "stderr",
     "output_type": "stream",
     "text": [
      "[Stage 19:=====================================================>(199 + 1) / 200]\r"
     ]
    },
    {
     "name": "stdout",
     "output_type": "stream",
     "text": [
      "+--------------------+-----+\n",
      "|         statementID|count|\n",
      "+--------------------+-----+\n",
      "|openownership-reg...|    1|\n",
      "|openownership-reg...|    1|\n",
      "|openownership-reg...|    1|\n",
      "|openownership-reg...|    1|\n",
      "|openownership-reg...|    1|\n",
      "|openownership-reg...|    1|\n",
      "|openownership-reg...|    1|\n",
      "|openownership-reg...|    1|\n",
      "|openownership-reg...|    1|\n",
      "|openownership-reg...|    1|\n",
      "|openownership-reg...|    1|\n",
      "|openownership-reg...|    1|\n",
      "|openownership-reg...|    1|\n",
      "|openownership-reg...|    1|\n",
      "|openownership-reg...|    1|\n",
      "|openownership-reg...|    1|\n",
      "|openownership-reg...|    1|\n",
      "|openownership-reg...|    1|\n",
      "|openownership-reg...|    1|\n",
      "|openownership-reg...|    1|\n",
      "+--------------------+-----+\n",
      "only showing top 20 rows\n",
      "\n"
     ]
    },
    {
     "name": "stderr",
     "output_type": "stream",
     "text": [
      "                                                                                \r"
     ]
    }
   ],
   "source": [
    "df = processed_persons_df.select(\"*\", F.explode(\"nationalities\")).select(\"statementID\", \"birthDate\", F.col(\"col.code\").alias(\"nationality\"))\n",
    "df.groupBy(\"statementID\").count().orderBy(F.desc(\"count\")).show()"
   ]
  }
 ],
 "metadata": {
  "interpreter": {
   "hash": "110e85c3fc5b8c82f49ba0bdae2ae83f688488294eba7f71d9f9e7a626a48291"
  },
  "kernelspec": {
   "display_name": "Python 3.10.4 ('.venv': poetry)",
   "language": "python",
   "name": "python3"
  },
  "language_info": {
   "codemirror_mode": {
    "name": "ipython",
    "version": 3
   },
   "file_extension": ".py",
   "mimetype": "text/x-python",
   "name": "python",
   "nbconvert_exporter": "python",
   "pygments_lexer": "ipython3",
   "version": "3.10.4"
  }
 },
 "nbformat": 4,
 "nbformat_minor": 5
}
