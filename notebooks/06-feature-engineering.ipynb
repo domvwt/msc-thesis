{
 "cells": [
  {
   "cell_type": "code",
   "execution_count": null,
   "id": "40cc7bd8",
   "metadata": {},
   "outputs": [],
   "source": [
    "import os\n",
    "from pathlib import Path\n",
    "\n",
    "import numpy as np\n",
    "import pandas as pd\n",
    "import matplotlib.pyplot as plt\n",
    "import pyspark.sql.functions as F\n",
    "import yaml\n",
    "\n",
    "import graphframes as gf\n",
    "from pyspark import SparkContext, SparkConf\n",
    "from pyspark.sql import SparkSession, Column\n",
    "\n",
    "while not Path(\"data\") in Path(\".\").iterdir():\n",
    "    os.chdir(\"..\")\n",
    "\n",
    "plt.style.use(\"seaborn-white\")\n",
    "conf_dict = yaml.safe_load(Path(\"config/conf.yaml\").read_text())\n",
    "\n",
    "sc = SparkContext.getOrCreate()\n",
    "sc.setLogLevel(\"ERROR\")\n",
    "\n",
    "spark = SparkSession.builder.config(\"spark.driver.memory\", \"8g\").getOrCreate()"
   ]
  },
  {
   "cell_type": "code",
   "execution_count": null,
   "id": "3c6f2cf6",
   "metadata": {},
   "outputs": [],
   "source": [
    "companies_df = spark.read.parquet(conf_dict[\"companies_nodes\"])\n",
    "persons_df = spark.read.parquet(conf_dict[\"persons_nodes\"])\n",
    "edges_df = spark.read.parquet(conf_dict[\"edges\"])"
   ]
  },
  {
   "cell_type": "code",
   "execution_count": null,
   "id": "72f01592",
   "metadata": {},
   "outputs": [],
   "source": [
    "companies_df.columns"
   ]
  },
  {
   "cell_type": "code",
   "execution_count": null,
   "id": "ca1702d4",
   "metadata": {},
   "outputs": [],
   "source": [
    "persons_df.columns"
   ]
  },
  {
   "cell_type": "code",
   "execution_count": null,
   "id": "dde47772",
   "metadata": {},
   "outputs": [],
   "source": [
    "edges_df.printSchema()"
   ]
  },
  {
   "cell_type": "code",
   "execution_count": null,
   "id": "340499bf",
   "metadata": {},
   "outputs": [],
   "source": [
    "print(\"node count:\", nodes_df.count())\n",
    "print(\"edge count:\", edges_df.count())\n",
    "print(\"component count:\", nodes_df.select(\"component\").distinct().count())"
   ]
  }
 ],
 "metadata": {
  "jupytext": {
   "formats": "ipynb,py:percent"
  },
  "kernelspec": {
   "display_name": "Python 3 (ipykernel)",
   "language": "python",
   "name": "python3"
  }
 },
 "nbformat": 4,
 "nbformat_minor": 5
}
