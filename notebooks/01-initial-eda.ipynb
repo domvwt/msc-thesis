{
 "cells": [
  {
   "cell_type": "markdown",
   "metadata": {},
   "source": [
    "# Exploratory Data Analysis"
   ]
  },
  {
   "cell_type": "code",
   "execution_count": 6,
   "metadata": {},
   "outputs": [],
   "source": [
    "import os\n",
    "from pathlib import Path\n",
    "\n",
    "import numpy as np\n",
    "import pandas as pd\n",
    "import matplotlib.pyplot as plt\n",
    "import pyspark.sql.functions as F\n",
    "import yaml\n",
    "\n",
    "from pandas_profiling import ProfileReport\n",
    "from pyspark.sql import SparkSession\n",
    "\n",
    "while not Path(\"data\") in Path(\".\").iterdir():\n",
    "    os.chdir(\"..\")\n",
    "\n",
    "plt.style.use(\"seaborn-white\")\n",
    "conf_dict = yaml.safe_load(Path(\"config/conf.yaml\").read_text())\n",
    "\n",
    "graphframes_jar_path = str(\n",
    "    Path(\"jars/graphframes-0.8.2-spark3.1-s_2.12.jar\").absolute()\n",
    ")\n",
    "\n",
    "spark = (\n",
    "    SparkSession.builder.config(\"spark.driver.memory\", \"8g\")\n",
    "    .config(\n",
    "        \"spark.jars\",\n",
    "        graphframes_jar_path,\n",
    "    )\n",
    "    .getOrCreate()\n",
    ")"
   ]
  },
  {
   "cell_type": "code",
   "execution_count": 2,
   "metadata": {},
   "outputs": [],
   "source": [
    "companies_processed_df = spark.read.parquet(conf_dict[\"companies_processed\"])\n",
    "relationships_processed_df = spark.read.parquet(conf_dict[\"relationships_processed\"])\n",
    "persons_processed_df = spark.read.parquet(conf_dict[\"persons_processed\"])\n",
    "addresses_processed_df = spark.read.parquet(conf_dict[\"addresses_processed\"])"
   ]
  },
  {
   "cell_type": "code",
   "execution_count": 3,
   "metadata": {},
   "outputs": [],
   "source": [
    "all_dfs_dict = {\n",
    "    \"companies\": companies_processed_df,\n",
    "    \"relationships\": relationships_processed_df,\n",
    "    \"persons\": persons_processed_df,\n",
    "    \"addresses\": addresses_processed_df,\n",
    "}"
   ]
  },
  {
   "cell_type": "code",
   "execution_count": 4,
   "metadata": {},
   "outputs": [
    {
     "name": "stdout",
     "output_type": "stream",
     "text": [
      "companies\n",
      "-------------------------------------------------------------------------------\n",
      "7,246,475\n",
      "root\n",
      " |-- statementID: string (nullable = true)\n",
      " |-- name: string (nullable = true)\n",
      " |-- foundingDate: string (nullable = true)\n",
      " |-- dissolutionDate: string (nullable = true)\n",
      " |-- countryCode: string (nullable = true)\n",
      " |-- companiesHouseID: string (nullable = true)\n",
      " |-- openCorporatesID: string (nullable = true)\n",
      " |-- openOwnershipRegisterID: string (nullable = true)\n",
      " |-- CompanyCategory: string (nullable = true)\n",
      " |-- CompanyStatus: string (nullable = true)\n",
      " |-- Accounts_AccountCategory: string (nullable = true)\n",
      " |-- SICCode_SicText_1: string (nullable = true)\n",
      "\n",
      "\n",
      "relationships\n",
      "-------------------------------------------------------------------------------\n",
      "5,704,926\n",
      "root\n",
      " |-- interestedPartyStatementID: string (nullable = true)\n",
      " |-- interestedPartyIsPerson: boolean (nullable = true)\n",
      " |-- subjectStatementID: string (nullable = true)\n",
      " |-- minimumShare: double (nullable = true)\n",
      "\n",
      "\n",
      "persons\n",
      "-------------------------------------------------------------------------------\n",
      "5,470,338\n",
      "root\n",
      " |-- statementID: string (nullable = true)\n",
      " |-- birthDate: string (nullable = true)\n",
      " |-- nationality: string (nullable = true)\n",
      "\n",
      "\n",
      "addresses\n",
      "-------------------------------------------------------------------------------\n",
      "13,320,309\n",
      "root\n",
      " |-- statementID: string (nullable = true)\n",
      " |-- address: string (nullable = true)\n",
      "\n",
      "\n"
     ]
    }
   ],
   "source": [
    "for key, df in all_dfs_dict.items():\n",
    "    print(key)\n",
    "    print(\"-\" * 79)\n",
    "    print(f\"{df.count():,}\")\n",
    "    df.printSchema()\n",
    "    print()"
   ]
  },
  {
   "cell_type": "markdown",
   "metadata": {},
   "source": [
    "## Profiles"
   ]
  },
  {
   "cell_type": "code",
   "execution_count": 5,
   "metadata": {},
   "outputs": [
    {
     "name": "stderr",
     "output_type": "stream",
     "text": [
      "                                                                                \r"
     ]
    },
    {
     "data": {
      "application/vnd.jupyter.widget-view+json": {
       "model_id": "acb6136249c4477295c3e5540f9ebeb5",
       "version_major": 2,
       "version_minor": 0
      },
      "text/plain": [
       "Summarize dataset:   0%|          | 0/5 [00:00<?, ?it/s]"
      ]
     },
     "metadata": {},
     "output_type": "display_data"
    },
    {
     "data": {
      "application/vnd.jupyter.widget-view+json": {
       "model_id": "210179a4daa645a88091c9afe3bd10f8",
       "version_major": 2,
       "version_minor": 0
      },
      "text/plain": [
       "Generate report structure:   0%|          | 0/1 [00:00<?, ?it/s]"
      ]
     },
     "metadata": {},
     "output_type": "display_data"
    },
    {
     "data": {
      "application/vnd.jupyter.widget-view+json": {
       "model_id": "1497cfb90ed24d998f3f8dbfd16855be",
       "version_major": 2,
       "version_minor": 0
      },
      "text/plain": [
       "Render HTML:   0%|          | 0/1 [00:00<?, ?it/s]"
      ]
     },
     "metadata": {},
     "output_type": "display_data"
    },
    {
     "data": {
      "application/vnd.jupyter.widget-view+json": {
       "model_id": "ffa585d5a55045d8bdcc39e9fc75bee2",
       "version_major": 2,
       "version_minor": 0
      },
      "text/plain": [
       "Export report to file:   0%|          | 0/1 [00:00<?, ?it/s]"
      ]
     },
     "metadata": {},
     "output_type": "display_data"
    },
    {
     "data": {
      "application/vnd.jupyter.widget-view+json": {
       "model_id": "2a75d7f1fa644897a1dc4571033f96ae",
       "version_major": 2,
       "version_minor": 0
      },
      "text/plain": [
       "Summarize dataset:   0%|          | 0/5 [00:00<?, ?it/s]"
      ]
     },
     "metadata": {},
     "output_type": "display_data"
    },
    {
     "data": {
      "application/vnd.jupyter.widget-view+json": {
       "model_id": "821314822f2840e3900c57f6b8320992",
       "version_major": 2,
       "version_minor": 0
      },
      "text/plain": [
       "Generate report structure:   0%|          | 0/1 [00:00<?, ?it/s]"
      ]
     },
     "metadata": {},
     "output_type": "display_data"
    },
    {
     "data": {
      "application/vnd.jupyter.widget-view+json": {
       "model_id": "a005165a662c4c729da9e36080242c3b",
       "version_major": 2,
       "version_minor": 0
      },
      "text/plain": [
       "Render HTML:   0%|          | 0/1 [00:00<?, ?it/s]"
      ]
     },
     "metadata": {},
     "output_type": "display_data"
    },
    {
     "data": {
      "application/vnd.jupyter.widget-view+json": {
       "model_id": "1047b55798a14a9793d1f8aecd363618",
       "version_major": 2,
       "version_minor": 0
      },
      "text/plain": [
       "Export report to file:   0%|          | 0/1 [00:00<?, ?it/s]"
      ]
     },
     "metadata": {},
     "output_type": "display_data"
    },
    {
     "data": {
      "application/vnd.jupyter.widget-view+json": {
       "model_id": "e3cd9f6436f249178bbddef032286893",
       "version_major": 2,
       "version_minor": 0
      },
      "text/plain": [
       "Summarize dataset:   0%|          | 0/5 [00:00<?, ?it/s]"
      ]
     },
     "metadata": {},
     "output_type": "display_data"
    },
    {
     "data": {
      "application/vnd.jupyter.widget-view+json": {
       "model_id": "f46f607b9feb4ffebe2a339598445d33",
       "version_major": 2,
       "version_minor": 0
      },
      "text/plain": [
       "Generate report structure:   0%|          | 0/1 [00:00<?, ?it/s]"
      ]
     },
     "metadata": {},
     "output_type": "display_data"
    },
    {
     "data": {
      "application/vnd.jupyter.widget-view+json": {
       "model_id": "f0bed18e55ea4ef894f692300a9b6367",
       "version_major": 2,
       "version_minor": 0
      },
      "text/plain": [
       "Render HTML:   0%|          | 0/1 [00:00<?, ?it/s]"
      ]
     },
     "metadata": {},
     "output_type": "display_data"
    },
    {
     "data": {
      "application/vnd.jupyter.widget-view+json": {
       "model_id": "d1dbb0f77cfc41469d0f0c50726bb7fb",
       "version_major": 2,
       "version_minor": 0
      },
      "text/plain": [
       "Export report to file:   0%|          | 0/1 [00:00<?, ?it/s]"
      ]
     },
     "metadata": {},
     "output_type": "display_data"
    },
    {
     "name": "stderr",
     "output_type": "stream",
     "text": [
      "                                                                                \r"
     ]
    },
    {
     "data": {
      "application/vnd.jupyter.widget-view+json": {
       "model_id": "0817832b2bcf497f976f6bc63f15cab3",
       "version_major": 2,
       "version_minor": 0
      },
      "text/plain": [
       "Summarize dataset:   0%|          | 0/5 [00:00<?, ?it/s]"
      ]
     },
     "metadata": {},
     "output_type": "display_data"
    },
    {
     "data": {
      "application/vnd.jupyter.widget-view+json": {
       "model_id": "1c2e09d6df4c45fea03b9f4f4bf281b2",
       "version_major": 2,
       "version_minor": 0
      },
      "text/plain": [
       "Generate report structure:   0%|          | 0/1 [00:00<?, ?it/s]"
      ]
     },
     "metadata": {},
     "output_type": "display_data"
    },
    {
     "data": {
      "application/vnd.jupyter.widget-view+json": {
       "model_id": "c0d900d46a4a4bc0a66b531170dd4280",
       "version_major": 2,
       "version_minor": 0
      },
      "text/plain": [
       "Render HTML:   0%|          | 0/1 [00:00<?, ?it/s]"
      ]
     },
     "metadata": {},
     "output_type": "display_data"
    },
    {
     "data": {
      "application/vnd.jupyter.widget-view+json": {
       "model_id": "da64950ef9c14ea39100c6b5bf07a702",
       "version_major": 2,
       "version_minor": 0
      },
      "text/plain": [
       "Export report to file:   0%|          | 0/1 [00:00<?, ?it/s]"
      ]
     },
     "metadata": {},
     "output_type": "display_data"
    }
   ],
   "source": [
    "all_pd_dict = {}\n",
    "\n",
    "for name, df in all_dfs_dict.items():\n",
    "    path = f\"notebooks/{name}.html\"\n",
    "    df_pd: pd.DataFrame = df.sample(0.001).toPandas().sample(1_000)  # type: ignore\n",
    "    all_pd_dict[name] = df_pd\n",
    "    if not Path(path).exists():\n",
    "        profile = ProfileReport(df_pd)\n",
    "        profile.to_file(path)\n",
    "    else:\n",
    "        print(f\"file exists: {path}; profiling skipped...\")"
   ]
  },
  {
   "cell_type": "markdown",
   "metadata": {},
   "source": [
    "## Missing Values"
   ]
  },
  {
   "cell_type": "code",
   "execution_count": 12,
   "metadata": {},
   "outputs": [],
   "source": [
    "def plot_missing(df):\n",
    "    nulls = df.isna().to_numpy(dtype=int).T\n",
    "    plt.imshow(nulls, aspect=\"auto\", interpolation=\"none\")\n",
    "    plt.yticks(ticks=range(df.shape[1]), labels=df.columns)\n",
    "    plt.show()"
   ]
  },
  {
   "cell_type": "code",
   "execution_count": 13,
   "metadata": {},
   "outputs": [
    {
     "name": "stdout",
     "output_type": "stream",
     "text": [
      "companies\n",
      "-------------------------------------------------------------------------------\n"
     ]
    },
    {
     "data": {
      "image/png": "[encoded data removed]",
      "text/plain": [
       "<Figure size 640x480 with 1 Axes>"
      ]
     },
     "metadata": {},
     "output_type": "display_data"
    },
    {
     "name": "stdout",
     "output_type": "stream",
     "text": [
      "\n",
      "\n",
      "relationships\n",
      "-------------------------------------------------------------------------------\n"
     ]
    },
    {
     "data": {
      "image/png": "[encoded data removed]",
      "text/plain": [
       "<Figure size 640x480 with 1 Axes>"
      ]
     },
     "metadata": {},
     "output_type": "display_data"
    },
    {
     "name": "stdout",
     "output_type": "stream",
     "text": [
      "\n",
      "\n",
      "persons\n",
      "-------------------------------------------------------------------------------\n"
     ]
    },
    {
     "data": {
      "image/png": "[encoded data removed]",
      "text/plain": [
       "<Figure size 640x480 with 1 Axes>"
      ]
     },
     "metadata": {},
     "output_type": "display_data"
    },
    {
     "name": "stdout",
     "output_type": "stream",
     "text": [
      "\n",
      "\n",
      "addresses\n",
      "-------------------------------------------------------------------------------\n"
     ]
    },
    {
     "data": {
      "image/png": "[encoded data removed]",
      "text/plain": [
       "<Figure size 640x480 with 1 Axes>"
      ]
     },
     "metadata": {},
     "output_type": "display_data"
    },
    {
     "name": "stdout",
     "output_type": "stream",
     "text": [
      "\n",
      "\n"
     ]
    }
   ],
   "source": [
    "for name, df in all_pd_dict.items():\n",
    "    print(name)\n",
    "    print(\"-\" * 79)\n",
    "    plot_missing(df)\n",
    "    print()\n",
    "    print()"
   ]
  },
  {
   "cell_type": "markdown",
   "metadata": {},
   "source": [
    "## Companies\n",
    "\n",
    "Quite a few companies are missing information from Companies House. Further investigation through Companies House suggests these are largely dissolved or dormant companies."
   ]
  },
  {
   "cell_type": "code",
   "execution_count": 16,
   "metadata": {},
   "outputs": [
    {
     "name": "stdout",
     "output_type": "stream",
     "text": [
      "+-------+----------+------+-------+\n",
      "|hasChID|hasSicCode|active|  count|\n",
      "+-------+----------+------+-------+\n",
      "|  false|      true|  null|    717|\n",
      "|   true|     false| false|  70316|\n",
      "|   true|     false|  true|4784668|\n",
      "|   true|      true|  null|2390772|\n",
      "|   true|      true| false|      2|\n",
      "+-------+----------+------+-------+\n",
      "\n"
     ]
    }
   ],
   "source": [
    "grouping = (\n",
    "    F.col(\"CompaniesHouseID\").isNotNull().alias(\"hasChID\"),\n",
    "    F.col(\"SICCode_SicText_1\").isNull().alias(\"hasSicCode\"),\n",
    "    F.col(\"CompanyStatus\").contains(\"Active\").alias(\"active\"),\n",
    ")\n",
    "companies_processed_df.groupBy(*grouping).count().orderBy(*grouping).show()"
   ]
  },
  {
   "cell_type": "code",
   "execution_count": 21,
   "metadata": {},
   "outputs": [
    {
     "name": "stdout",
     "output_type": "stream",
     "text": [
      "Pandas(Index=0, statementID='7094100818963926915', name='KAY AND COMPANY LIMITED', foundingDate='1895-06-08', dissolutionDate='2019-11-12', countryCode='GB', companiesHouseID='00044307', openCorporatesID='https://opencorporates.com/companies/gb/00044307', openOwnershipRegisterID='http://register.openownership.org/entities/59b9767567e4ebf3407917fb', CompanyCategory=None, CompanyStatus=None, Accounts_AccountCategory=None, SICCode_SicText_1=None)\n",
      "\n",
      "Pandas(Index=1, statementID='7633360340268313763', name='KEMP & HEWITT LIMITED', foundingDate='1896-08-15', dissolutionDate='2017-12-05', countryCode='GB', companiesHouseID='00049147', openCorporatesID='https://opencorporates.com/companies/gb/00049147', openOwnershipRegisterID='http://register.openownership.org/entities/59c4f08567e4ebf3403e60df', CompanyCategory=None, CompanyStatus=None, Accounts_AccountCategory=None, SICCode_SicText_1=None)\n",
      "\n",
      "Pandas(Index=2, statementID='7082278104334791553', name='THE FORMER RIBBLE MOTOR SERVICES LIMITED', foundingDate='1919-06-06', dissolutionDate=None, countryCode='GB', companiesHouseID='00155849', openCorporatesID='https://opencorporates.com/companies/gb/00155849', openOwnershipRegisterID='http://register.openownership.org/entities/59b9b7a067e4ebf3407a4e2f', CompanyCategory=None, CompanyStatus=None, Accounts_AccountCategory=None, SICCode_SicText_1=None)\n",
      "\n",
      "Pandas(Index=3, statementID='5018590284513618209', name='JAMES SKILTON LIMITED', foundingDate='1926-06-21', dissolutionDate='2021-06-09', countryCode='GB', companiesHouseID='00214531', openCorporatesID='https://opencorporates.com/companies/gb/00214531', openOwnershipRegisterID='http://register.openownership.org/entities/59b9b31067e4ebf34068128f', CompanyCategory=None, CompanyStatus=None, Accounts_AccountCategory=None, SICCode_SicText_1=None)\n",
      "\n",
      "Pandas(Index=4, statementID='10175358840839594342', name='KING & HINES LIMITED', foundingDate='1928-01-20', dissolutionDate=None, countryCode='GB', companiesHouseID='00227469', openCorporatesID='https://opencorporates.com/companies/gb/00227469', openOwnershipRegisterID='http://register.openownership.org/entities/59b9741067e4ebf3406d8e82', CompanyCategory=None, CompanyStatus=None, Accounts_AccountCategory=None, SICCode_SicText_1=None)\n",
      "\n"
     ]
    }
   ],
   "source": [
    "activity_null = (\n",
    "    companies_processed_df.filter(\n",
    "        (F.col(\"SICCode_SicText_1\").isNull())\n",
    "        & (F.col(\"CompaniesHouseID\").isNotNull())\n",
    "        & (F.col(\"CompanyStatus\").isNull())\n",
    "    )\n",
    "    .limit(10)\n",
    "    .toPandas()\n",
    ")\n",
    "for row in list(activity_null.itertuples())[:5]:\n",
    "    print(row)\n",
    "    print()"
   ]
  },
  {
   "cell_type": "code",
   "execution_count": 22,
   "metadata": {},
   "outputs": [
    {
     "name": "stdout",
     "output_type": "stream",
     "text": [
      "Pandas(Index=0, statementID='11405100442221021143', name='ABSOLUTE PROPERTY SERVICES GROUP LIMITED', foundingDate='2007-05-14', dissolutionDate='2019-10-10', countryCode='GB', companiesHouseID=None, openCorporatesID='https://opencorporates.com/companies/gb/06246269', openOwnershipRegisterID='http://register.openownership.org/entities/59b99e0e67e4ebf3401982ad', CompanyCategory=None, CompanyStatus=None, Accounts_AccountCategory=None, SICCode_SicText_1=None)\n",
      "\n",
      "Pandas(Index=1, statementID='14922368780388914193', name='ST GEORGE BAPTIST CHURCH', foundingDate=None, dissolutionDate=None, countryCode='GB', companiesHouseID=None, openCorporatesID='https://opencorporates.com/companies/gb/CE013574', openOwnershipRegisterID='http://register.openownership.org/entities/5b16b3789dfc3fae18128a97', CompanyCategory=None, CompanyStatus=None, Accounts_AccountCategory=None, SICCode_SicText_1=None)\n",
      "\n",
      "Pandas(Index=2, statementID='15291571826813258519', name='Gillian Smith', foundingDate='2007-02-15', dissolutionDate='2009-05-12', countryCode='GB', companiesHouseID=None, openCorporatesID='https://opencorporates.com/companies/gb/06108810', openOwnershipRegisterID='http://register.openownership.org/entities/59b972ca67e4ebf34067dda6', CompanyCategory=None, CompanyStatus=None, Accounts_AccountCategory=None, SICCode_SicText_1=None)\n",
      "\n",
      "Pandas(Index=3, statementID='18202117511281828949', name='THE PETERKINS CHARITABLE FOUNDATION', foundingDate=None, dissolutionDate=None, countryCode='GB', companiesHouseID=None, openCorporatesID='https://opencorporates.com/companies/gb/CS000793', openOwnershipRegisterID='http://register.openownership.org/entities/59b97c4d67e4ebf3409679db', CompanyCategory=None, CompanyStatus=None, Accounts_AccountCategory=None, SICCode_SicText_1=None)\n",
      "\n",
      "Pandas(Index=4, statementID='6427513137753827881', name='University Of Wales', foundingDate=None, dissolutionDate=None, countryCode='GB', companiesHouseID=None, openCorporatesID='https://opencorporates.com/companies/gb/RC000676', openOwnershipRegisterID='http://register.openownership.org/entities/59b95ed967e4ebf3400559b2', CompanyCategory=None, CompanyStatus=None, Accounts_AccountCategory=None, SICCode_SicText_1=None)\n",
      "\n"
     ]
    }
   ],
   "source": [
    "no_ch_id = (\n",
    "    companies_processed_df.filter((F.col(\"CompaniesHouseID\").isNull()))\n",
    "    .limit(10)\n",
    "    .toPandas()\n",
    ")\n",
    "for row in list(no_ch_id.itertuples())[:5]:\n",
    "    print(row)\n",
    "    print()"
   ]
  }
 ],
 "metadata": {
  "interpreter": {
   "hash": "110e85c3fc5b8c82f49ba0bdae2ae83f688488294eba7f71d9f9e7a626a48291"
  },
  "kernelspec": {
   "display_name": "Python 3.10.4 ('.venv': poetry)",
   "language": "python",
   "name": "python3"
  },
  "language_info": {
   "codemirror_mode": {
    "name": "ipython",
    "version": 3
   },
   "file_extension": ".py",
   "mimetype": "text/x-python",
   "name": "python",
   "nbconvert_exporter": "python",
   "pygments_lexer": "ipython3",
   "version": "3.10.4"
  },
  "orig_nbformat": 4
 },
 "nbformat": 4,
 "nbformat_minor": 2
}
